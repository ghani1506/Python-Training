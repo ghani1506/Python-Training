{
 "cells": [
  {
   "cell_type": "code",
   "execution_count": 1,
   "id": "32e5acb9-fc71-4352-a0a9-a924a4b4bac7",
   "metadata": {},
   "outputs": [],
   "source": [
    "# This part is an important aspect of using python (importing necessary libraries)\n",
    "# The import keyword lets you import entire libraries or specific library functions into your code."
   ]
  },
  {
   "cell_type": "markdown",
   "id": "fe1e28da-5b68-464c-ad41-9ed7622a25d6",
   "metadata": {},
   "source": [
    "---\n",
    "---\n",
    "# **DEVELOPING (D1)**\n",
    "## OBJECTIVE : BY THE END OF THIS LESSON YOU SHOULD BE ABLE TO :\n",
    "### - Create a list\n",
    "### - Using len()code\n",
    "### - List Indexing and Modifications\n",
    "---"
   ]
  },
  {
   "cell_type": "markdown",
   "id": "4b966353-9a57-4f7c-b660-141602f9b2e0",
   "metadata": {},
   "source": [
    "# Creating a list\n",
    "- A list is a type of data grouped together. we can check the data type using type ()function\n",
    "\n",
    "### A list is an ordered collection of elements or items. \n",
    "### The syntax for a list is that the elements are separated by commas ',' \n",
    "### and all the items in the list are enclosed with square brackets, [ ]. \n",
    "### A variable that contains a list is created as follows."
   ]
  },
  {
   "cell_type": "code",
   "execution_count": 2,
   "id": "63da48fa-ac34-4f1b-bc6f-46fddc0af77e",
   "metadata": {
    "tags": []
   },
   "outputs": [],
   "source": [
    "# Example 1 : A list of metal under the the variable named metal_list\n",
    "\n",
    "metal_list = [\"Iron\", \"Copper\", \"Aluminium\", \"Gold\", \"Silver\", \"Platinum\", \"Zinc\"]"
   ]
  },
  {
   "cell_type": "code",
   "execution_count": 3,
   "id": "9c20a9f1-30c5-45e5-bb0d-c3741e69e8aa",
   "metadata": {
    "tags": []
   },
   "outputs": [
    {
     "name": "stdout",
     "output_type": "stream",
     "text": [
      "['Iron', 'Copper', 'Aluminium', 'Gold', 'Silver', 'Platinum', 'Zinc']\n"
     ]
    }
   ],
   "source": [
    "# print() function can be used to print the list as shown below:\n",
    "\n",
    "print (metal_list)"
   ]
  },
  {
   "cell_type": "code",
   "execution_count": 4,
   "id": "60cc8f98-ecb0-40cf-8eee-01bf6d81bf1f",
   "metadata": {
    "tags": []
   },
   "outputs": [
    {
     "data": {
      "text/plain": [
       "list"
      ]
     },
     "execution_count": 4,
     "metadata": {},
     "output_type": "execute_result"
    }
   ],
   "source": [
    "# Let us check the data type using 'type()'\n",
    "\n",
    "type (metal_list)"
   ]
  },
  {
   "cell_type": "markdown",
   "id": "cb9a41af-6299-4800-9597-708b24a85936",
   "metadata": {
    "tags": []
   },
   "source": [
    "# **INTERMEDIATE - DEVELOPING (D1)**\n",
    "## OBJECTIVE : BY THE END OF THIS LESSON YOU SHOULD BE ABLE TO :\n",
    "### - Create a list\n",
    "### - Using len()\n",
    "### - List Indexing and Modifications\n",
    "---"
   ]
  },
  {
   "cell_type": "markdown",
   "id": "99fbc36b-d7ee-46a6-b760-e1bba6a8ea7f",
   "metadata": {},
   "source": [
    "# Using \"len ()\" \n",
    "- len () is used to calculate the number of elements in a list"
   ]
  },
  {
   "cell_type": "code",
   "execution_count": 5,
   "id": "4e723592-7700-4895-8752-8760ef0b3c63",
   "metadata": {
    "tags": []
   },
   "outputs": [
    {
     "data": {
      "text/plain": [
       "7"
      ]
     },
     "execution_count": 5,
     "metadata": {},
     "output_type": "execute_result"
    }
   ],
   "source": [
    "# Using 'len()' to find out number of elements in a list \n",
    "\n",
    "len(metal_list)"
   ]
  },
  {
   "cell_type": "markdown",
   "id": "e979358c-d546-4b99-bb46-846be64878d3",
   "metadata": {},
   "source": [
    "# Nested list\n",
    "- A nested list is a list in a list. A nested list is a list of lists, or any list that has another list as an element (a sublist). They can be helpful if we want to create a matrix or need to store a sublist along with other data types."
   ]
  },
  {
   "cell_type": "code",
   "execution_count": 6,
   "id": "6def2c5a-5ac6-4f62-b443-0802a04cb26c",
   "metadata": {
    "tags": []
   },
   "outputs": [
    {
     "name": "stdout",
     "output_type": "stream",
     "text": [
      "[4, 'Sodium', 3.1415, ['Iron', 'Copper', 'Aluminium', 'Gold', 'Silver', 'Platinum', 'Zinc']]\n"
     ]
    }
   ],
   "source": [
    "# The metal_list contains only data of string-type. \n",
    "# However, a list can contain any data type, a mixture of data types, or even another list.\n",
    "\n",
    "# Example 2\n",
    "mixed_list = [4, 'Sodium', 3.1415, metal_list] # This is also known as nested list (A list within a list) where metal_list is added.\n",
    "\n",
    "print(mixed_list)"
   ]
  },
  {
   "cell_type": "code",
   "execution_count": 7,
   "id": "2ee06c40-9694-4f06-a247-d606adb2a5c0",
   "metadata": {
    "tags": []
   },
   "outputs": [],
   "source": [
    "# Example 3 \n",
    "# Nested list is useful in creating matrices list\n",
    "# Create a matrix of size 4 x 3\n",
    "# Here, there are 3 nested lists separated by \"[_],\"\n",
    "\n",
    "matrix = [[0, 1, 2],\n",
    "          [3, 4, 5],\n",
    "          [6, 7, 8],\n",
    "          [9, 10, 11]]"
   ]
  },
  {
   "cell_type": "code",
   "execution_count": 8,
   "id": "8f02b822-6a7e-49b3-8f36-884e347cdf3f",
   "metadata": {
    "tags": []
   },
   "outputs": [],
   "source": [
    "# Now let us create a variable named rows and column and calculate the number of elements in each variable.\n",
    "\n",
    "rows = len(matrix)  # no of rows is no of sublists i.e. len of list\n",
    "cols = len(matrix[0])  # no of cols is len of sublist"
   ]
  },
  {
   "cell_type": "code",
   "execution_count": 9,
   "id": "62b0cdac-3c7f-4575-a0d1-19530a8441f0",
   "metadata": {
    "tags": []
   },
   "outputs": [
    {
     "data": {
      "text/plain": [
       "4"
      ]
     },
     "execution_count": 9,
     "metadata": {},
     "output_type": "execute_result"
    }
   ],
   "source": [
    "rows"
   ]
  },
  {
   "cell_type": "code",
   "execution_count": 10,
   "id": "2074a083-0c1b-4c51-8f35-295ed2e5947d",
   "metadata": {
    "tags": []
   },
   "outputs": [
    {
     "data": {
      "text/plain": [
       "3"
      ]
     },
     "execution_count": 10,
     "metadata": {},
     "output_type": "execute_result"
    }
   ],
   "source": [
    "cols"
   ]
  },
  {
   "cell_type": "markdown",
   "id": "82b69e17-8a84-4713-ad07-730c6d60143a",
   "metadata": {},
   "source": [
    "# Task D1.1 - Create and print a variable named 'Energy_type' which contains the following:\n",
    "- Kinetic, Potential, Thermal, Chemical, Nuclear, Electrical"
   ]
  },
  {
   "cell_type": "code",
   "execution_count": 11,
   "id": "b40ff1c5-ed5e-4188-bbfc-c8444af39a2d",
   "metadata": {},
   "outputs": [],
   "source": [
    "# Task D1.2 - Calculate the number of elements in 'Energy_type' using len()\n",
    "# Answer"
   ]
  },
  {
   "cell_type": "code",
   "execution_count": 12,
   "id": "e2799bc8-caca-4a41-9e96-86084c1c1903",
   "metadata": {},
   "outputs": [],
   "source": [
    "# Task D1.3 - Create a variable named 'my_matrix' that contain a  nested list of 5 x 3 matrix. You can randomly choose any numbers\n",
    "# Answer"
   ]
  },
  {
   "cell_type": "markdown",
   "id": "86550b54-66cb-48d1-9ac4-ecde8cb2e0df",
   "metadata": {},
   "source": [
    "# **INTERMEDIATE - DEVELOPING (D1)**\n",
    "## OBJECTIVE : BY THE END OF THIS LESSON YOU SHOULD BE ABLE TO :\n",
    "### - Create a list\n",
    "### - Using len()\n",
    "### - List Indexing and Modifications\n",
    "---"
   ]
  },
  {
   "cell_type": "markdown",
   "id": "587c1fe8-6ed0-4192-b2b0-ec8c099ab8fa",
   "metadata": {
    "tags": []
   },
   "source": [
    "# List indexing\n",
    "- Individual elements of a list can be referred to using indexing. \n",
    "- This uses the square brackets '[]' and the index of the element to be accessed. So to get the first item in the list.\n",
    "- In list indexing, zero-based indexing is commonly used."
   ]
  },
  {
   "cell_type": "code",
   "execution_count": 13,
   "id": "a2a48003-35cd-49c4-9c59-b3ef26bcb1d6",
   "metadata": {
    "tags": []
   },
   "outputs": [
    {
     "data": {
      "text/plain": [
       "'Iron'"
      ]
     },
     "execution_count": 13,
     "metadata": {},
     "output_type": "execute_result"
    }
   ],
   "source": [
    "metal_list[0] # The zero-based indexing uses 0 to locate the first element in a list."
   ]
  },
  {
   "cell_type": "code",
   "execution_count": 14,
   "id": "c04a58a5-6989-43c2-b88b-c4c5c0b77b60",
   "metadata": {
    "tags": []
   },
   "outputs": [],
   "source": [
    "# Task D1.4 - Locate the second element of the list 'metal_list'\n",
    "# Answer"
   ]
  },
  {
   "cell_type": "code",
   "execution_count": 15,
   "id": "4e077bc8-1cec-4df9-b757-b82fedcf56a2",
   "metadata": {},
   "outputs": [],
   "source": [
    "# Task Task D1.5 - Locate the fifth element of the list 'metal_list'\n",
    "# Answer"
   ]
  },
  {
   "cell_type": "code",
   "execution_count": 16,
   "id": "3acb25c5-b673-45f3-908e-4cc94532adf2",
   "metadata": {},
   "outputs": [],
   "source": [
    "# Task Task D1.6 - Discover what happen if the number index is set to negative number E.g 'metal_list[-1]'\n",
    "# Answer"
   ]
  },
  {
   "cell_type": "code",
   "execution_count": 17,
   "id": "8ef0539e-4348-4f1d-bd2b-b599ddd72b78",
   "metadata": {},
   "outputs": [],
   "source": [
    "# Task Task D1.7 \n",
    "# - print or simply type the variable 'Energy_type'\n",
    "# - Locate the first and the fourth element in your list using '[]' "
   ]
  },
  {
   "cell_type": "code",
   "execution_count": 18,
   "id": "968cf2f1-bf25-4503-a1ba-90efeff5fc6a",
   "metadata": {},
   "outputs": [],
   "source": [
    "# Answer"
   ]
  },
  {
   "cell_type": "markdown",
   "id": "df1893e2-93df-417b-86e6-e5d1716ee616",
   "metadata": {},
   "source": [
    "# List modification\n",
    "\n",
    "- You can add and delete element in a list"
   ]
  },
  {
   "cell_type": "code",
   "execution_count": 19,
   "id": "5b0d1381-416c-4c27-b7e9-039f222a4ac8",
   "metadata": {
    "tags": []
   },
   "outputs": [],
   "source": [
    "planets = [\"Jupiter\", \"Neptune\", \"Venus\", \"Earth\", \"Mercury\", \"Mars\", \"Saturn\"]"
   ]
  },
  {
   "cell_type": "code",
   "execution_count": 20,
   "id": "6be82120-b17f-4f78-ba7b-a182d8e98b4b",
   "metadata": {
    "tags": []
   },
   "outputs": [],
   "source": [
    "# Adding Elements From a List using '+' method\n",
    "\n",
    "# To add the list we can do the following:\n",
    "\n",
    "planets = planets + [\"Uranus\"] # If you execute this, \"Uranus\" will be added to the list."
   ]
  },
  {
   "cell_type": "code",
   "execution_count": 21,
   "id": "ab1b1358-f641-40f7-8989-604a02e09c4e",
   "metadata": {
    "tags": []
   },
   "outputs": [],
   "source": [
    "# Try to print or just type in the variable 'planets' to see the changes"
   ]
  },
  {
   "cell_type": "code",
   "execution_count": 22,
   "id": "05f1e42c-a3e2-4a57-bab8-a80843a0d1a7",
   "metadata": {
    "tags": []
   },
   "outputs": [],
   "source": [
    "# Deleting Elements From a List using '.remove' method\n",
    "\n",
    "# There are also methods to deleting or removing items from a list. \n",
    "# The remove method will find the first item in the list that matches the argument and remove this.\n",
    "# To delete the list we can do the following:\n",
    "\n",
    "planets.remove(\"Venus\") # If you execute this, \"Venus\" will be deleted from the list."
   ]
  },
  {
   "cell_type": "code",
   "execution_count": 23,
   "id": "999065bf-a295-4974-9d57-e10cc237ffbe",
   "metadata": {
    "tags": []
   },
   "outputs": [
    {
     "data": {
      "text/plain": [
       "['Jupiter', 'Neptune', 'Earth', 'Mercury', 'Mars', 'Saturn', 'Uranus']"
      ]
     },
     "execution_count": 23,
     "metadata": {},
     "output_type": "execute_result"
    }
   ],
   "source": [
    "# Venus is deleted \n",
    "planets"
   ]
  },
  {
   "cell_type": "markdown",
   "id": "1468707e-3e2f-46e6-97da-94bfe23b7188",
   "metadata": {},
   "source": [
    "# **DEVELOPING (D2)**\n",
    "## OBJECTIVE : BY THE END OF THIS LESSON YOU SHOULD BE ABLE TO :\n",
    "### - Comment Codes\n",
    "### - Importing libraries\n",
    "### - Identify and Debug Errors\n",
    "---"
   ]
  },
  {
   "cell_type": "markdown",
   "id": "e68b877d-fbff-4eb4-b858-b02286c264fc",
   "metadata": {},
   "source": [
    "# Commenting a code\n",
    "## Why Commenting Your Code Is So Important?\n",
    "* Comments can be used to explain Python code.\n",
    "* Comments can be used to make the code more readable.\n",
    "* Comments can be used to prevent execution when testing code.\n",
    "* Before diving into the different types of comments, let’s take a closer look at why commenting your code is so important.\n",
    "* Consider the following two scenarios in which a programmer decided not to comment their code."
   ]
  },
  {
   "cell_type": "code",
   "execution_count": 24,
   "id": "159d8d2a-5424-4b0f-811d-1465e8df843c",
   "metadata": {
    "tags": []
   },
   "outputs": [
    {
     "name": "stdout",
     "output_type": "stream",
     "text": [
      "The pressure is 4.926 atm\n"
     ]
    }
   ],
   "source": [
    "# Example 1 - Commenting Codes\n",
    "\n",
    "# This code is used to calculate Pressure of an Ideal Gas using Ideal gas Law.\n",
    "# Ideal Gas Law is given by PV = nRT\n",
    "\n",
    "# Given values\n",
    "V = 10  # Volume in liters\n",
    "n = 2   # Number of moles\n",
    "T = 300  # Temperature in Kelvin\n",
    "R = 0.0821  # Ideal gas constant in L·atm/(mol·K)\n",
    "\n",
    "# Calculate pressure\n",
    "P = (n * R * T) / V\n",
    "\n",
    "# Prints the result\n",
    "print(f\"The pressure is {P} atm\")"
   ]
  },
  {
   "cell_type": "code",
   "execution_count": 25,
   "id": "d2f90517-aaf7-4225-a45d-fced5fe55948",
   "metadata": {},
   "outputs": [
    {
     "name": "stdout",
     "output_type": "stream",
     "text": [
      "The force is 49.0 newtons\n"
     ]
    }
   ],
   "source": [
    "# Example 2 - Commenting Codes\n",
    "# This code is used to calculate weight using Newton's Second Law\n",
    "# Newton's Second Law , F = ma\n",
    "\n",
    "# Given values\n",
    "m = 5  # Mass in kilograms\n",
    "a = 9.8  # Acceleration in meters per second squared (approximate acceleration due to gravity)\n",
    "\n",
    "# Calculate force\n",
    "F = m * a\n",
    "\n",
    "# Prints the result\n",
    "print(f\"The force is {F} newtons\")"
   ]
  },
  {
   "cell_type": "code",
   "execution_count": 26,
   "id": "c757acaf-7b8c-4da4-9a1f-10c64d9427d3",
   "metadata": {
    "tags": []
   },
   "outputs": [],
   "source": [
    "# Task D2.1 - Add comments to the following code\n",
    "# Question : A rifle shoots a 4.25 g bullet at a velocity of 965 m s–1. What is its kinetic energy?\n",
    "# Kinetic energy formula is given by, KE = 1/2 * m * v^2\n",
    "# use ** for power\n",
    "\n",
    "# Answer"
   ]
  },
  {
   "cell_type": "code",
   "execution_count": 27,
   "id": "75c070d0-256d-41be-b027-6ac69d15d609",
   "metadata": {},
   "outputs": [],
   "source": [
    "# Task D2.2 - Add comments to the following code\n",
    "# Question : Calculate the amount of carbon atoms in 6.0 g of carbon. (Relative atomic mass: C = 12.0)\n",
    "# n = m / M (Where, n = The number of moles, m = The given mass, and M = The molar mass)\n",
    "\n",
    "# Answer"
   ]
  },
  {
   "cell_type": "markdown",
   "id": "bfd5964d-198b-414b-88cf-28424212720f",
   "metadata": {},
   "source": [
    "# **DEVELOPING (D2)**\n",
    "## OBJECTIVE : BY THE END OF THIS LESSON YOU SHOULD BE ABLE TO :\n",
    "### - Comment Codes\n",
    "### - Importing libraries\n",
    "### - Identify and Debug Errors\n",
    "---"
   ]
  },
  {
   "cell_type": "markdown",
   "id": "1369cef7-2245-4b45-af4a-af5a2df3edb7",
   "metadata": {},
   "source": [
    "# Importing libraries\n",
    "* If you look back at the first CODE cell of this notebook, you can see there are a lot of importing \"**modules**\"\n",
    "* The main reason we import libraries into Python is to use code that others have already written. Libraries are collections of ready-made code that add extra features and make difficult tasks easier. By importing libraries, we can use this existing code to do things without having to write it all ourselves.The \"*as*\" command states the abbreviated name we want to assign to the module. \n",
    "### At this stage, we will learn to import some required libraries that enable us to do the following:\n",
    " - Data Analysis and Visualisation \n",
    " - Simulations\n",
    " - Modelling\n",
    " - Fast calculations\n",
    "### There are a lot of libraries in python that can be imported depending on our needs. \n",
    "- If you have installed jupyter notebook and you do not have these libraries installed, you can use 'pip install [package_name]' and execute in the cell.E.g 'pip install numpy'. For the purpose of this training, We will only focus on these libraries:\n",
    " - matplotlib.pyplot\n",
    " - numpy\n",
    " - pandas"
   ]
  },
  {
   "cell_type": "markdown",
   "id": "d2643669-4616-475d-8775-01ba837b6bc6",
   "metadata": {},
   "source": [
    "# Matplotlib - Using \"matplotlib.pyplot\"\n",
    "\n",
    "## Matplotlib is a comprehensive library for creating static, animated, and interactive visualizations in Python. It makes easy things easy and hard things possible.\n",
    "- Create publication quality plots.\n",
    "- Make interactive figures that can zoom, pan, update.\n",
    "- Customize visual style and layout.\n",
    "- Export to many file formats.\n",
    "- Embed in JupyterLab and Graphical User Interfaces.\n",
    "- Use a rich array of third-party packages built on Matplotlib."
   ]
  },
  {
   "cell_type": "code",
   "execution_count": 28,
   "id": "5113cd90-87cf-4df9-88ba-25db851710c5",
   "metadata": {
    "tags": []
   },
   "outputs": [
    {
     "data": {
      "image/png": "[encoded data removed]",
      "text/plain": [
       "<Figure size 640x480 with 1 Axes>"
      ]
     },
     "metadata": {},
     "output_type": "display_data"
    }
   ],
   "source": [
    "# Example 1: Importing matplotlib for plotting\n",
    "# This code will be successfully executed \n",
    "\n",
    "# Import the matplotlib library\n",
    "# The \"as\" command states the abbreviated name we want to assign to the module.\n",
    "import matplotlib.pyplot as plt\n",
    "\n",
    "# Create some data to plot\n",
    "x = [1, 2, 3, 4, 5]\n",
    "y = [2, 3, 5, 7, 11]\n",
    "\n",
    "# Create a simple line plot\n",
    "# Python code to do a line plot\n",
    "plt.plot(x, y)\n",
    "plt.xlabel('X Axis')\n",
    "plt.ylabel('Y Axis')\n",
    "plt.title('Simple Line Plot')\n",
    "plt.show()"
   ]
  },
  {
   "cell_type": "code",
   "execution_count": 29,
   "id": "32b71769-ed93-4b8a-9cce-12e476805896",
   "metadata": {
    "tags": []
   },
   "outputs": [
    {
     "data": {
      "image/png": "[encoded data removed]",
      "text/plain": [
       "<Figure size 640x480 with 1 Axes>"
      ]
     },
     "metadata": {},
     "output_type": "display_data"
    }
   ],
   "source": [
    "# This code will NOT be successfully executed \n",
    "# Missing library!\n",
    "\n",
    "# Create some data to plot\n",
    "x = [1, 2, 3, 4, 5]\n",
    "y = [2, 3, 5, 7, 11]\n",
    "\n",
    "# Create a line plot\n",
    "plt.plot(x, y)\n",
    "plt.xlabel('X Axis')\n",
    "plt.ylabel('Y Axis')\n",
    "plt.title('Simple Line Plot')\n",
    "plt.show()"
   ]
  },
  {
   "cell_type": "code",
   "execution_count": 30,
   "id": "9edaa31f-e6d9-41bc-a47b-22d3ca6aa933",
   "metadata": {
    "tags": []
   },
   "outputs": [
    {
     "data": {
      "text/plain": [
       "[<mpl_toolkits.mplot3d.art3d.Line3D at 0x110aea790>]"
      ]
     },
     "execution_count": 30,
     "metadata": {},
     "output_type": "execute_result"
    },
    {
     "data": {
      "image/png": "[encoded data removed]",
      "text/plain": [
       "<Figure size 640x480 with 1 Axes>"
      ]
     },
     "metadata": {},
     "output_type": "display_data"
    }
   ],
   "source": [
    "# Example 2: Importing matplotlib for plotting\n",
    "# This code will be successfully executed \n",
    "\n",
    "x = [1, 2, 3, 4, 5]\n",
    "y = [1, 4, 9, 16, 25]\n",
    "z = [1, 8, 27, 64, 125]\n",
    "# Creating the figure object\n",
    "fig = plt.figure()\n",
    "# keeping the projection = 3d\n",
    "# creates the 3d plot\n",
    "ax = plt.axes(projection = '3d')\n",
    "ax.plot3D(z, y, x)"
   ]
  },
  {
   "cell_type": "code",
   "execution_count": 31,
   "id": "9364f582-a913-4aa6-b43b-b423843d23f5",
   "metadata": {
    "tags": []
   },
   "outputs": [],
   "source": [
    "# Task D2.3 - Now your turn to do a 3d-plot same as above and in your code please\n",
    "# import matplotlib\n",
    "\n",
    "j = [0, 1, 5, 2, 3]\n",
    "k = [3, 1, 7, 2, 50]\n",
    "l = [2, 2, 2, 70, 250]\n",
    "\n",
    "# Missing code"
   ]
  },
  {
   "cell_type": "markdown",
   "id": "d9fbc3dd-44aa-4158-93ff-a2d8b7e6b4f7",
   "metadata": {},
   "source": [
    "# NumPy (Numerical Python) \n",
    "## NumPy is an open source Python library that’s widely used in science and engineering. \n",
    "### Why NumPy? NumPy shines when there are large quantities of “homogeneous” (same-type) such as data in lists or arrays to be processed on the CPU.\n",
    "\n",
    "### The NumPy library contain: \n",
    "- Multidimensional array data structures \n",
    "- A large library of functions that operate efficiently on these data structures\n",
    "- When you import NumPy library, you can simply use \"import numpy as np\""
   ]
  },
  {
   "cell_type": "code",
   "execution_count": 33,
   "id": "3d59f366-3773-428a-ab6a-6ac0d3be837a",
   "metadata": {
    "tags": []
   },
   "outputs": [
    {
     "data": {
      "text/plain": [
       "array([1, 2, 3, 4, 5, 6])"
      ]
     },
     "execution_count": 33,
     "metadata": {},
     "output_type": "execute_result"
    }
   ],
   "source": [
    "# Example 3: Importing numpy to create a one-dimensional array\n",
    "import numpy as np\n",
    "a = np.array([1, 2, 3, 4, 5, 6])\n",
    "a"
   ]
  },
  {
   "cell_type": "code",
   "execution_count": 37,
   "id": "1cc33eeb-e21c-4ddf-a972-dbca63441491",
   "metadata": {
    "tags": []
   },
   "outputs": [
    {
     "data": {
      "text/plain": [
       "array([[ 1,  2,  3,  4],\n",
       "       [ 5,  6,  7,  8],\n",
       "       [ 9, 10, 11, 12]])"
      ]
     },
     "execution_count": 37,
     "metadata": {},
     "output_type": "execute_result"
    }
   ],
   "source": [
    "# Example 4: Importing numpy to create a 3-dimensional array\n",
    "import numpy as np\n",
    "b = np.array([[1, 2, 3, 4], [5, 6, 7, 8], [9, 10, 11, 12]])\n",
    "b"
   ]
  },
  {
   "cell_type": "code",
   "execution_count": 35,
   "id": "ba5e93f8-c50d-4aa4-aa0d-8447abc2c55f",
   "metadata": {
    "tags": []
   },
   "outputs": [
    {
     "data": {
      "text/plain": [
       "array([1.        , 1.41421356, 1.73205081, 2.        , 2.23606798,\n",
       "       2.44948974])"
      ]
     },
     "execution_count": 35,
     "metadata": {},
     "output_type": "execute_result"
    }
   ],
   "source": [
    "# Example 5: Importing numpy to calculate square root of an array\n",
    "import numpy as np\n",
    "square_root_a = np.sqrt(a)\n",
    "square_root_a"
   ]
  },
  {
   "cell_type": "code",
   "execution_count": 36,
   "id": "a2c4b768-f59a-48fa-959d-e6a9635565f9",
   "metadata": {
    "tags": []
   },
   "outputs": [
    {
     "data": {
      "text/plain": [
       "array([[1.        , 1.41421356, 1.73205081, 2.        ],\n",
       "       [2.23606798, 2.44948974, 2.64575131, 2.82842712],\n",
       "       [3.        , 3.16227766, 3.31662479, 3.46410162]])"
      ]
     },
     "execution_count": 36,
     "metadata": {},
     "output_type": "execute_result"
    }
   ],
   "source": [
    "# Example 6: Importing numpy to calculate square root of an array\n",
    "import numpy as np\n",
    "square_root_b = np.sqrt(b)\n",
    "square_root_b"
   ]
  },
  {
   "cell_type": "code",
   "execution_count": null,
   "id": "0b583b10-9ba8-4af4-97dc-8ecad3aecfcf",
   "metadata": {
    "tags": []
   },
   "outputs": [],
   "source": [
    "# Example 7: Importing numpy in a stem plot\n",
    "# Here we apply a function called \".linspace\" to create an array with data from 0.1 to 2pi with 41 data points\n",
    "# np.linspace(start, stop, number of values)\n",
    "# We also use \".exp\" and \".sin\"for calculating exponential and sine of each value in the array.\n",
    "# \n",
    "import matplotlib.pyplot as plt \n",
    "import numpy as np \n",
    "\n",
    "x = np.linspace(0.1, 2 * np.pi, 41) \n",
    "y = np.exp(np.sin(x)) \n",
    "\n",
    "plt.stem(x, y) \n",
    "plt.show() "
   ]
  },
  {
   "cell_type": "markdown",
   "id": "a3a2fef6-ab30-4c0d-a5e9-40bd4842841b",
   "metadata": {},
   "source": [
    "# Pandas - Library used to do Data Management\n",
    "## DataFrame - When working with 2-D tabular data, such as data stored in spreadsheets or databases, pandas is the right tool for you. Pandas will help you to explore, clean, and process your data. In pandas, a data table is called a DataFrame.\n",
    "\n",
    "### We will use pandas in next level when we deal with data management and manipulations"
   ]
  },
  {
   "cell_type": "code",
   "execution_count": null,
   "id": "28c4cc5c-5610-457f-9286-220a1f981e27",
   "metadata": {
    "tags": []
   },
   "outputs": [],
   "source": [
    "# Example 8: Importing pandas to do DataFrame of 3 lists\n",
    "\n",
    "# Import the pandas library\n",
    "import pandas as pd\n",
    "\n",
    "# Create data for planetary characteristics\n",
    "planetary_data = {\n",
    "    'Planet': ['Mercury', 'Venus', 'Earth', 'Mars', 'Jupiter', 'Saturn', 'Uranus', 'Neptune'],\n",
    "    'Mass (kg)': [3.30e23, 4.87e24, 5.97e24, 6.42e23, 1.90e27, 5.68e26, 8.68e25, 1.02e26],\n",
    "    'Diameter (km)': [4879, 12104, 12756, 6792, 139820, 116460, 50724, 49244],\n",
    "}\n",
    "\n",
    "# Create a DataFrame from the planetary data\n",
    "planets_df = pd.DataFrame(planetary_data)\n",
    "\n",
    "# Display the DataFrame\n",
    "\n",
    "print(planets_df)"
   ]
  },
  {
   "cell_type": "code",
   "execution_count": null,
   "id": "797759cd-98b7-4da9-ac08-715fa5c9a2e5",
   "metadata": {
    "tags": []
   },
   "outputs": [],
   "source": [
    "# Task D2.4 - Complete the DataFrame code of the chemical properties below. Add what is missing\n",
    "\n",
    "# Import the pandas library\n",
    "\n",
    "import pandas as pd\n",
    "\n",
    "# Create data for chemical elements properties\n",
    "elements_data = {\n",
    "    'Element': ['Hydrogen', 'Helium', 'Lithium', 'Beryllium', 'Boron'],\n",
    "    'Symbol': ['H', 'He', 'Li', 'Be', 'B'],\n",
    "    'Atomic Number': [1, 2, 3, 4, 5],\n",
    "    'Atomic Mass (u)': [1.008, 4.0026, 6.94, 9.0122, 10.81],\n",
    "}\n",
    "\n",
    "# Create a DataFrame from the chemical elements data\n",
    "# YOUR ANSWER HERE!\n",
    "\n",
    "\n",
    "# Display the DataFrame\n",
    "print()"
   ]
  },
  {
   "cell_type": "markdown",
   "id": "30606221-793c-48df-a36e-6f5e07f52cf6",
   "metadata": {
    "tags": []
   },
   "source": [
    "# **DEVELOPING (D2)**\n",
    "## OBJECTIVE : BY THE END OF THIS LESSON YOU SHOULD BE ABLE TO :\n",
    "### - Comment Codes\n",
    "### - Importing libraries\n",
    "### - Identify and Debug Errors\n",
    "---\n",
    "## - Commenting Codes, Importing libraries, Errors and Debugging and Control Flow\n",
    "### Error and Debugging\n",
    "- There are a lot of error types in Python, we will focus simple examples namely syntax error and runtime errors and practice how to debug the error in this section."
   ]
  },
  {
   "cell_type": "code",
   "execution_count": null,
   "id": "a9f2a460-489e-488b-8a82-f73577f34f89",
   "metadata": {
    "tags": []
   },
   "outputs": [],
   "source": [
    "# Example 1 - Misspelled Keywords: Using incorrect Python keywords.\n",
    "prit(\"Learning Python is fun!\") # Should be \"print\" and NOT \"prit\""
   ]
  },
  {
   "cell_type": "code",
   "execution_count": null,
   "id": "a5a3051b-e0de-4ea1-abe4-eb37b1924e2d",
   "metadata": {},
   "outputs": [],
   "source": [
    "# Debug the code"
   ]
  },
  {
   "cell_type": "code",
   "execution_count": null,
   "id": "be01cae5-91cf-406e-9731-ffe8350f8a4e",
   "metadata": {
    "tags": []
   },
   "outputs": [],
   "source": [
    "# Example 2\n",
    "my_list = [1,3,2,1,4,5,) # Should be square bracket ']' not ')'\n",
    "my_list"
   ]
  },
  {
   "cell_type": "code",
   "execution_count": null,
   "id": "fa31aa99-9996-4c3e-8399-86561bf7234b",
   "metadata": {},
   "outputs": [],
   "source": [
    "# Debug the code"
   ]
  },
  {
   "cell_type": "code",
   "execution_count": null,
   "id": "f7a848f9-958c-464f-a131-44c4911b965b",
   "metadata": {
    "tags": []
   },
   "outputs": [],
   "source": [
    "# Example 3 - NameError: Raised when a local or global name is not found.\n",
    "print(p)  \n",
    "# NameError: name 'p' is not defined"
   ]
  },
  {
   "cell_type": "code",
   "execution_count": null,
   "id": "13f9bd5b-a4b9-4273-b984-daea11499cf4",
   "metadata": {},
   "outputs": [],
   "source": [
    "# Debug the code"
   ]
  },
  {
   "cell_type": "code",
   "execution_count": null,
   "id": "db2c5275-bc59-4cdc-ba8b-b32326f53d68",
   "metadata": {},
   "outputs": [],
   "source": [
    "# Example 4 - TypeError: Raised when an operation or function is applied to an object of inappropriate type.\n",
    "\"2\" + 2  \n",
    "# TypeError: integer and string type"
   ]
  },
  {
   "cell_type": "code",
   "execution_count": null,
   "id": "04afb6c7-6e17-44cd-a361-d57c56137231",
   "metadata": {},
   "outputs": [],
   "source": [
    "# Debug the code"
   ]
  },
  {
   "cell_type": "code",
   "execution_count": null,
   "id": "6a56db11-34b3-41a6-95af-467ab859b3dc",
   "metadata": {
    "tags": []
   },
   "outputs": [],
   "source": [
    "# Example 5 - IndexError: Raised when an index is not found in a sequence.\n",
    "list_2 = [1, 2, 3] \n",
    "print(list_2[3])  \n",
    "# IndexError: list index out of range (Only valid from 0 to 2)"
   ]
  },
  {
   "cell_type": "code",
   "execution_count": null,
   "id": "74c8f1f9-d10c-4e41-afab-2e9bfc4117c7",
   "metadata": {},
   "outputs": [],
   "source": [
    "# Debug the code"
   ]
  },
  {
   "cell_type": "code",
   "execution_count": null,
   "id": "2542e6ba-f72c-42eb-866b-ce8c8f378004",
   "metadata": {},
   "outputs": [],
   "source": [
    "import numpy as np\n",
    "\n",
    "my_values = (100,81,64,49,36,25,16]\n",
    "square_root= pd.sqrt(my_value)\n",
    "square_root"
   ]
  },
  {
   "cell_type": "code",
   "execution_count": null,
   "id": "156ab050-ad7f-472b-a0ad-b8f0e4b047f1",
   "metadata": {},
   "outputs": [],
   "source": [
    "# Debug the code"
   ]
  },
  {
   "cell_type": "markdown",
   "id": "7eef2f3d-d983-438d-a854-7f2db325794f",
   "metadata": {},
   "source": [
    "# **DEVELOPING (D3)**\n",
    "## OBJECTIVE : BY THE END OF THIS LESSON YOU SHOULD BE ABLE TO :\n",
    "### - Code using Control Flow (If, For Loop and While loop)\n",
    "---\n",
    "## - Control Flow \n",
    "- Operators"
   ]
  },
  {
   "cell_type": "markdown",
   "id": "f161f768-e9d9-4e92-ae06-76b99847507e",
   "metadata": {},
   "source": [
    "# Control Flow - Operator\n",
    "\n",
    "The Python or operator combines two Boolean expressions and evaluates to True if at least one of the expressions returns True. Otherwise, if both expressions are False, then the entire expression evaluates to False."
   ]
  },
  {
   "cell_type": "code",
   "execution_count": null,
   "id": "5c3c9fa9-53d8-4184-8149-7d28d02bf750",
   "metadata": {
    "tags": []
   },
   "outputs": [],
   "source": [
    "gold_is_metal= True\n",
    "gold_is_not_metal = False"
   ]
  },
  {
   "cell_type": "code",
   "execution_count": null,
   "id": "c99a9586-9d5a-4dd7-a6dc-62e16678662b",
   "metadata": {
    "tags": []
   },
   "outputs": [],
   "source": [
    "print (gold_is_metal)"
   ]
  },
  {
   "cell_type": "code",
   "execution_count": null,
   "id": "74f0ff39-bea4-4f7d-92ed-6315fca59380",
   "metadata": {
    "tags": []
   },
   "outputs": [],
   "source": [
    "print (gold_is_not_metal)"
   ]
  },
  {
   "cell_type": "markdown",
   "id": "4abbcb15-5a43-4c4d-9a7c-24a6be909a9d",
   "metadata": {},
   "source": [
    "# Equal Operator \"==\"\n",
    "\n",
    "The equal operator, ==, is used to compare two values, variables or expressions to determine if they are the same.\n",
    "\n",
    "If the values being compared are the same, the operator returns True, otherwise it returns False.\n",
    "\n",
    "The operator takes the data type into account when making the comparison, so a string value of \"2\" is not considered the same as a numeric value of 2.\n",
    "\n",
    "Note : \"=\" assigns a variable and \"==\" compares two objects."
   ]
  },
  {
   "cell_type": "code",
   "execution_count": null,
   "id": "0f193dd0-0d19-46f0-bce7-7114c2984a42",
   "metadata": {
    "tags": []
   },
   "outputs": [],
   "source": [
    "# Showing true logic\n",
    "2 == 2"
   ]
  },
  {
   "cell_type": "code",
   "execution_count": null,
   "id": "e8c8b74d-a24c-4631-97af-0522a4bcddd2",
   "metadata": {
    "tags": []
   },
   "outputs": [],
   "source": [
    "# Showing false logic\n",
    "0 == 2"
   ]
  },
  {
   "cell_type": "markdown",
   "id": "927be7d2-429a-473e-a0d0-fc4404b1f470",
   "metadata": {},
   "source": [
    "## Logical Operators and Python code\n",
    "\n",
    "| Name| Python code |\n",
    "| --- | --- |\n",
    "| Equals | <b>a == b<b> ||>|\n",
    "| Less than | <b>a <= b<b> ||>|\n",
    "| Less than or equal to | <b>a <= b<b> ||>|\n",
    "| Greater than | <b>a > b<b> ||>|\n",
    "| Greater than or equal to | <b>a >= b<b> ||>|\n",
    "| Not Equal | <b>a != b<b> ||>|\n",
    "| Is in | <b>a in b<b> ||>|"
   ]
  },
  {
   "cell_type": "code",
   "execution_count": null,
   "id": "1a2b8602-09ab-46ed-acec-86004005ad27",
   "metadata": {
    "tags": []
   },
   "outputs": [],
   "source": [
    "# Example 1 \n",
    "mass_earth = 5.972e24 # 5.972 x 10^24 kg\n",
    "mass_moon = 7.35e22 # 7.35E22 X 10^22 kg"
   ]
  },
  {
   "cell_type": "code",
   "execution_count": null,
   "id": "3ba20215-79f2-43b0-90cf-bb3fec3b5550",
   "metadata": {
    "tags": []
   },
   "outputs": [],
   "source": [
    "mass_earth == mass_moon"
   ]
  },
  {
   "cell_type": "code",
   "execution_count": null,
   "id": "6faaf70e-1130-43aa-9dae-52e394a4b8e3",
   "metadata": {
    "tags": []
   },
   "outputs": [],
   "source": [
    "mass_earth <= mass_moon"
   ]
  },
  {
   "cell_type": "code",
   "execution_count": null,
   "id": "3570a7d6-f985-4938-8563-1060deaff50e",
   "metadata": {},
   "outputs": [],
   "source": [
    "# Please continue for \"<=\""
   ]
  },
  {
   "cell_type": "code",
   "execution_count": null,
   "id": "99ce00ef-c93a-4a56-a558-ecf26bed3f71",
   "metadata": {},
   "outputs": [],
   "source": [
    "# Please continue for \">\""
   ]
  },
  {
   "cell_type": "code",
   "execution_count": null,
   "id": "ebda8540-a5e0-4477-aae8-270d63641b12",
   "metadata": {},
   "outputs": [],
   "source": [
    "# Please continue for \">=\""
   ]
  },
  {
   "cell_type": "code",
   "execution_count": null,
   "id": "dce91737-d519-4b92-9413-90dafd638e3a",
   "metadata": {
    "tags": []
   },
   "outputs": [],
   "source": [
    "# Example 2 : Using \"Is in\"\n",
    "\n",
    "my_favourite_numbers = [5,11,13,24,55,111]\n",
    "\n",
    "6 in my_favourite_numbers # Number '6' is NOT in the list"
   ]
  },
  {
   "cell_type": "code",
   "execution_count": null,
   "id": "d71a27d3-dccc-49a2-b6b2-d6057dfef8e3",
   "metadata": {
    "tags": []
   },
   "outputs": [],
   "source": [
    "# Task D3.1 : Now your turn to use the code to check whether these numbers are in the list\n",
    "# 13, 30 and 55"
   ]
  },
  {
   "cell_type": "code",
   "execution_count": null,
   "id": "d7d296a7-6c1c-412c-ae29-a997e24ccf52",
   "metadata": {
    "tags": []
   },
   "outputs": [],
   "source": [
    "# Example 3\n",
    "metal_list = [\"Iron\", \"Copper\", \"Aluminium\", \"Gold\", \"Silver\", \"Platinum\", \"Zinc\"]"
   ]
  },
  {
   "cell_type": "code",
   "execution_count": null,
   "id": "0ad8b552-d97d-4329-84cd-1b691594146a",
   "metadata": {
    "tags": []
   },
   "outputs": [],
   "source": [
    "silver = \"Silver\" in metal_list\n",
    "wood = \"Wood\" in metal_list"
   ]
  },
  {
   "cell_type": "code",
   "execution_count": null,
   "id": "35e26ad7-b9cb-48f9-ab19-667712670ac1",
   "metadata": {
    "tags": []
   },
   "outputs": [],
   "source": [
    "silver"
   ]
  },
  {
   "cell_type": "code",
   "execution_count": null,
   "id": "5fc136ce-0ead-437f-8ad7-af0de8a29382",
   "metadata": {
    "tags": []
   },
   "outputs": [],
   "source": [
    "wood"
   ]
  },
  {
   "cell_type": "code",
   "execution_count": null,
   "id": "741ed7ca-61e7-4f3f-b86b-8d8ac3772ccc",
   "metadata": {},
   "outputs": [],
   "source": [
    "# Task D3.2 : Now your turn to use the code to check whether these elements are in the list\n",
    "# Copper, Zinc and Stone"
   ]
  },
  {
   "cell_type": "code",
   "execution_count": null,
   "id": "f6c1e75d-a05a-46aa-adef-a283a3c6cdf5",
   "metadata": {
    "tags": []
   },
   "outputs": [],
   "source": [
    "# Task D3.3 :Investigate using \"not in\".\n",
    "# Use the operator and compare the difference with \"in\""
   ]
  },
  {
   "cell_type": "code",
   "execution_count": null,
   "id": "b26e01bd-f01a-4e16-b735-1f998f43a7ec",
   "metadata": {
    "tags": []
   },
   "outputs": [],
   "source": [
    "0.5 < 0.5 or 0.3 != 0.3"
   ]
  },
  {
   "cell_type": "markdown",
   "id": "496f0d0f-4176-4b9b-904d-63f13d92de68",
   "metadata": {
    "tags": []
   },
   "source": [
    "# Combining Operators\n",
    "- We can combine operators using \"and\" & \"or\" to create more specified control flow"
   ]
  },
  {
   "cell_type": "code",
   "execution_count": null,
   "id": "406487e2-1b16-4256-9ae5-f2d62444e6c7",
   "metadata": {
    "tags": []
   },
   "outputs": [],
   "source": [
    "# The \"and\" code is to give both statements are CORRECT\n",
    "2 < 8 and 10 > 9"
   ]
  },
  {
   "cell_type": "code",
   "execution_count": null,
   "id": "6987f123-5294-4fb6-8653-8ba88c185fdf",
   "metadata": {
    "tags": []
   },
   "outputs": [],
   "source": [
    "# The \"or\" code is to give ONE of the statements is CORRECT\n",
    "2 < 8 or 10 < 9"
   ]
  },
  {
   "cell_type": "code",
   "execution_count": null,
   "id": "7f963172-068a-4ff2-af7e-2c9f034e7a74",
   "metadata": {
    "tags": []
   },
   "outputs": [],
   "source": [
    "# Task D3.4 : True or False\n",
    "# Can you determine if the following compound logical operations will return True or False:\n",
    "5 > 20 and 10 == 10"
   ]
  },
  {
   "cell_type": "code",
   "execution_count": null,
   "id": "19f99353-9ca7-4aa8-8f51-d05a81fa5870",
   "metadata": {
    "tags": []
   },
   "outputs": [],
   "source": [
    "# Task D3.5 : True or False\n",
    "# Can you determine if the following compound logical operations will return True or False:\n",
    "12 < 25 or 3.14 <= 3.141"
   ]
  },
  {
   "cell_type": "code",
   "execution_count": null,
   "id": "fa8f1a37-eed5-43dc-9dfb-2d1e222d5d29",
   "metadata": {
    "tags": []
   },
   "outputs": [],
   "source": [
    "# Task D3.6 : True or False\n",
    "# Can you determine if the following compound logical operations will return True or False:\n",
    "(11 > 3 or 9 != 9) and 5 in [3, 5, 8]"
   ]
  },
  {
   "cell_type": "markdown",
   "id": "f93ea9d7-b258-4e40-b1f5-6f1629f024a1",
   "metadata": {
    "tags": []
   },
   "source": [
    "# **DEVELOPING (D3)**\n",
    "## OBJECTIVE : BY THE END OF THIS LESSON YOU SHOULD BE ABLE TO :\n",
    "### - Code using Control Flow (If, For Loop and While loop)\n",
    "---\n",
    "## - Control Flow \n",
    "- If , Elif and Else statement"
   ]
  },
  {
   "cell_type": "code",
   "execution_count": null,
   "id": "7443e75c-3f2c-41a5-904f-e7e874a81d23",
   "metadata": {
    "tags": []
   },
   "outputs": [],
   "source": [
    "# When using \"if\" statement code, we use \":\" and indentation to make the code runs.\n",
    "# Example 1 - Using If\n",
    "a = 40\n",
    "b = 150\n",
    "if b > a: # Importance of using \":\" and indentation\n",
    "    print(\"b is greater than a\")"
   ]
  },
  {
   "cell_type": "code",
   "execution_count": null,
   "id": "0c0311bf-12f7-46f0-af04-c747110273de",
   "metadata": {
    "tags": []
   },
   "outputs": [],
   "source": [
    "# If statement\n",
    "# Example 2 - Using If and raise an error\n",
    "a = 40\n",
    "b = 150\n",
    "if b > a: \n",
    "print(\"b is greater than a\") # No indentation will raise an error!"
   ]
  },
  {
   "cell_type": "code",
   "execution_count": null,
   "id": "2bc2750f-01a0-4ff4-b18b-9684376dbc39",
   "metadata": {
    "tags": []
   },
   "outputs": [],
   "source": [
    "# Elif statement\n",
    "# The elif keyword is used to describe a second condition in case the first one is not fulfilled. \n",
    "# It will direct to the second condition.\n",
    "# Example 3 - Using Elif \n",
    "a = 55\n",
    "b = 55\n",
    "if b < a:\n",
    "    print(\"b is greater than a\")\n",
    "elif a == b: # Second condition agrees!\n",
    "    print (\"a and b are equal\")"
   ]
  },
  {
   "cell_type": "code",
   "execution_count": null,
   "id": "9844eb8b-83ee-4a27-881f-965d70f22961",
   "metadata": {
    "tags": []
   },
   "outputs": [],
   "source": [
    "# Else \n",
    "# The else keyword catches anything which isn't caught by the preceding conditions.\n",
    "a = 27\n",
    "b = 12 # Changed the value to see the if effect\n",
    "if b > a: \n",
    "    print(\"b is greater than a\") # Passes to the next condition\n",
    "elif a == b:\n",
    "    print (\"a and b are equal\") # Passes to the next condition\n",
    "else:\n",
    "    print (\"b is less than a\")"
   ]
  },
  {
   "cell_type": "code",
   "execution_count": null,
   "id": "3a993c97-2542-46ce-8647-a6c092ebee31",
   "metadata": {
    "tags": []
   },
   "outputs": [],
   "source": [
    "# Example 1 : Using if, elif and else\n",
    "# Now let us take an example involving temperature of water.\n",
    "\n",
    "temperature = 50 # Temp in celcius.\n",
    "\n",
    "if temperature >= 60:\n",
    "    temperature_type = \"Hot\"\n",
    "elif 30 <= temperature < 60:\n",
    "    temperature_type = \"Warm\"\n",
    "else:\n",
    "    temperature_type = \"Cold\"\n",
    "print(f\"At {temperature} degree celcius, the water is {temperature_type}\") # Added with f string"
   ]
  },
  {
   "cell_type": "code",
   "execution_count": null,
   "id": "213d2bb2-5c32-4938-8ed2-edc1405d1164",
   "metadata": {},
   "outputs": [],
   "source": [
    "# Task D3.7 : Change the value of the temperature to observe the control flows!"
   ]
  },
  {
   "cell_type": "code",
   "execution_count": null,
   "id": "8a6f3f25-3df5-408a-99bf-672385b6b5f7",
   "metadata": {},
   "outputs": [],
   "source": [
    "# Task D3.8 : Now can you recreate the previous code to determine types of Chemical Bonds\n",
    "# Info : In Chemistry, Chemical Bond can be determined based on electronegativity difference.\n",
    "# Now set the variable named \"elec_diff\" to have a value equals to \"1.7\"\n",
    "# Here are the conditions:\n",
    "# If elec_diff > 1.7 the bond is called Ionic\n",
    "# If elec_diff is between 0.4 and 1.7 the bond is called \"Polar Covelent\"\n",
    "# Or else, it will be called \"Non Polar Covalent\"\n",
    "\n",
    "# Answer"
   ]
  },
  {
   "cell_type": "markdown",
   "id": "ef6ec440-9c31-4071-b89e-165e93a32963",
   "metadata": {},
   "source": [
    "# **DEVELOPING (D3)**\n",
    "## OBJECTIVE : BY THE END OF THIS LESSON YOU SHOULD BE ABLE TO :\n",
    "### - Code using Control Flow (If, For Loop and While loop)\n",
    "---\n",
    "## - Control Flow \n",
    "### Python has 2 primary loop commands:\n",
    "- For loop\n",
    "- While loop"
   ]
  },
  {
   "cell_type": "code",
   "execution_count": null,
   "id": "2b956b75-e251-49fa-8d2c-bcae6f4f23e6",
   "metadata": {
    "tags": []
   },
   "outputs": [],
   "source": [
    "# For Loop - A \"for\" loop is used to iterate over a sequence\n",
    "# It can be a list, tuple, a dictionary, a set or a string)\n",
    "\n",
    "# Example 1 - Print each element in a metal_list\n",
    "\n",
    "for i in metal_list:\n",
    "    print (i)"
   ]
  },
  {
   "cell_type": "code",
   "execution_count": null,
   "id": "6708dc4c-1216-4fc6-865b-5613a3f899f6",
   "metadata": {
    "tags": []
   },
   "outputs": [],
   "source": [
    "# Example 2 - Using range () function in for loop\n",
    "# range function returns a sequence of number . It starts from 0 by default, and gets incremented  by 1,\n",
    "# and ends at the specified number\n",
    "\n",
    "# Here is an example to identify a number from 0 to 50 that can be divided by the number 3\n",
    "\n",
    "for i in range (50): \n",
    "    if i % 3 == 0: #the \"%\" sign means division\n",
    "        print(i)"
   ]
  },
  {
   "cell_type": "code",
   "execution_count": null,
   "id": "311202b2-ca8c-4ef6-b606-3be92fd1ea4c",
   "metadata": {},
   "outputs": [],
   "source": [
    "for i in range (a): \n",
    "    if i % b == 0:\n",
    "        print(i)"
   ]
  },
  {
   "cell_type": "code",
   "execution_count": null,
   "id": "6c6cd584-6d9c-4fe6-ad93-feb7bb0433e8",
   "metadata": {},
   "outputs": [],
   "source": [
    "# Task D3.10 : Using range function() use for loop to indentify numbers from 0 to 60 which are\n",
    "# Divisible by 5 and 3\n",
    "\n",
    "# Answer"
   ]
  },
  {
   "cell_type": "code",
   "execution_count": null,
   "id": "9b0c187b-80e2-4864-a0ec-e905063a9097",
   "metadata": {
    "tags": []
   },
   "outputs": [],
   "source": [
    "# Example 3 - Calculation of Weight (N)\n",
    "\n",
    "masses = [5, 20, 30] # Masses in Kg\n",
    "grav_a = 10 # Metre per second square\n",
    "\n",
    "for i in masses:\n",
    "    Energy = i * grav_a\n",
    "    \n",
    "    print(f\"{Energy} Newtons\")"
   ]
  },
  {
   "cell_type": "code",
   "execution_count": null,
   "id": "9c851e0f-f24d-42be-b243-286339620172",
   "metadata": {
    "tags": []
   },
   "outputs": [],
   "source": [
    "# Example 4 - Using the code \"zip\" to do calculations from 2 lists (Extended)\n",
    "\n",
    "masses = [5, 20, 30,50]\n",
    "velocities = [ 5,10,15, 20]\n",
    "\n",
    "for i, j in zip (masses, velocities):\n",
    "    kin_e = 0.5 * i * j ** 2\n",
    "    print (kin_e)"
   ]
  },
  {
   "cell_type": "code",
   "execution_count": null,
   "id": "80141ad3-1dfb-4e60-baca-165e4dcad2eb",
   "metadata": {
    "tags": []
   },
   "outputs": [],
   "source": [
    "# Task D3.11 : Calculate using for loop, the number of Atoms in a Sample\n",
    "# Formula \"mole * avogadros number\"\n",
    "\n",
    "moles = [2, 1.5, 2.5, 0.5]\n",
    "avogadros_number = 6.022e23 \n",
    "\n",
    "#Answer here"
   ]
  },
  {
   "cell_type": "code",
   "execution_count": null,
   "id": "6a54f196-4f70-4d5f-bc0e-7e033081950f",
   "metadata": {},
   "outputs": [],
   "source": [
    "# Task D3.12 : Calculating concentrations of solutions\n",
    "# Formula is given by \"solute / volume\"\n",
    "\n",
    "solutes = [10,20,30,40]\n",
    "volume [ 1,2,3,4]\n",
    "\n",
    "# Answer here"
   ]
  },
  {
   "cell_type": "markdown",
   "id": "06109fc5-fcde-4350-8e10-ac2c8fc965aa",
   "metadata": {},
   "source": [
    "# **DEVELOPING (D3)**\n",
    "## OBJECTIVE : BY THE END OF THIS LESSON YOU SHOULD BE ABLE TO :\n",
    "### - Code using Control Flow (If, For Loop and While loop)\n",
    "---\n",
    "## - Control Flow \n",
    "- For loop\n",
    "- While loop"
   ]
  },
  {
   "cell_type": "code",
   "execution_count": null,
   "id": "5757d30f-909f-46c8-818d-9f4efbad06bb",
   "metadata": {
    "tags": []
   },
   "outputs": [],
   "source": [
    "# While loop\n",
    "# It is used to execute a set of statements as long as the condition remains true.\n",
    "\n",
    "# Example 1 : Print \"Metal\" as long as is less than 6\n",
    "i = 1 # Set Initial value to add \n",
    "while i < 6:\n",
    "    print (\"Metal\")\n",
    "    i += 1"
   ]
  },
  {
   "cell_type": "code",
   "execution_count": null,
   "id": "3838cc11-a8e0-4ef1-8efa-8e501c027603",
   "metadata": {
    "tags": []
   },
   "outputs": [],
   "source": [
    "# Break statement\n",
    "# It is used to stop the loop at that exact instance even if the while condition is true.\n",
    "\n",
    "# Example 2 - breaks the iteration\n",
    "i = 1 # Set Initial value to add \n",
    "while i < 6:\n",
    "    print (\"Metal\")\n",
    "    if i == 3:\n",
    "        break\n",
    "    i += 1"
   ]
  },
  {
   "cell_type": "code",
   "execution_count": null,
   "id": "6a87ddd3-9b3d-418c-b0f2-4e7458a71e2c",
   "metadata": {
    "tags": []
   },
   "outputs": [],
   "source": [
    "# The Else statement\n",
    "# It is used to run a block of code once when the condition is no longer true\n",
    "\n",
    "# Example 3 - Print once the condition is false\n",
    "i = 1 # Set Initial value to add \n",
    "while i < 6:\n",
    "    print (\"Metal\")\n",
    "    i += 1\n",
    "else:\n",
    "    print (\"i is no longer less than 6\")"
   ]
  },
  {
   "cell_type": "code",
   "execution_count": null,
   "id": "ab7ee7df-9508-4196-b475-9bbf928c13b1",
   "metadata": {
    "tags": []
   },
   "outputs": [],
   "source": [
    "# Task D3.13 : Use while loop to print number from 0 to 10 only."
   ]
  },
  {
   "cell_type": "code",
   "execution_count": null,
   "id": "56f4e2c6-7b53-437a-8a48-a7e95187a79e",
   "metadata": {},
   "outputs": [],
   "source": [
    "# Task D3.14 : Use break statement to modify your code above to list down until number \"7\""
   ]
  },
  {
   "cell_type": "code",
   "execution_count": null,
   "id": "33cb8d3a-3433-4290-9d35-d90c6462274f",
   "metadata": {},
   "outputs": [],
   "source": [
    "# Task D3.15 : Use else statement in your code above to print \"The list is from 0 to 7 only\""
   ]
  },
  {
   "cell_type": "code",
   "execution_count": null,
   "id": "fdea1b17-9544-4a07-8a86-1e8124350a8a",
   "metadata": {
    "tags": []
   },
   "outputs": [],
   "source": [
    "# Task D3.16 : Bonus question - Use for loop and break statement to print the following list until \"Silver\".\n",
    "metal_list = [\"Iron\", \"Copper\", \"Aluminium\", \"Gold\", \"Silver\", \"Platinum\", \"Zinc\"]\n",
    "# Answer "
   ]
  },
  {
   "cell_type": "markdown",
   "id": "cee263db-6342-4c68-b944-bc1a036ae33c",
   "metadata": {
    "tags": []
   },
   "source": [
    "---\n",
    "# ASSESSMENT 2 - MENTIMETER FOR DEVELOPING LEVEL\n",
    "## Please enter the quiz to self-check whether you are good to go to the next level!\n",
    "\n",
    "## https://www.menti.com/al9jsows4kkj\n",
    "---"
   ]
  }
 ],
 "metadata": {
  "kernelspec": {
   "display_name": "Python 3 (ipykernel)",
   "language": "python",
   "name": "python3"
  },
  "language_info": {
   "codemirror_mode": {
    "name": "ipython",
    "version": 3
   },
   "file_extension": ".py",
   "mimetype": "text/x-python",
   "name": "python",
   "nbconvert_exporter": "python",
   "pygments_lexer": "ipython3",
   "version": "3.11.5"
  }
 },
 "nbformat": 4,
 "nbformat_minor": 5
}
