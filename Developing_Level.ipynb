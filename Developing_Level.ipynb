{
 "cells": [
  {
   "cell_type": "markdown",
   "id": "ec8f24db-2d63-4906-9409-e529b966f30c",
   "metadata": {},
   "source": [
    "---\n",
    "---\n",
    "# ✨✨✨✨✨✨✨✨✨✨✨✨✨✨✨✨✨✨✨✨✨✨✨✨✨✨✨✨✨✨\n",
    "# 🎉 **Hi! Welcome to our Developing Level Python Training Programme!** 🎉\n",
    "# ✨✨✨✨✨✨✨✨✨✨✨✨✨✨✨✨✨✨✨✨✨✨✨✨✨✨✨✨✨✨\n",
    "---\n",
    "---\n",
    "# Ghani here! \n",
    "# Glad to see your progress so far. You have gone through Emerging Level. Now we will proceed with the next level where all the materials will be provided and self-explanatory.\n",
    "# The learning method will be similar to the previous learning materials where you will undergo the following :\n",
    "---\n",
    "---\n",
    "## 💡 1. Materials are created based on **Bloom's Taxonomy** intended to help participants to undergo a structured learning phases, moving from basic to higher levels.\n",
    "## 🌟 Why Bloom's Taxonomy? - A study suggested that it is possible to assign programming skills to the levels of Bloom’s Taxonomy Cognitive Domain <sup>1.\n",
    "---\n",
    "---\n",
    "## 💡2. This material is guided with short step-by-step video tutorials for more effective learning experience for the participants.\n",
    "## 🌟A study on learning from videos showed that providing short videos and informal talking-head videos promoted high learning engagement<sup> 3.\n",
    "---\n",
    "---\n",
    "## 💡3. The learning tasks are included with code review activity (fixing the error code) to promote confidence and active learning among participants.\n",
    "## 🌟An evidence in a study showed that code reviewing can promote positive attitude towards learning<sup> 4.\n",
    "---\n",
    "---\n",
    "## 💡4. Each level of proficiency will be assessed using a Mentimeter quiz to evaluate the participant's performance and to inform them when to proceed to the next level.\n",
    "## 🌟Using online quiz as part of the activity in online learning has positive impact on adult learning experience <sup> 5.\n",
    "---\n",
    "---"
   ]
  },
  {
   "cell_type": "markdown",
   "id": "13252cd9-cf5a-4b36-bbb9-d92dbab4bde0",
   "metadata": {},
   "source": [
    "---\n",
    "# Good Luck and I hope you will enjoy your learning adventure!\n",
    "---"
   ]
  },
  {
   "cell_type": "markdown",
   "id": "fe1e28da-5b68-464c-ad41-9ed7622a25d6",
   "metadata": {},
   "source": [
    "---\n",
    "---\n",
    "# **DEVELOPING (D1)**\n",
    "## OBJECTIVE : BY THE END OF THIS LESSON YOU SHOULD BE ABLE TO :\n",
    "### ✅ Create a list\n",
    "### ✅ Using len()code\n",
    "### ✅ List Indexing and Modifications\n",
    "---\n",
    "---"
   ]
  },
  {
   "cell_type": "code",
   "execution_count": null,
   "id": "07ac4dca-5602-4cab-be1f-72ed0c0ea55b",
   "metadata": {
    "tags": []
   },
   "outputs": [],
   "source": [
    "# Video Tutorial 1\n",
    "from IPython.display import clear_output, display, HTML\n",
    "HTML('<iframe width=\"790\" height=\"494\" src=\"https://www.youtube.com/embed/YJecDuUydtQ\" title=\"Developing  - 1\" frameborder=\"0\" allow=\"accelerometer; autoplay; clipboard-write; encrypted-media; gyroscope; picture-in-picture; web-share\" referrerpolicy=\"strict-origin-when-cross-origin\" allowfullscreen></iframe>')"
   ]
  },
  {
   "cell_type": "markdown",
   "id": "4b966353-9a57-4f7c-b660-141602f9b2e0",
   "metadata": {},
   "source": [
    "# 🔷 Creating a list\n",
    "## In the previous materials you have seen data types that includes \"lists\" and \"tuples. We will have a look deepr into lists in this lesson as it is one imprtant knowledge you need to acquire.\n",
    "---\n",
    "# 💡 What is a list?\n",
    "## 🌟 A list is a type of data grouped together. \n",
    "## 🌟 A list is an ordered collection of elements or items. \n",
    "## 🌟 The syntax for a list is that the elements are separated by commas ',' \n",
    "## and all the items in the list are enclosed with square brackets, [ ]. \n",
    "## 🌟 We assign a unique variable to a list. This is demonstrated in the following example below."
   ]
  },
  {
   "cell_type": "markdown",
   "id": "9a6b1ef3-db59-499d-b032-5c4478bb7507",
   "metadata": {
    "tags": []
   },
   "source": [
    "---\n",
    "EXAMPLE 1 - Define a variable containing a list type data.\n",
    "---"
   ]
  },
  {
   "cell_type": "code",
   "execution_count": null,
   "id": "63da48fa-ac34-4f1b-bc6f-46fddc0af77e",
   "metadata": {
    "tags": []
   },
   "outputs": [],
   "source": [
    "# Define a varibale containing a list\n",
    "\n",
    "metal_list = [\"Iron\", \"Copper\", \"Aluminium\", \"Gold\", \"Silver\", \"Platinum\", \"Zinc\"]"
   ]
  },
  {
   "cell_type": "code",
   "execution_count": null,
   "id": "9c20a9f1-30c5-45e5-bb0d-c3741e69e8aa",
   "metadata": {
    "tags": []
   },
   "outputs": [],
   "source": [
    "# We use print() function to print the list as shown below:\n",
    "\n",
    "print (metal_list)"
   ]
  },
  {
   "cell_type": "code",
   "execution_count": null,
   "id": "60cc8f98-ecb0-40cf-8eee-01bf6d81bf1f",
   "metadata": {
    "tags": []
   },
   "outputs": [],
   "source": [
    "# Checking the data type . Let us check the data type using 'type()'\n",
    "\n",
    "type (metal_list)"
   ]
  },
  {
   "cell_type": "markdown",
   "id": "99fbc36b-d7ee-46a6-b760-e1bba6a8ea7f",
   "metadata": {},
   "source": [
    "# 🔷 Using len()code\n",
    "---\n",
    "## \"len ()\" is another important code that you can use in your coding \n",
    "## The main function of this code is to calculate the number of elements in a list\n",
    "## An example is shown below for you to see how the function works!"
   ]
  },
  {
   "cell_type": "markdown",
   "id": "758d4f30-d1a9-4c59-b290-dfd9b5aec2b2",
   "metadata": {},
   "source": [
    "---\n",
    "EXAMPLE 2 - Calculating the number of elements in a list with variable name \"metal_list\"\n",
    "---"
   ]
  },
  {
   "cell_type": "code",
   "execution_count": null,
   "id": "4e723592-7700-4895-8752-8760ef0b3c63",
   "metadata": {
    "tags": []
   },
   "outputs": [],
   "source": [
    "# Using 'len()' to find out number of elements in a list \n",
    "\n",
    "len(metal_list)"
   ]
  },
  {
   "cell_type": "markdown",
   "id": "e979358c-d546-4b99-bb46-846be64878d3",
   "metadata": {},
   "source": [
    "# 📣 Extra Information about list: Nested List\n",
    "---\n",
    "## 🌟 Nested list\n",
    "## A nested list is a list of lists, or any list that has another list as an element (a sublist). They can be helpful if we want to create a matrix or need to store a sublist along with other data types."
   ]
  },
  {
   "cell_type": "markdown",
   "id": "533d3a4d-e17f-4185-8681-92ab8236a6a7",
   "metadata": {},
   "source": [
    "---\n",
    "EXAMPLE 3 - An example of a nested list containing mixed data types.\n",
    "---"
   ]
  },
  {
   "cell_type": "code",
   "execution_count": null,
   "id": "6def2c5a-5ac6-4f62-b443-0802a04cb26c",
   "metadata": {
    "tags": []
   },
   "outputs": [],
   "source": [
    "# The metal_list contains only data of string-type. \n",
    "# However, a list can contain any data type, a mixture of data types, or even another list.\n",
    "\n",
    "mixed_list = [4, 'Sodium', 3.1415, metal_list]\n",
    "\n",
    "print(mixed_list)"
   ]
  },
  {
   "cell_type": "markdown",
   "id": "f7c8e1c7-18fe-440b-ad62-ca39964dd15d",
   "metadata": {},
   "source": [
    "---\n",
    "EXAMPLE 4 - Another example of a nested list that is applied when we are dealing with matrices!\n",
    "---"
   ]
  },
  {
   "cell_type": "code",
   "execution_count": null,
   "id": "2ee06c40-9694-4f06-a247-d606adb2a5c0",
   "metadata": {
    "tags": []
   },
   "outputs": [],
   "source": [
    "# Nested list is useful in creating matrices list\n",
    "# Create a matrix of size 4 x 3\n",
    "# Here, there are 4 nested lists separated by \"[_],\"\n",
    "\n",
    "matrix = [[0, 1, 2],\n",
    "          [3, 4, 5],\n",
    "          [6, 7, 8],\n",
    "          [9, 10, 11]]"
   ]
  },
  {
   "cell_type": "markdown",
   "id": "1c557bd5-715c-4aa7-811c-726c5e185c80",
   "metadata": {
    "tags": []
   },
   "source": [
    "---\n",
    "EXAMPLE 5 - Using len () to calculate number of rows and columns in a nested list\n",
    "---\n",
    "# By using the nested list above, we define 2 variables that will contain the number of rows and columns "
   ]
  },
  {
   "cell_type": "code",
   "execution_count": null,
   "id": "ced9973b-ff7c-4786-a0cd-92a0ba315f45",
   "metadata": {},
   "outputs": [],
   "source": [
    "# Two variables containing the number of rows and columns\n",
    "\n",
    "rows = len(matrix)  # no of rows\n",
    "cols = len(matrix[0])  # no of cols"
   ]
  },
  {
   "cell_type": "code",
   "execution_count": null,
   "id": "62b0cdac-3c7f-4575-a0d1-19530a8441f0",
   "metadata": {
    "tags": []
   },
   "outputs": [],
   "source": [
    "# Let us check the row variable to see the result!\n",
    "rows"
   ]
  },
  {
   "cell_type": "code",
   "execution_count": null,
   "id": "2074a083-0c1b-4c51-8f35-295ed2e5947d",
   "metadata": {
    "tags": []
   },
   "outputs": [],
   "source": [
    "# Let us check the column variable to see the result!\n",
    "cols"
   ]
  },
  {
   "cell_type": "markdown",
   "id": "3a551b4f-36bb-4df4-aad5-282031805d28",
   "metadata": {},
   "source": [
    "---\n",
    "# 🚀 Great work! You have learnt about a list, nested, list and using the len() code. Now let us do the following task to give you hands-on practice on these.\n",
    "\n",
    "# Good luck!\n",
    "---"
   ]
  },
  {
   "cell_type": "code",
   "execution_count": null,
   "id": "1c8e5e46-e9fc-4569-91d3-fab380b4af19",
   "metadata": {},
   "outputs": [],
   "source": [
    "# Task D1.1 - Create and print a variable named 'Energy_type' which contains the following:\n",
    "# - Kinetic, Potential, Thermal, Chemical, Nuclear, Electrical\n",
    "# Answer"
   ]
  },
  {
   "cell_type": "code",
   "execution_count": null,
   "id": "b40ff1c5-ed5e-4188-bbfc-c8444af39a2d",
   "metadata": {},
   "outputs": [],
   "source": [
    "# Task D1.2 - Calculate the number of elements in 'Energy_type' using len()\n",
    "# Answer"
   ]
  },
  {
   "cell_type": "code",
   "execution_count": null,
   "id": "e2799bc8-caca-4a41-9e96-86084c1c1903",
   "metadata": {},
   "outputs": [],
   "source": [
    "# Task D1.3 - Create a variable named 'my_matrix' that contain a  nested list of 5 x 3 matrix. You can randomly choose any numbers\n",
    "# Answer"
   ]
  },
  {
   "cell_type": "markdown",
   "id": "2c21e45d-8c48-4862-8f4e-deda7fece1a7",
   "metadata": {},
   "source": [
    "## 🌟 Welldone! You have learnt how to create a list and use the len() function!\n",
    "## Now let us get moving to the next section of the training !"
   ]
  },
  {
   "cell_type": "markdown",
   "id": "86550b54-66cb-48d1-9ac4-ecde8cb2e0df",
   "metadata": {},
   "source": [
    "---\n",
    "---\n",
    "# **DEVELOPING (D1)**\n",
    "## OBJECTIVE : BY THE END OF THIS LESSON YOU SHOULD BE ABLE TO :\n",
    "### ✅ Create a list\n",
    "### ✅ Using len()code\n",
    "### ✅ List Indexing and Modifications\n",
    "---\n",
    "---"
   ]
  },
  {
   "cell_type": "markdown",
   "id": "587c1fe8-6ed0-4192-b2b0-ec8c099ab8fa",
   "metadata": {
    "tags": []
   },
   "source": [
    "# 🔷 List Indexing\n",
    "---\n",
    "## 💡 Another intereting tool in Python is list indexing which helps you to identify a specific part of a list\n",
    "## 🌟 Individual elements of a list can be referred to using indexing. \n",
    "## 🌟 Indexing uses the square brackets '[ ]' and the index of the element to be accessed.\n",
    "## 🌟 Another important note in list indexing is a method called \"zero-based indexing\" is commonly used. Zero-based indexing is we use \"0\" instead of \"1\" to refer to the first element in a list.\n",
    "---\n",
    "# 2 examples are given below to illustrate this zer0-based indexing using the \"metal_list\""
   ]
  },
  {
   "cell_type": "code",
   "execution_count": null,
   "id": "a2a48003-35cd-49c4-9c59-b3ef26bcb1d6",
   "metadata": {
    "tags": []
   },
   "outputs": [],
   "source": [
    "# Example 1 - Locating the first element using [0]\n",
    "\n",
    "metal_list[0]"
   ]
  },
  {
   "cell_type": "code",
   "execution_count": null,
   "id": "da161aca-c6e5-47e9-9baf-d386ea3b7598",
   "metadata": {
    "tags": []
   },
   "outputs": [],
   "source": [
    "# Example 2 - Locating the third element using [2]\n",
    "\n",
    "metal_list[2]"
   ]
  },
  {
   "cell_type": "markdown",
   "id": "634362ca-606f-4668-b123-a293548dd193",
   "metadata": {},
   "source": [
    "---\n",
    "# 🚀 Want to try it yourself? Let us have a go on the following tasks!\n",
    "# You will get a chance to discover using negative number as well! All the best!\n",
    "---"
   ]
  },
  {
   "cell_type": "code",
   "execution_count": null,
   "id": "c04a58a5-6989-43c2-b88b-c4c5c0b77b60",
   "metadata": {
    "tags": []
   },
   "outputs": [],
   "source": [
    "# Task D1.4 - Locate the second element of the list 'metal_list'\n",
    "metal_list [1]"
   ]
  },
  {
   "cell_type": "code",
   "execution_count": null,
   "id": "4e077bc8-1cec-4df9-b757-b82fedcf56a2",
   "metadata": {},
   "outputs": [],
   "source": [
    "# Task Task D1.5 - Locate the fifth element of the list 'metal_list'\n",
    "# Answer"
   ]
  },
  {
   "cell_type": "code",
   "execution_count": null,
   "id": "3acb25c5-b673-45f3-908e-4cc94532adf2",
   "metadata": {},
   "outputs": [],
   "source": [
    "# Task Task D1.6 - Discover what happen if the number index is set to negative number E.g 'metal_list[-1]'\n",
    "# Answer"
   ]
  },
  {
   "cell_type": "code",
   "execution_count": null,
   "id": "8ef0539e-4348-4f1d-bd2b-b599ddd72b78",
   "metadata": {},
   "outputs": [],
   "source": [
    "# Task Task D1.7 \n",
    "# - print or simply type the variable 'Energy_type'\n",
    "# - Locate the first and the fourth element in your list using '[]' \n",
    "# Answer"
   ]
  },
  {
   "cell_type": "code",
   "execution_count": null,
   "id": "78baed72-6014-498f-b0b4-81b56415bcee",
   "metadata": {
    "tags": []
   },
   "outputs": [],
   "source": [
    "# Video Tutorial 2\n",
    "from IPython.display import clear_output, display, HTML\n",
    "HTML('<iframe width=\"790\" height=\"444\" src=\"https://www.youtube.com/embed/zHz5lN9hKJ4\" title=\"Developing  - 2\" frameborder=\"0\" allow=\"accelerometer; autoplay; clipboard-write; encrypted-media; gyroscope; picture-in-picture; web-share\" referrerpolicy=\"strict-origin-when-cross-origin\" allowfullscreen></iframe>')"
   ]
  },
  {
   "cell_type": "markdown",
   "id": "df1893e2-93df-417b-86e6-e5d1716ee616",
   "metadata": {},
   "source": [
    "# 🔷 List Modification\n",
    "---\n",
    "## 💡 Can we modify a list?\n",
    "## 🌟 Yes absolutely! This is the main difference between a list and a tuple as mentioned earlier. \n",
    "## 🌟 In a list, you can add and delete elements using a python code shown below.\n",
    "---\n",
    "## 💡 Say we have a list named 'planets' that contains 7 elements. We want to add or delete an element in it. We use the following code:"
   ]
  },
  {
   "cell_type": "markdown",
   "id": "998574db-d362-4714-b6ed-2225a3072075",
   "metadata": {},
   "source": [
    "---\n",
    "# 🚀 **CODES TO LEARN \n",
    "# ✅ \"+ []\" - Add an element\n",
    "# ✅ \".remove()\" - Delete an element\n",
    "---"
   ]
  },
  {
   "cell_type": "code",
   "execution_count": null,
   "id": "5b0d1381-416c-4c27-b7e9-039f222a4ac8",
   "metadata": {
    "tags": []
   },
   "outputs": [],
   "source": [
    "# Define a variable containing a list called \"planets\"\n",
    "\n",
    "planets = [\"Jupiter\", \"Neptune\", \"Venus\", \"Earth\", \"Mercury\", \"Mars\", \"Saturn\"]"
   ]
  },
  {
   "cell_type": "code",
   "execution_count": null,
   "id": "6be82120-b17f-4f78-ba7b-a182d8e98b4b",
   "metadata": {
    "tags": []
   },
   "outputs": [],
   "source": [
    "# Adding Elements From a List using '+' method\n",
    "\n",
    "# To add the list we can do the following:\n",
    "\n",
    "planets = planets + [\"Uranus\"] # If you execute this, \"Uranus\" will be added to the list."
   ]
  },
  {
   "cell_type": "code",
   "execution_count": null,
   "id": "7e702f7c-db96-4123-95c2-87c89d26fdbd",
   "metadata": {
    "tags": []
   },
   "outputs": [],
   "source": [
    "planets"
   ]
  },
  {
   "cell_type": "code",
   "execution_count": null,
   "id": "ab1b1358-f641-40f7-8989-604a02e09c4e",
   "metadata": {
    "tags": []
   },
   "outputs": [],
   "source": [
    "# Try to print or just type in the variable 'planets' to see the changes\n",
    "# Answer"
   ]
  },
  {
   "cell_type": "code",
   "execution_count": null,
   "id": "05f1e42c-a3e2-4a57-bab8-a80843a0d1a7",
   "metadata": {
    "tags": []
   },
   "outputs": [],
   "source": [
    "# Deleting Elements From a List using '.remove()' method\n",
    "\n",
    "# There are also methods to deleting or removing items from a list. \n",
    "# The remove method will find the first item in the list that matches the argument and remove this.\n",
    "# To delete the list we can do the following:\n",
    "\n",
    "planets.remove(\"Venus\") # If you execute this, \"Venus\" will be deleted from the list."
   ]
  },
  {
   "cell_type": "code",
   "execution_count": null,
   "id": "999065bf-a295-4974-9d57-e10cc237ffbe",
   "metadata": {
    "tags": []
   },
   "outputs": [],
   "source": [
    "# Venus is deleted \n",
    "planets"
   ]
  },
  {
   "cell_type": "markdown",
   "id": "6b6148c0-dec0-4849-9a32-823d47795ea1",
   "metadata": {},
   "source": [
    "## 🌟 Happy so far? This is D1 Level! Now you can spend you time to redo the previous examples to make sure you are familiar with lists before proceeding to the next lesson!"
   ]
  },
  {
   "cell_type": "markdown",
   "id": "91d7f7a5-c449-4d4e-9bf3-ec3670ab9cec",
   "metadata": {},
   "source": [
    "---\n",
    "---\n",
    "#  💫💫💫💫💫💫💫💫💫💫💫💫💫💫💫💫💫💫💫💫💫💫💫💫💫💫💫💫💫💫💫💫💫\n",
    "# ☕ LET US TAKE A BREAK!!☕ - Go and have a rest and come back later to continue with the adventure!\n",
    "#  💫💫💫💫💫💫💫💫💫💫💫💫💫💫💫💫💫💫💫💫💫💫💫💫💫💫💫💫💫💫💫💫💫\n",
    "---\n",
    "---"
   ]
  },
  {
   "cell_type": "markdown",
   "id": "c1040ea8-e23c-4ac8-a93b-cfdfbdae9d3e",
   "metadata": {},
   "source": [
    "# ✨✨✨✨✨✨✨✨✨✨✨✨✨✨✨✨✨✨✨✨✨✨✨✨✨✨✨✨✨✨✨✨✨✨✨✨✨\n",
    "# 🎉 **Hi! Welcome back to our next stage, Developing (D2) Python Training Programme!** 🎉\n",
    "# ✨✨✨✨✨✨✨✨✨✨✨✨✨✨✨✨✨✨✨✨✨✨✨✨✨✨✨✨✨✨✨✨✨✨✨✨✨"
   ]
  },
  {
   "cell_type": "markdown",
   "id": "1468707e-3e2f-46e6-97da-94bfe23b7188",
   "metadata": {},
   "source": [
    "---\n",
    "---\n",
    "# **DEVELOPING (D2)**\n",
    "## OBJECTIVE : BY THE END OF THIS LESSON YOU SHOULD BE ABLE TO :\n",
    "### ✅ Commenting codes\n",
    "### ✅ Importing Python libraries\n",
    "### ✅ Identify and Debug Errors\n",
    "---\n",
    "---"
   ]
  },
  {
   "cell_type": "markdown",
   "id": "e68b877d-fbff-4eb4-b858-b02286c264fc",
   "metadata": {},
   "source": [
    "# 🔷 Commenting a code!\n",
    "---\n",
    "## 💡 How does it look like in Python?\n",
    "## 🌟 You have seen this! It is easy to identify this. In Python, comments are typically denoted with \"#\". They are usually located at the top or beside codes.\n",
    "## 🌟 Commenting helps in guiding a programmer to understand what a code does and show information or instructions about the entire code\n",
    "---\n",
    "## 💡 Why Commenting Your Code Is So Important?\n",
    "## 🌟 Comments can be used to explain Python code.\n",
    "## 🌟 Comments can be used to make the code more readable.\n",
    "## 🌟 Comments can be used to prevent execution when testing code.\n",
    "---"
   ]
  },
  {
   "cell_type": "code",
   "execution_count": null,
   "id": "79f6e80c-8f4a-44ce-aa49-fbae9495a9be",
   "metadata": {},
   "outputs": [],
   "source": [
    "# Video Tutorial 3\n",
    "from IPython.display import clear_output, display, HTML\n",
    "HTML('<iframe width=\"790\" height=\"444\" src=\"https://www.youtube.com/embed/xakcCuEUlL8\" title=\"Developing - 3\" frameborder=\"0\" allow=\"accelerometer; autoplay; clipboard-write; encrypted-media; gyroscope; picture-in-picture; web-share\" referrerpolicy=\"strict-origin-when-cross-origin\" allowfullscreen></iframe>')"
   ]
  },
  {
   "cell_type": "markdown",
   "id": "fe02a5a8-0413-407f-81f5-52c8fff10c22",
   "metadata": {},
   "source": [
    "---\n",
    "# **EXAMPLE 1** : Commenting codes using \"#\" \n",
    "## 🚀 Topic : Calculation of Pressure of an Ideal Gas\n",
    "---"
   ]
  },
  {
   "cell_type": "code",
   "execution_count": null,
   "id": "159d8d2a-5424-4b0f-811d-1465e8df843c",
   "metadata": {
    "tags": []
   },
   "outputs": [],
   "source": [
    "# This code is used to calculate Pressure of an Ideal Gas using Ideal gas Law.\n",
    "# Ideal Gas Law is given by PV = nRT\n",
    "\n",
    "# Given values\n",
    "V = 10  # Volume in liters\n",
    "n = 2   # Number of moles\n",
    "T = 300  # Temperature in Kelvin\n",
    "R = 0.0821  # Ideal gas constant in L·atm/(mol·K)\n",
    "\n",
    "# Calculate pressure\n",
    "P = (n * R * T) / V\n",
    "\n",
    "# Prints the result using f-string technique. It uses {} to retreive the result of the calculation. You can use a simple print() to show the result as well.\n",
    "print(f\"The pressure is {P} atm\")"
   ]
  },
  {
   "cell_type": "markdown",
   "id": "cce39fd5-f7ad-421b-8a94-560405a9d052",
   "metadata": {},
   "source": [
    "---\n",
    "# **EXAMPLE 2** : Commenting codes using \"#\" \n",
    "## 🚀 Topic : Calculation of weight using Newton's Second Law\n",
    "---"
   ]
  },
  {
   "cell_type": "code",
   "execution_count": null,
   "id": "d2f90517-aaf7-4225-a45d-fced5fe55948",
   "metadata": {},
   "outputs": [],
   "source": [
    "# This code is used to calculate weight using Newton's Second Law\n",
    "# Newton's Second Law , F = ma\n",
    "\n",
    "# Given values\n",
    "m = 5  # Mass in kilograms\n",
    "a = 9.8  # Acceleration in meters per second squared (approximate acceleration due to gravity)\n",
    "\n",
    "# Calculate force\n",
    "F = m * a\n",
    "\n",
    "# Prints the result using f-string technique. It uses {} to retreive the result of the calculation. You can use a simple print() to show the result as well.\n",
    "print(f\"The force is {F} newtons\")"
   ]
  },
  {
   "cell_type": "markdown",
   "id": "a407b33f-20de-435c-aa4b-47c99f348521",
   "metadata": {},
   "source": [
    "---\n",
    "# 🚀 Great work! Now you are going to apply your first code commenting skills in the following examples! \n",
    "# # Tips: Refer from the previous examples to guide you!\n",
    "# Good luck!\n",
    "---"
   ]
  },
  {
   "cell_type": "markdown",
   "id": "969216a4-3c64-4cba-948f-734217fd6c06",
   "metadata": {},
   "source": [
    "# **Task D2.1** : Create a code that perform the following and include comments.\n",
    "\n",
    "# 🚀 Question : A rifle shoots a 4.25 g bullet at a velocity of 965 m s–1. What is its kinetic energy?\n",
    "# ✅ Kinetic energy formula is given by, KE = 1/2 * m * v^2\n",
    "# ✅ use ** for power"
   ]
  },
  {
   "cell_type": "code",
   "execution_count": null,
   "id": "c757acaf-7b8c-4da4-9a1f-10c64d9427d3",
   "metadata": {
    "tags": []
   },
   "outputs": [],
   "source": [
    "# Answer"
   ]
  },
  {
   "cell_type": "markdown",
   "id": "8d6df070-8597-4cf7-a7de-6598ee82a160",
   "metadata": {},
   "source": [
    "# **Task D2.2** : Create a code that perform the following and include comments.\n",
    "\n",
    "# ✅ 🚀 Question : Calculate the amount of carbon atoms in 6.0 g of carbon. (Relative atomic mass: C = 12.0)\n",
    "# ✅ n = m / M (Where, n = The number of moles, m = The given mass, and M = The molar mass)"
   ]
  },
  {
   "cell_type": "code",
   "execution_count": null,
   "id": "e2a30d6a-7866-47ad-a479-fe28ffcacba0",
   "metadata": {},
   "outputs": [],
   "source": [
    "# Answer"
   ]
  },
  {
   "cell_type": "markdown",
   "id": "fe624271-a242-4961-8f4a-6a76d4a03f86",
   "metadata": {},
   "source": [
    "## 🌟 Tremendous Job! You are progressing really well! Keep going with the next section on utilising Python libraries using \"import\" technique\n",
    "# Enjoy!"
   ]
  },
  {
   "cell_type": "markdown",
   "id": "bfd5964d-198b-414b-88cf-28424212720f",
   "metadata": {
    "tags": []
   },
   "source": [
    "---\n",
    "---\n",
    "# **DEVELOPING (D2)**\n",
    "## OBJECTIVE : BY THE END OF THIS LESSON YOU SHOULD BE ABLE TO :\n",
    "### ✅ Commenting codes\n",
    "### ✅ Importing Python libraries\n",
    "### ✅ Identify and Debug Errors\n",
    "---\n",
    "---"
   ]
  },
  {
   "cell_type": "code",
   "execution_count": null,
   "id": "aefaf607-b8d3-420b-b5bc-a86482bdbee0",
   "metadata": {
    "tags": []
   },
   "outputs": [],
   "source": [
    "# Video Tutorial 4\n",
    "from IPython.display import clear_output, display, HTML\n",
    "HTML('<iframe width=\"790\" height=\"444\" src=\"https://www.youtube.com/embed/XtSjOiRWM24\" title=\"Developing - 4\" frameborder=\"0\" allow=\"accelerometer; autoplay; clipboard-write; encrypted-media; gyroscope; picture-in-picture; web-share\" referrerpolicy=\"strict-origin-when-cross-origin\" allowfullscreen></iframe>')"
   ]
  },
  {
   "cell_type": "markdown",
   "id": "1369cef7-2245-4b45-af4a-af5a2df3edb7",
   "metadata": {},
   "source": [
    "# 🔷 Importing Python Libraries\n",
    "---\n",
    "## 💡 What is a python library?\n",
    "## 🌟 A python library is collection of \"tools\" for Python to use when it executes a code that will produce various results. Some outcomes need special \"tool\" to be used.\n",
    "## 🌟 Libraries are collections of ready-made code that add extra features and make difficult tasks easier. \n",
    "## 🌟 By importing libraries, we can use this existing code to do things without having to write it all ourselves.The \"*as*\" command states the abbreviated name we want to assign to the module.\n",
    "## 🌟 We will learn how to \"import\" necessary libraries that will be needed specifically for our training.\n",
    "---\n",
    "## 💡 How does importing Python library look like?\n",
    "## 🌟 If you look back at the first **CODE CELL** of Emerging Level notebook materials, you can see there are a lot of importing \"**libraries**\" took place.\n",
    "## 🌟 Those libraries are the enablers for Python to be able to produce the outputs such as visuals, interactive buttons, embedded videos and other needs for this training materials.\n",
    "---\n",
    "## 💡 How many libraries we are going to use in this training?\n",
    "## 🌟 At this stage, we will learn to import some required libraries that enable us to do the following:\n",
    "### ✅ Data Analysis and Visualisation \n",
    "### ✅ Simulations\n",
    "### ✅ Modelling\n",
    "### ✅ Fast calculations\n",
    "## 🌟 There are a lot of libraries in python that can be imported depending on our needs. \n",
    "## 🌟 We will only focus on these libraries:\n",
    "### ✅ matplotlib.pyplot\n",
    "### ✅ numpy\n",
    "### ✅ pandas"
   ]
  },
  {
   "cell_type": "markdown",
   "id": "d2643669-4616-475d-8775-01ba837b6bc6",
   "metadata": {},
   "source": [
    "---\n",
    "---\n",
    "# **✨PYTHON LIBRARY 1✨** : Matplotlib using \"matplotlib.pyplot\" \n",
    "\n",
    "## 🌟 Matplotlib is a comprehensive library for creating static, animated, and interactive visualizations in Python. It makes easy things easy and hard things possible.\n",
    "## 🌟 Why do we use matplotlib?\n",
    "### ✒️ Create publication quality plots.\n",
    "### ✒️ Make interactive figures that can zoom, pan, update.\n",
    "### ✒️ Customize visual style and layout.\n",
    "### ✒️ Export to many file formats.\n",
    "### ✒️ Embed in JupyterLab and Graphical User Interfaces.\n",
    "### ✒️ Use a rich array of third-party packages built on Matplotlib\n",
    "##  🌟 We simply type \"import matplotlib.pyplot as plt\" or any name name you prefer such as \"import matplotlib.pyplot as matplotlib\"\n",
    "---\n",
    "---"
   ]
  },
  {
   "cell_type": "markdown",
   "id": "b3e5b31f-6ded-421c-b52e-b3abb1953472",
   "metadata": {},
   "source": [
    "---\n",
    "# **EXAMPLES** : Produce Plots\n",
    "## 🚨Note : In this example i would like to show you the importance of importing a library and the effect if library is not imported.\n",
    "## 🌟 See the difference between a code that imports a library and a code that doesn't You will see this more clearly.\n",
    "## 🌟 EXECUTE the cells to see what happens!\n",
    "---"
   ]
  },
  {
   "cell_type": "markdown",
   "id": "a552bb1f-442d-4b9a-853c-87eee371c429",
   "metadata": {},
   "source": [
    "---\n",
    "---\n",
    "##**EXAMPLE 1** - SUCCESSFUL PLOT\n",
    "---\n",
    "---"
   ]
  },
  {
   "cell_type": "code",
   "execution_count": null,
   "id": "5113cd90-87cf-4df9-88ba-25db851710c5",
   "metadata": {
    "tags": []
   },
   "outputs": [],
   "source": [
    "# This code will be successfully executed \n",
    "\n",
    "# Import the matplotlib library\n",
    "# The \"as\" command states the abbreviated name we want to assign to the module.\n",
    "\n",
    "import matplotlib.pyplot as plt\n",
    "\n",
    "# Create some data to plot\n",
    "x = [1, 2, 3, 4, 5]\n",
    "y = [2, 3, 5, 7, 11]\n",
    "\n",
    "# Create a simple line plot\n",
    "# Python code to do a line plot\n",
    "plt.plot(x, y)\n",
    "plt.xlabel('X Axis')\n",
    "plt.ylabel('Y Axis')\n",
    "plt.title('Simple Line Plot')\n",
    "plt.show()"
   ]
  },
  {
   "cell_type": "markdown",
   "id": "dba40890-5927-425e-84de-05a52997e181",
   "metadata": {},
   "source": [
    "---\n",
    "---\n",
    "##**EXAMPLE 2** - NON-SUCCESSFUL PLOT\n",
    "---\n",
    "---"
   ]
  },
  {
   "cell_type": "code",
   "execution_count": null,
   "id": "32b71769-ed93-4b8a-9cce-12e476805896",
   "metadata": {
    "tags": []
   },
   "outputs": [],
   "source": [
    "# This code will NOT be successfully executed \n",
    "# Missing library!\n",
    "\n",
    "import matplotlib.pyplot as plt\n",
    "\n",
    "# Create some data to plot\n",
    "x = [1, 2, 3, 4, 5]\n",
    "y = [2, 3, 5, 7, 11]\n",
    "\n",
    "# Create a line plot\n",
    "plt.plot(x, y)\n",
    "plt.xlabel('X Axis')\n",
    "plt.ylabel('Y Axis')\n",
    "plt.title('Simple Line Plot')\n",
    "plt.show()"
   ]
  },
  {
   "cell_type": "markdown",
   "id": "6451708d-f338-4caa-8c47-dfdcca4c9c29",
   "metadata": {},
   "source": [
    "---\n",
    "---\n",
    "##**EXAMPLE 3** - SUCCESSFUL PLOT\n",
    "---\n",
    "---"
   ]
  },
  {
   "cell_type": "code",
   "execution_count": null,
   "id": "9edaa31f-e6d9-41bc-a47b-22d3ca6aa933",
   "metadata": {
    "tags": []
   },
   "outputs": [],
   "source": [
    "# This code will be successfully executed \n",
    "\n",
    "import matplotlib.pyplot as plt\n",
    "\n",
    "x = [1, 2, 3, 4, 5]\n",
    "y = [1, 4, 9, 16, 25]\n",
    "z = [1, 8, 27, 64, 125]\n",
    "# Creating the figure object\n",
    "fig = plt.figure()\n",
    "# keeping the projection = 3d\n",
    "# creates the 3d plot\n",
    "ax = plt.axes(projection = '3d')\n",
    "ax.plot3D(z, y, x)"
   ]
  },
  {
   "cell_type": "markdown",
   "id": "808633e1-ccc3-41d3-9e41-05166fde38a2",
   "metadata": {},
   "source": [
    "---\n",
    "# # 🚀 Great work! Now you are going to apply your Python library importing skills (Importing matplotlib library)\n",
    "# All the best!\n",
    "---"
   ]
  },
  {
   "cell_type": "code",
   "execution_count": null,
   "id": "9364f582-a913-4aa6-b43b-b423843d23f5",
   "metadata": {
    "tags": []
   },
   "outputs": [],
   "source": [
    "# Task D2.3 - Now your turn to do a 3d-plot same as above and in your code please\n",
    "# import matplotlib\n",
    "\n",
    "j = [0, 1, 5, 2, 3]\n",
    "k = [3, 1, 7, 2, 50]\n",
    "l = [2, 2, 2, 70, 250]\n",
    "\n",
    "# Missing code"
   ]
  },
  {
   "cell_type": "markdown",
   "id": "bed637a8-ec17-4368-b004-278078b724ad",
   "metadata": {},
   "source": [
    "---\n",
    "---\n",
    "# **✨PYTHON LIBRARY 2✨** : NumPy library (Numerical Python)  \n",
    "## 🌟 NumPy is an open source Python library that’s widely used in science and engineering.\n",
    "## 🌟 Why do we use NumPy?\n",
    "### ✒️ It contains multidimensional array data structures\n",
    "### ✒️ It contains a large library of functions that operate efficiently on these data structures\n",
    "## 🌟 How to use it in a code?\n",
    "## ✒️ We simply type \"import numpy as np\" or any name you prefer such as \"import numpy as numpy\"\n",
    "---\n",
    "---"
   ]
  },
  {
   "cell_type": "markdown",
   "id": "4746020f-4541-428c-932f-8e337007b720",
   "metadata": {},
   "source": [
    "---\n",
    "# **EXAMPLES** : Create multidimensional array, Calculation and Generate an array with datapoints\n",
    "## 🚨Note : In this example, i will show you how NumPy enables Python to perform the above tasks."
   ]
  },
  {
   "cell_type": "code",
   "execution_count": null,
   "id": "139fbc7d-e77a-44c0-9bf9-a7ce02c3e99a",
   "metadata": {},
   "outputs": [],
   "source": [
    "# Video Tutorial 5\n",
    "from IPython.display import clear_output, display, HTML\n",
    "HTML('<iframe width=\"790\" height=\"444\" src=\"https://www.youtube.com/embed/Sz6NWDoJN04\" title=\"Developing - 5\" frameborder=\"0\" allow=\"accelerometer; autoplay; clipboard-write; encrypted-media; gyroscope; picture-in-picture; web-share\" referrerpolicy=\"strict-origin-when-cross-origin\" allowfullscreen></iframe>')"
   ]
  },
  {
   "cell_type": "markdown",
   "id": "0ed5562e-6e29-4242-b9b5-bab96269acf7",
   "metadata": {},
   "source": [
    "---\n",
    "---\n",
    "## **EXAMPLE 4** - CREATING ONE-DIMENSIONAL ARRAY\n",
    "---\n",
    "---"
   ]
  },
  {
   "cell_type": "code",
   "execution_count": null,
   "id": "3d59f366-3773-428a-ab6a-6ac0d3be837a",
   "metadata": {
    "tags": []
   },
   "outputs": [],
   "source": [
    "# Importing numpy to create a one-dimensional array\n",
    "import numpy as np\n",
    "\n",
    "a = np.array([1, 2, 3, 4, 5, 6])\n",
    "a"
   ]
  },
  {
   "cell_type": "markdown",
   "id": "0f53d1f9-2953-40ec-ae01-7a2cc995c16c",
   "metadata": {},
   "source": [
    "---\n",
    "---\n",
    "**EXAMPLE 5** - CREATING 3-DIMENSIONAL ARRAY\n",
    "---\n",
    "---"
   ]
  },
  {
   "cell_type": "code",
   "execution_count": null,
   "id": "1cc33eeb-e21c-4ddf-a972-dbca63441491",
   "metadata": {
    "tags": []
   },
   "outputs": [],
   "source": [
    "#Importing numpy to create a 3-dimensional array\n",
    "import numpy as np\n",
    "\n",
    "b = np.array([[1, 2, 3, 4], [5, 6, 7, 8], [9, 10, 11, 12]])\n",
    "b"
   ]
  },
  {
   "cell_type": "markdown",
   "id": "eacb57ae-9891-4b8b-a072-493533f797b3",
   "metadata": {},
   "source": [
    "---\n",
    "---\n",
    "## **EXAMPLE 6** - USING \".sqrt()\" FUNCTION TO CALCULATE SQUARE ROOT.\n",
    "---\n",
    "---"
   ]
  },
  {
   "cell_type": "code",
   "execution_count": null,
   "id": "ba5e93f8-c50d-4aa4-aa0d-8447abc2c55f",
   "metadata": {
    "tags": []
   },
   "outputs": [],
   "source": [
    "#Importing numpy to calculate square root of an array\n",
    "import numpy as np\n",
    "\n",
    "square_root_a = np.sqrt(a)\n",
    "square_root_a"
   ]
  },
  {
   "cell_type": "code",
   "execution_count": null,
   "id": "a2c4b768-f59a-48fa-959d-e6a9635565f9",
   "metadata": {
    "tags": []
   },
   "outputs": [],
   "source": [
    "#Importing numpy to calculate square root of an array\n",
    "import numpy as np\n",
    "\n",
    "square_root_b = np.sqrt(b)\n",
    "square_root_b"
   ]
  },
  {
   "cell_type": "markdown",
   "id": "47a389f1-f713-48ad-b393-eb82b161f1c4",
   "metadata": {},
   "source": [
    "---\n",
    "---\n",
    "## **EXAMPLE 7** \n",
    "## - Using NumPy and Matplotlib libraries to prodcue a plot using generated datapoints\n",
    "## - NumPy library provides datapoints from the following functions : \".linspace()\", \".exp()\" and \".sin()\"\n",
    "---\n",
    "---"
   ]
  },
  {
   "cell_type": "code",
   "execution_count": null,
   "id": "0b583b10-9ba8-4af4-97dc-8ecad3aecfcf",
   "metadata": {
    "tags": []
   },
   "outputs": [],
   "source": [
    "# Importing numpy and matplotlib to provide datapoint for a plot\n",
    "# Here we apply a function called \".linspace\" to create an array with data from 0.1 to 2pi with 40 data points\n",
    "# np.linspace(start, stop, number of values)\n",
    "# We also use \".exp\" and \".sin\"for calculating exponential and sine of each value in the array.\n",
    "\n",
    "import matplotlib.pyplot as plt \n",
    "import numpy as np \n",
    "\n",
    "x = np.linspace(0.1, 2 * np.pi, 40) \n",
    "y = np.exp(np.sin(x)) \n",
    "\n",
    "plt.stem(x, y) \n",
    "plt.show() "
   ]
  },
  {
   "cell_type": "markdown",
   "id": "a3a2fef6-ab30-4c0d-a5e9-40bd4842841b",
   "metadata": {},
   "source": [
    "---\n",
    "---\n",
    "# **✨PYTHON LIBRARY 3✨** : Pandas Library \n",
    "\n",
    "## 🌟 A type of Python library used to do Data Management\n",
    "## 🌟 Why do we use Pandas?\n",
    "### ✒️ Perform DataFrame - Involves a 2-D tabular data that stores data just like spreadsheet or database. Pandas helps to explore, cleas, and process these data.\n",
    "### ✒️ It contains a large library of functions that operate efficiently on these data structures\n",
    "## 🌟 In what situation we will use Pandas?\n",
    "## ✒️ We will use pandas in next level when we deal with data management and manipulations before we make plots or data analysis.\n",
    "## 🌟 We simply type \"import pandas as pd\" or any name name you prefer such as \"import pandas as pandas\"\n",
    "---\n",
    "---"
   ]
  },
  {
   "cell_type": "code",
   "execution_count": null,
   "id": "28c4cc5c-5610-457f-9286-220a1f981e27",
   "metadata": {
    "tags": []
   },
   "outputs": [],
   "source": [
    "# Import the pandas library\n",
    "import pandas as pd\n",
    "\n",
    "# Create data for planetary characteristics\n",
    "planetary_data = {\n",
    "    'Planet': ['Mercury', 'Venus', 'Earth', 'Mars', 'Jupiter', 'Saturn', 'Uranus', 'Neptune'],\n",
    "    'Mass (kg)': [3.30e23, 4.87e24, 5.97e24, 6.42e23, 1.90e27, 5.68e26, 8.68e25, 1.02e26],\n",
    "    'Diameter (km)': [4879, 12104, 12756, 6792, 139820, 116460, 50724, 49244],\n",
    "}\n",
    "\n",
    "# Create a DataFrame from the planetary data\n",
    "planets_df = pd.DataFrame(planetary_data)\n",
    "\n",
    "# Display the DataFrame\n",
    "\n",
    "print(planets_df)"
   ]
  },
  {
   "cell_type": "markdown",
   "id": "2b9fbb01-3531-42f2-8a16-5f35b2fa74db",
   "metadata": {},
   "source": [
    "---\n",
    "# # 🚀 You are flying higher! Now let us do the following task. You can refer to the previous example to guide you to complete the task below!\n",
    "# Have a go!\n",
    "---"
   ]
  },
  {
   "cell_type": "code",
   "execution_count": null,
   "id": "797759cd-98b7-4da9-ac08-715fa5c9a2e5",
   "metadata": {
    "tags": []
   },
   "outputs": [],
   "source": [
    "# Task D2.4 - Complete the DataFrame code of the chemical properties below. Add what is missing\n",
    "\n",
    "# Import pandas library\n",
    "\n",
    "import \n",
    "\n",
    "# Create data for chemical elements properties\n",
    "elements_data = {\n",
    "    'Element': ['Hydrogen', 'Helium', 'Lithium', 'Beryllium', 'Boron'],\n",
    "    'Symbol': ['H', 'He', 'Li', 'Be', 'B'],\n",
    "    'Atomic Number': [1, 2, 3, 4, 5],\n",
    "    'Atomic Mass (u)': [1.008, 4.0026, 6.94, 9.0122, 10.81],\n",
    "}\n",
    "\n",
    "# Create a DataFrame from the chemical elements data\n",
    "# Answer\n",
    "\n",
    "\n",
    "# Display the DataFrame\n",
    "print()"
   ]
  },
  {
   "cell_type": "markdown",
   "id": "30606221-793c-48df-a36e-6f5e07f52cf6",
   "metadata": {
    "tags": []
   },
   "source": [
    "---\n",
    "---\n",
    "# **DEVELOPING (D2)**\n",
    "## OBJECTIVE : BY THE END OF THIS LESSON YOU SHOULD BE ABLE TO :\n",
    "### ✅ Commenting codes\n",
    "### ✅ Importing Python libraries\n",
    "### ✅ Identify and Debug Errors\n",
    "---\n",
    "---"
   ]
  },
  {
   "cell_type": "code",
   "execution_count": null,
   "id": "8fc546a6-24aa-4030-804f-ee0abe50aae6",
   "metadata": {
    "tags": []
   },
   "outputs": [],
   "source": [
    "# Video Tutorial 6\n",
    "from IPython.display import clear_output, display, HTML\n",
    "HTML('<iframe width=\"790\" height=\"444\" src=\"https://www.youtube.com/embed/gbLnMLt0sDI\" title=\"Developing - 6\" frameborder=\"0\" allow=\"accelerometer; autoplay; clipboard-write; encrypted-media; gyroscope; picture-in-picture; web-share\" referrerpolicy=\"strict-origin-when-cross-origin\" allowfullscreen></iframe>')"
   ]
  },
  {
   "cell_type": "markdown",
   "id": "571efa9c-9dd3-44df-b13d-69afe8b6b9cd",
   "metadata": {},
   "source": [
    "---\n",
    "---\n",
    "# **✨ERRORS AND DEBUGGING✨**\n",
    "\n",
    "## 🌟 There are a lot of error types in Python. Programmers face errors all the time.\n",
    "## 🌟 it is important to be able to understand types of errors that can be raised when creating codes.\n",
    "## 🌟 To start with, we will be using basic examples on codes with errors called \"syntax\" error , \"name error\" and \"index error\"\n",
    "## 🌟 We will learn how to debug these errors using some examples later!\n",
    "## 🌟 As part of the training, you will \"Debug\" the errors in the examples. You need to read the comments to give you how to debug them.\n",
    "---\n",
    "---"
   ]
  },
  {
   "cell_type": "markdown",
   "id": "2176564e-9b70-4d99-b2ea-a6358b705c67",
   "metadata": {},
   "source": [
    "---\n",
    "---\n",
    "## **EXAMPLE 1** - Name Error\n",
    "---\n",
    "---"
   ]
  },
  {
   "cell_type": "code",
   "execution_count": null,
   "id": "a9f2a460-489e-488b-8a82-f73577f34f89",
   "metadata": {
    "tags": []
   },
   "outputs": [],
   "source": [
    "# Example 1 - Misspelled Keywords: Using incorrect Python keywords.\n",
    "prit(\"Learning Python is fun!\") # Should be \"print\" and NOT \"prit\""
   ]
  },
  {
   "cell_type": "code",
   "execution_count": null,
   "id": "a5a3051b-e0de-4ea1-abe4-eb37b1924e2d",
   "metadata": {},
   "outputs": [],
   "source": [
    "print (\"Learning Python is fun!\")"
   ]
  },
  {
   "cell_type": "markdown",
   "id": "5aac774d-45f6-497e-8281-043d2df288e6",
   "metadata": {},
   "source": [
    "---\n",
    "---\n",
    "## **EXAMPLE 2** - Syntax Error\n",
    "---\n",
    "---"
   ]
  },
  {
   "cell_type": "code",
   "execution_count": null,
   "id": "be01cae5-91cf-406e-9731-ffe8350f8a4e",
   "metadata": {
    "tags": []
   },
   "outputs": [],
   "source": [
    "# Example 2\n",
    "my_list = [1,3,2,1,4,5] # Should be square bracket ']' not ')'\n",
    "my_list"
   ]
  },
  {
   "cell_type": "code",
   "execution_count": null,
   "id": "fa31aa99-9996-4c3e-8399-86561bf7234b",
   "metadata": {},
   "outputs": [],
   "source": [
    "# Debug the code"
   ]
  },
  {
   "cell_type": "markdown",
   "id": "3a0ed232-3430-4948-adbf-ec3430fcce4b",
   "metadata": {},
   "source": [
    "---\n",
    "---\n",
    "## **EXAMPLE 3** - Name Error\n",
    "---\n",
    "---"
   ]
  },
  {
   "cell_type": "code",
   "execution_count": null,
   "id": "f7a848f9-958c-464f-a131-44c4911b965b",
   "metadata": {
    "tags": []
   },
   "outputs": [],
   "source": [
    "# Example 3 - NameError: Raised when a local or global name is not found.\n",
    "print(p)  \n",
    "# NameError: name 'p' is not defined"
   ]
  },
  {
   "cell_type": "code",
   "execution_count": null,
   "id": "13f9bd5b-a4b9-4273-b984-daea11499cf4",
   "metadata": {},
   "outputs": [],
   "source": [
    "# Debug the code"
   ]
  },
  {
   "cell_type": "markdown",
   "id": "e117f9a9-c37a-40f4-85b0-6aaf4cbf9877",
   "metadata": {},
   "source": [
    "---\n",
    "---\n",
    "## **EXAMPLE 4** - Type Error\n",
    "---\n",
    "---"
   ]
  },
  {
   "cell_type": "code",
   "execution_count": null,
   "id": "db2c5275-bc59-4cdc-ba8b-b32326f53d68",
   "metadata": {},
   "outputs": [],
   "source": [
    "# Example 4 - TypeError: Raised when an operation or function is applied to an object of inappropriate type.\n",
    "\"2\" + 2  \n",
    "# TypeError: integer and string type"
   ]
  },
  {
   "cell_type": "code",
   "execution_count": null,
   "id": "04afb6c7-6e17-44cd-a361-d57c56137231",
   "metadata": {},
   "outputs": [],
   "source": [
    "2 + 2"
   ]
  },
  {
   "cell_type": "markdown",
   "id": "9c9d7181-f2a8-4ae6-9aa2-2d9cf9b74261",
   "metadata": {},
   "source": [
    "---\n",
    "---\n",
    "## **EXAMPLE 5** - Index Error\n",
    "---\n",
    "---"
   ]
  },
  {
   "cell_type": "code",
   "execution_count": null,
   "id": "6a56db11-34b3-41a6-95af-467ab859b3dc",
   "metadata": {
    "tags": []
   },
   "outputs": [],
   "source": [
    "# Example 5 - IndexError: Raised when an index is not found in a sequence.\n",
    "list_2 = [1, 2, 3] \n",
    "print(list_2[0])  \n",
    "# IndexError: list index out of range (Only valid from 0 to 2)"
   ]
  },
  {
   "cell_type": "code",
   "execution_count": null,
   "id": "74c8f1f9-d10c-4e41-afab-2e9bfc4117c7",
   "metadata": {},
   "outputs": [],
   "source": [
    "# Debug the code"
   ]
  },
  {
   "cell_type": "markdown",
   "id": "0ff443d3-5a61-4034-9c05-bfa648b6c9d0",
   "metadata": {},
   "source": [
    "---\n",
    "---\n",
    "## **EXAMPLE 6** - Syntax Error\n",
    "---\n",
    "---"
   ]
  },
  {
   "cell_type": "code",
   "execution_count": null,
   "id": "2542e6ba-f72c-42eb-866b-ce8c8f378004",
   "metadata": {},
   "outputs": [],
   "source": [
    "# Example 6 - Syntax Error. Debug the code\n",
    "import numpy as np\n",
    "\n",
    "my_values = [100,81,64,49,36,25,16]\n",
    "square_root = np.sqrt(my_values)\n",
    "square_root"
   ]
  },
  {
   "cell_type": "code",
   "execution_count": null,
   "id": "156ab050-ad7f-472b-a0ad-b8f0e4b047f1",
   "metadata": {},
   "outputs": [],
   "source": [
    "# Debug the code"
   ]
  },
  {
   "cell_type": "markdown",
   "id": "68f3d40a-0946-4350-bc0b-fea0ebfee23a",
   "metadata": {},
   "source": [
    "## 🌟 Welldone! You have learnt how to create comments, import python libraries and debug basic errors!. This Developing Level 2!"
   ]
  },
  {
   "cell_type": "markdown",
   "id": "aa4daec5-f4e2-4ce6-b386-f883d0b21431",
   "metadata": {},
   "source": [
    "---\n",
    "---\n",
    "#  💫💫💫💫💫💫💫💫💫💫💫💫💫💫💫💫💫💫💫💫💫💫💫💫💫💫💫💫💫💫💫💫💫\n",
    "# ☕ LET US TAKE A BREAK!!☕ - Go and have a rest and come back later to continue with the adventure!\n",
    "#  💫💫💫💫💫💫💫💫💫💫💫💫💫💫💫💫💫💫💫💫💫💫💫💫💫💫💫💫💫💫💫💫💫\n",
    "---\n",
    "---"
   ]
  },
  {
   "cell_type": "markdown",
   "id": "94149fe6-843b-48a7-8f4f-ddee121f7504",
   "metadata": {},
   "source": [
    "# ✨✨✨✨✨✨✨✨✨✨✨✨✨✨✨✨✨✨✨✨✨✨✨✨✨✨✨✨✨✨✨✨✨✨✨✨✨✨\n",
    "# 🎉 **Hi! Welcome back to our next stage, Developing (D3) Python Training Programme!** 🎉\n",
    "# ✨✨✨✨✨✨✨✨✨✨✨✨✨✨✨✨✨✨✨✨✨✨✨✨✨✨✨✨✨✨✨✨✨✨✨✨✨✨"
   ]
  },
  {
   "cell_type": "markdown",
   "id": "7eef2f3d-d983-438d-a854-7f2db325794f",
   "metadata": {},
   "source": [
    "---\n",
    "---\n",
    "# **DEVELOPING (D3)**\n",
    "## OBJECTIVE : BY THE END OF THIS LESSON YOU SHOULD BE ABLE TO :\n",
    "### ✅ Code using Control Flow (If, For Loop and While loop)\n",
    "---\n",
    "---"
   ]
  },
  {
   "cell_type": "code",
   "execution_count": null,
   "id": "b343ea0b-bfa8-4ebd-ad7c-6364232d6ec2",
   "metadata": {
    "tags": []
   },
   "outputs": [],
   "source": [
    "# Video Tutorial 7\n",
    "from IPython.display import clear_output, display, HTML\n",
    "HTML('<iframe width=\"806\" height=\"504\" src=\"https://www.youtube.com/embed/ni33jVWAfJ4\" title=\"Developing - 7\" frameborder=\"0\" allow=\"accelerometer; autoplay; clipboard-write; encrypted-media; gyroscope; picture-in-picture; web-share\" referrerpolicy=\"strict-origin-when-cross-origin\" allowfullscreen></iframe>')"
   ]
  },
  {
   "cell_type": "markdown",
   "id": "68dd5e1b-eed2-48cd-a1a9-6a9adb07cdc9",
   "metadata": {},
   "source": [
    "---\n",
    "---\n",
    "# **✨CONTROL FLOW✨** - Using Operators\n",
    "\n",
    "## 🌟 Python operator combines two boolean expressions and evaluates to True if least one of the expressions returns True.\n",
    "## 🌟 On the other hand, if both expressions are False, then the entire expression evaluates to False.\n",
    "## 🌟 In, Python we use the following operators:\n",
    "---\n",
    "## 🚨 Logical Operators and Python codes used\n",
    "| Name| Python code |\n",
    "| --- | --- |\n",
    "| Equals | <b>a == b<b> ||>|\n",
    "| Less than | <b>a < b<b> ||>|\n",
    "| Less than or equal to | <b>a <= b<b> ||>|\n",
    "| Greater than | <b>a > b<b> ||>|\n",
    "| Greater than or equal to | <b>a >= b<b> ||>|\n",
    "| Not Equal | <b>a != b<b> ||>|\n",
    "| Is in | <b>a in b<b> ||>|\n",
    "---\n",
    "---"
   ]
  },
  {
   "cell_type": "markdown",
   "id": "3365e6a1-7c7e-402b-b1b6-0b1e55b69c1c",
   "metadata": {},
   "source": [
    "---\n",
    "---\n",
    "## **EXAMPLE 1** - Using Simple Boolean\n",
    "---\n",
    "---"
   ]
  },
  {
   "cell_type": "code",
   "execution_count": null,
   "id": "5c3c9fa9-53d8-4184-8149-7d28d02bf750",
   "metadata": {
    "tags": []
   },
   "outputs": [],
   "source": [
    "# Let us recall the following boolen data type to start with\n",
    "gold_is_metal= True\n",
    "gold_is_not_metal = False"
   ]
  },
  {
   "cell_type": "code",
   "execution_count": null,
   "id": "c99a9586-9d5a-4dd7-a6dc-62e16678662b",
   "metadata": {
    "tags": []
   },
   "outputs": [],
   "source": [
    "# Printing the output for \"True\"\n",
    "print (gold_is_metal)"
   ]
  },
  {
   "cell_type": "code",
   "execution_count": null,
   "id": "74f0ff39-bea4-4f7d-92ed-6315fca59380",
   "metadata": {
    "tags": []
   },
   "outputs": [],
   "source": [
    "# Printing the output for \"False\"\n",
    "print (gold_is_not_metal)"
   ]
  },
  {
   "cell_type": "markdown",
   "id": "4abbcb15-5a43-4c4d-9a7c-24a6be909a9d",
   "metadata": {},
   "source": [
    "---\n",
    "---\n",
    "## **EXAMPLE 2** - Equal Operator \"==\"\n",
    "---\n",
    "---\n",
    "\n",
    "## 🌟 The equal operator, ==, is used to compare two values, variables or expressions to determine if they are the same.\n",
    "\n",
    "## 🌟 If the values being compared are the same, the operator returns True, otherwise it returns False.\n",
    "\n",
    "## 🌟 The operator takes the data type into account when making the comparison, so a string value of \"2\" is not considered the same as a numeric value of 2.\n",
    "\n",
    "## 🚨 Note : \"=\" assigns a variable and \"==\" compares two objects."
   ]
  },
  {
   "cell_type": "code",
   "execution_count": null,
   "id": "0f193dd0-0d19-46f0-bce7-7114c2984a42",
   "metadata": {
    "tags": []
   },
   "outputs": [],
   "source": [
    "# Showing true logic\n",
    "2 == 2"
   ]
  },
  {
   "cell_type": "code",
   "execution_count": null,
   "id": "e8c8b74d-a24c-4631-97af-0522a4bcddd2",
   "metadata": {
    "tags": []
   },
   "outputs": [],
   "source": [
    "# Showing false logic\n",
    "0 == 2"
   ]
  },
  {
   "cell_type": "markdown",
   "id": "927be7d2-429a-473e-a0d0-fc4404b1f470",
   "metadata": {},
   "source": [
    "---\n",
    "---\n",
    "## **EXAMPLE 3** - Equal and Non-Equal Operator \"==\", \"<=\" and \">=\"\n",
    "---\n",
    "---"
   ]
  },
  {
   "cell_type": "code",
   "execution_count": null,
   "id": "1a2b8602-09ab-46ed-acec-86004005ad27",
   "metadata": {
    "tags": []
   },
   "outputs": [],
   "source": [
    "# Define variables (Mass of earth and Moon) \n",
    "mass_earth = 5.972e24 # 5.972 x 10^24 kg\n",
    "mass_moon = 7.35e22 # 7.35E22 X 10^22 kg"
   ]
  },
  {
   "cell_type": "code",
   "execution_count": null,
   "id": "3ba20215-79f2-43b0-90cf-bb3fec3b5550",
   "metadata": {
    "tags": []
   },
   "outputs": [],
   "source": [
    "# Returns a \"False\"\n",
    "mass_earth == mass_moon"
   ]
  },
  {
   "cell_type": "code",
   "execution_count": null,
   "id": "6faaf70e-1130-43aa-9dae-52e394a4b8e3",
   "metadata": {
    "tags": []
   },
   "outputs": [],
   "source": [
    "# Returns a \"False\"\n",
    "mass_earth <= mass_moon"
   ]
  },
  {
   "cell_type": "code",
   "execution_count": null,
   "id": "3570a7d6-f985-4938-8563-1060deaff50e",
   "metadata": {},
   "outputs": [],
   "source": [
    "# Your turn to try for \"<=\". Have a go!"
   ]
  },
  {
   "cell_type": "code",
   "execution_count": null,
   "id": "ebda8540-a5e0-4477-aae8-270d63641b12",
   "metadata": {},
   "outputs": [],
   "source": [
    "# Your turn to try for \">=\". Have a go!"
   ]
  },
  {
   "cell_type": "markdown",
   "id": "254b0726-6478-4303-8d3b-d32fb16f2b90",
   "metadata": {},
   "source": [
    "---\n",
    "---\n",
    "## **EXAMPLE 4** - Using \"in\" control flow\n",
    "---\n",
    "---\n",
    "## 🌟 Now we move on to discover the control flow code \"in\" which simply means to inform that if an element \"is in\" a list, it will return \"True\" condition."
   ]
  },
  {
   "cell_type": "code",
   "execution_count": null,
   "id": "dce91737-d519-4b92-9413-90dafd638e3a",
   "metadata": {
    "tags": []
   },
   "outputs": [],
   "source": [
    "# We use the list below to check whether 6 is in the list.\n",
    "\n",
    "my_favourite_numbers = [5,11,13,24,55,111]\n",
    "\n",
    "55 in my_favourite_numbers # Number '6' is NOT in the list"
   ]
  },
  {
   "cell_type": "markdown",
   "id": "0df5fea2-f7e0-4225-bbff-4c3154052d95",
   "metadata": {
    "tags": []
   },
   "source": [
    "---\n",
    "---\n",
    "## **Task D3.1** : Now your turn to use the code to check whether these numbers are in the list\n",
    "## 13, 30 and 55\n",
    "---\n",
    "---"
   ]
  },
  {
   "cell_type": "code",
   "execution_count": null,
   "id": "d0d00b21-1479-419c-9090-19cb0b8836bf",
   "metadata": {},
   "outputs": [],
   "source": [
    "# Answer"
   ]
  },
  {
   "cell_type": "markdown",
   "id": "ccf9d31b-0d6a-4fac-8de8-4977c82299e6",
   "metadata": {},
   "source": [
    "---\n",
    "---\n",
    "## **EXAMPLE 5** - Using \"in\" control flow\n",
    "---\n",
    "---\n",
    "## 🌟 Next example to give you more understanding!"
   ]
  },
  {
   "cell_type": "code",
   "execution_count": null,
   "id": "d7d296a7-6c1c-412c-ae29-a997e24ccf52",
   "metadata": {
    "tags": []
   },
   "outputs": [],
   "source": [
    "# Using metal_list to find out whether \"silver\" or \"wood\" are in the list.\n",
    "metal_list = [\"Iron\", \"Copper\", \"Aluminium\", \"Gold\", \"Silver\", \"Platinum\", \"Zinc\"]"
   ]
  },
  {
   "cell_type": "code",
   "execution_count": null,
   "id": "0ad8b552-d97d-4329-84cd-1b691594146a",
   "metadata": {
    "tags": []
   },
   "outputs": [],
   "source": [
    "# We set variables containing the condition \"in\"\n",
    "\n",
    "silver = \"Silver\" not in metal_list\n",
    "wood = \"Wood\" not in metal_list"
   ]
  },
  {
   "cell_type": "code",
   "execution_count": null,
   "id": "35e26ad7-b9cb-48f9-ab19-667712670ac1",
   "metadata": {
    "tags": []
   },
   "outputs": [],
   "source": [
    "silver"
   ]
  },
  {
   "cell_type": "code",
   "execution_count": null,
   "id": "5fc136ce-0ead-437f-8ad7-af0de8a29382",
   "metadata": {
    "tags": []
   },
   "outputs": [],
   "source": [
    "wood"
   ]
  },
  {
   "cell_type": "markdown",
   "id": "79ad5035-ae57-4112-8295-32c820d15246",
   "metadata": {},
   "source": [
    "---\n",
    "---\n",
    "## **Task D3.2** : Now your turn to use the code to check whether these elements are in the list\n",
    "## Copper, Zinc and Stone\n",
    "---\n",
    "---"
   ]
  },
  {
   "cell_type": "code",
   "execution_count": null,
   "id": "58586f83-593b-4e04-9335-577e0d5d3188",
   "metadata": {},
   "outputs": [],
   "source": [
    "# Answer"
   ]
  },
  {
   "cell_type": "markdown",
   "id": "61e64150-183d-4f48-bc6e-ff7f9117be24",
   "metadata": {
    "tags": []
   },
   "source": [
    "---\n",
    "---\n",
    "## **Task D3.3** :Investigate using \"not in\".\n",
    "## Use the operator and compare the difference with \"in\"\n",
    "---\n",
    "---"
   ]
  },
  {
   "cell_type": "code",
   "execution_count": null,
   "id": "82d51950-ed5a-4681-a11d-cce66bf5a8df",
   "metadata": {},
   "outputs": [],
   "source": [
    "# Answer"
   ]
  },
  {
   "cell_type": "markdown",
   "id": "496f0d0f-4176-4b9b-904d-63f13d92de68",
   "metadata": {
    "tags": []
   },
   "source": [
    "---\n",
    "---\n",
    "# **✨CONTROL FLOW✨** - Combining Operators\n",
    "\n",
    "## 🌟 We can combine operators using \"and\" & \"or\" to create more specified control flow\n",
    "## 🌟 What you are going to see is two operators are combined together and creates control flow that will provide more condtions for Python to decide.\n",
    "## 🌟 The \"and\" code is to give **BOTH** conditions are **TRUE** and the \"or\" code is to give **ONE** of the conditions is **TRUE**.\n",
    "---\n",
    "---"
   ]
  },
  {
   "cell_type": "code",
   "execution_count": null,
   "id": "cbbb4dcf-7dce-4706-af13-e20bdbcd8dc0",
   "metadata": {
    "tags": []
   },
   "outputs": [],
   "source": [
    "# Video Tutorial 8\n",
    "from IPython.display import clear_output, display, HTML\n",
    "HTML('<iframe width=\"806\" height=\"504\" src=\"https://www.youtube.com/embed/L74d1InIzeU\" title=\"Developing - 8\" frameborder=\"0\" allow=\"accelerometer; autoplay; clipboard-write; encrypted-media; gyroscope; picture-in-picture; web-share\" referrerpolicy=\"strict-origin-when-cross-origin\" allowfullscreen></iframe>')"
   ]
  },
  {
   "cell_type": "markdown",
   "id": "335c170a-c90f-493d-a3a4-1bdf26896dc6",
   "metadata": {},
   "source": [
    "---\n",
    "---\n",
    "## **EXAMPLE 1** - Using \"and\" and \"or\" control flow\n",
    "---\n",
    "---\n",
    "## 🌟 \"and and \"or\" code"
   ]
  },
  {
   "cell_type": "code",
   "execution_count": null,
   "id": "406487e2-1b16-4256-9ae5-f2d62444e6c7",
   "metadata": {
    "tags": []
   },
   "outputs": [],
   "source": [
    "# The \"and\" code is to give both conditions are \"TRUE\"\n",
    "2 < 8 and 10 > 9"
   ]
  },
  {
   "cell_type": "code",
   "execution_count": null,
   "id": "6987f123-5294-4fb6-8653-8ba88c185fdf",
   "metadata": {
    "tags": []
   },
   "outputs": [],
   "source": [
    "# The \"or\" code is to give ONE of the conditions is \"TRUE\"\n",
    "2 < 8 or 10 < 9"
   ]
  },
  {
   "cell_type": "markdown",
   "id": "af12de1c-0df5-4f61-9333-7eb2deb352b2",
   "metadata": {
    "tags": []
   },
   "source": [
    "---\n",
    "---\n",
    "## **Task D3.4** : True or False\n",
    "## Can you determine if the following compound logical operations will return True or False:\n",
    "---\n",
    "---\n",
    "## Check this - 5 > 20 and 10 == 10"
   ]
  },
  {
   "cell_type": "code",
   "execution_count": null,
   "id": "3a212e5e-59c8-4a7c-bc76-8643cadd8898",
   "metadata": {},
   "outputs": [],
   "source": [
    "# Answer"
   ]
  },
  {
   "cell_type": "markdown",
   "id": "3b0e15d0-f870-4b06-9fc8-4487c2d6db38",
   "metadata": {
    "tags": []
   },
   "source": [
    "---\n",
    "---\n",
    "## **Task D3.5** : True or False\n",
    "## Can you determine if the following compound logical operations will return True or False:\n",
    "---\n",
    "---\n",
    "## Check this - 12 < 25 or 3.14 <= 3.141"
   ]
  },
  {
   "cell_type": "code",
   "execution_count": null,
   "id": "91ae5e69-16fb-4ec7-aa8d-dcc5eae9edb2",
   "metadata": {},
   "outputs": [],
   "source": [
    "# Answer"
   ]
  },
  {
   "cell_type": "markdown",
   "id": "9519ac61-1d02-47d6-81eb-dc75d674971b",
   "metadata": {
    "tags": []
   },
   "source": [
    "---\n",
    "---\n",
    "## **Task D3.6** : True or False\n",
    "## Can you determine if the following compound logical operations will return True or False:\n",
    "---\n",
    "---\n",
    "## Check this - (11 > 3 or 9 != 9) and 5 in [3, 5, 8]"
   ]
  },
  {
   "cell_type": "code",
   "execution_count": null,
   "id": "d77c6d08-6e31-443a-b50c-56ebdb8aa25b",
   "metadata": {},
   "outputs": [],
   "source": [
    "# Answer"
   ]
  },
  {
   "cell_type": "markdown",
   "id": "0588607e-4c5e-4a74-b45a-646abc9e4a40",
   "metadata": {},
   "source": [
    "---\n",
    "---\n",
    "# **✨CONTROL FLOW✨** : Using \"If\", \"Elif and \"Else\" Control flow \n",
    "## 🌟 In Python, the if, elif, and else statements are used to perform conditional logic. These statements allow you to execute certain blocks of code based on specific conditions.\n",
    "## ✒️ - The \"if\" statement is used to test a condition. If the condition is true, the block of code under the if statement will be executed.\n",
    "## ✒️ - The elif (short for \"else if\") statement is used to check multiple conditions. If the if condition is false, the program moves on to the elif condition. If this condition is true, the corresponding block of code will be executed.\n",
    "---\n",
    "---"
   ]
  },
  {
   "cell_type": "code",
   "execution_count": null,
   "id": "d6c6d806-8f86-4816-8e84-14f5419eeaa1",
   "metadata": {
    "tags": []
   },
   "outputs": [],
   "source": [
    "# Video Tutorial 9\n",
    "from IPython.display import clear_output, display, HTML\n",
    "HTML('<iframe width=\"790\" height=\"494\" src=\"https://www.youtube.com/embed/kkX6rTlLL-M\" title=\"Developing - 9\" frameborder=\"0\" allow=\"accelerometer; autoplay; clipboard-write; encrypted-media; gyroscope; picture-in-picture; web-share\" referrerpolicy=\"strict-origin-when-cross-origin\" allowfullscreen></iframe>')"
   ]
  },
  {
   "cell_type": "markdown",
   "id": "2e235c82-a156-486f-9d27-2a5f91d1169c",
   "metadata": {},
   "source": [
    "---\n",
    "---\n",
    "**EXAMPLE 1*** - Using \"if\" statement\n",
    "---\n",
    "---"
   ]
  },
  {
   "cell_type": "code",
   "execution_count": null,
   "id": "7443e75c-3f2c-41a5-904f-e7e874a81d23",
   "metadata": {
    "tags": []
   },
   "outputs": [],
   "source": [
    "# When using \"if\" statement code, we use \":\" and indentation to make the code runs.\n",
    "a = 40\n",
    "b = 150\n",
    "if b > a: # Importance of using \":\" and indentation\n",
    "    print(\"b is greater than a\")"
   ]
  },
  {
   "cell_type": "markdown",
   "id": "873a0703-0b05-4501-9fd6-d42daf222694",
   "metadata": {},
   "source": [
    "---\n",
    "---\n",
    "**EXAMPLE 2*** - Using \"if\" statement and raise an error\n",
    "---\n",
    "---\n",
    "## 🚨 Note : This example is showing the importance of \"INDENTATION\""
   ]
  },
  {
   "cell_type": "code",
   "execution_count": null,
   "id": "0c0311bf-12f7-46f0-af04-c747110273de",
   "metadata": {
    "tags": []
   },
   "outputs": [],
   "source": [
    "# If statement with no indentation\n",
    "# This code will raise an error\n",
    "a = 40\n",
    "b = 150\n",
    "if b > a: \n",
    "    print(\"b is greater than a\") # No indentation will raise an error!"
   ]
  },
  {
   "cell_type": "markdown",
   "id": "5fc885eb-318c-4e7a-a5d2-75780e813317",
   "metadata": {},
   "source": [
    "---\n",
    "---\n",
    "**EXAMPLE 3*** - Using \"if\" and \"elif\" statement with 2 conditions\n",
    "---\n",
    "---"
   ]
  },
  {
   "cell_type": "code",
   "execution_count": null,
   "id": "2bc2750f-01a0-4ff4-b18b-9684376dbc39",
   "metadata": {
    "tags": []
   },
   "outputs": [],
   "source": [
    "# The elif keyword is used to describe a second condition in case the first one is not fulfilled. \n",
    "# It will direct to the second condition.\n",
    "a = 55\n",
    "b = 50\n",
    "if b < a:\n",
    "    print(\"b is less than a\")\n",
    "elif a == b: # Second condition agrees!\n",
    "    print (\"a and b are equal\")"
   ]
  },
  {
   "cell_type": "markdown",
   "id": "0cfc8018-a8eb-4c70-b2e6-f30284b2e794",
   "metadata": {},
   "source": [
    "---\n",
    "---\n",
    "**EXAMPLE 4*** - Using \"if\", \"elif\" and \"else\" statement with 3 conditions\n",
    "---\n",
    "---"
   ]
  },
  {
   "cell_type": "code",
   "execution_count": null,
   "id": "9844eb8b-83ee-4a27-881f-965d70f22961",
   "metadata": {
    "tags": []
   },
   "outputs": [],
   "source": [
    "# The else keyword catches anything which isn't caught by the preceding conditions.\n",
    "a = 27\n",
    "b = 12 # Changed the value to see the if effect\n",
    "if b > a: \n",
    "    print(\"b is greater than a\") # Passes to the next condition\n",
    "elif a == b:\n",
    "    print (\"a and b are equal\") # Passes to the next condition\n",
    "else:\n",
    "    print (\"b is less than a\")"
   ]
  },
  {
   "cell_type": "markdown",
   "id": "f9b7dea9-4b65-4d2c-ad3a-c1814403b621",
   "metadata": {},
   "source": [
    "---\n",
    "---\n",
    "**EXAMPLE 5*** - Using \"if\", \"elif\" and \"else\" statement with 3 conditions\n",
    "---\n",
    "---\n",
    "## An example involving temperature"
   ]
  },
  {
   "cell_type": "code",
   "execution_count": null,
   "id": "3a993c97-2542-46ce-8647-a6c092ebee31",
   "metadata": {
    "tags": []
   },
   "outputs": [],
   "source": [
    "# Now let us take an example involving temperature of water.\n",
    "\n",
    "temperature = 3 # Temp in celcius.\n",
    "\n",
    "if temperature >= 60:\n",
    "    temperature_type = \"Hot\"\n",
    "elif 30 <= temperature < 60:\n",
    "    temperature_type = \"Warm\"\n",
    "else:\n",
    "    temperature_type = \"Cold\"\n",
    "print(f\"At {temperature} degree celcius, the water is {temperature_type}\") # Added with f string"
   ]
  },
  {
   "cell_type": "markdown",
   "id": "c8b9721a-0b4e-4a4e-87d1-46c01f2f6783",
   "metadata": {},
   "source": [
    "---\n",
    "---\n",
    "## **Task D3.7** : Change the value of the temperature to observe the control flow in the previous example.\n",
    "---\n",
    "---"
   ]
  },
  {
   "cell_type": "markdown",
   "id": "130e1d96-b9b5-483f-86f8-c4b04e5b4735",
   "metadata": {},
   "source": [
    "---\n",
    "---\n",
    "## **Task D3.8** : Now can you recreate the previous code to determine types of Chemical Bonds\n",
    "## **Info** : In Chemistry, Chemical Bond can be determined based on electronegativity difference.\n",
    "## 1. Now set the variable named \"elec_diff\" to have a value equals to \"1.7\"\n",
    "## 2. Here are the conditions:\n",
    "## - If elec_diff > 1.7 the bond is called Ionic\n",
    "## - If elec_diff is between 0.4 and 1.7 the bond is called \"Polar Covelent\"\n",
    "## - Or else, it will be called \"Non Polar Covalent\"\n",
    "---\n",
    "---\n",
    "# Good luck! 💫\n",
    "---"
   ]
  },
  {
   "cell_type": "code",
   "execution_count": null,
   "id": "8e184b21-5d78-495e-a328-eced16d510cf",
   "metadata": {},
   "outputs": [],
   "source": [
    "# Answer"
   ]
  },
  {
   "cell_type": "markdown",
   "id": "ef6ec440-9c31-4071-b89e-165e93a32963",
   "metadata": {},
   "source": [
    "---\n",
    "---\n",
    "# **✨CONTROL FLOW✨** - Using Loops in Python (\"for\" and \"while\")\n",
    "\n",
    "## 🌟 The \"for\" loop is typically used to iterate over a sequence (such as a list) and execute a block of code for each item in that sequence.\n",
    "## 🌟 The \"while\" loop is used to repeat a block of code as long as a specified condition is true.\n",
    "## 🌟 Loops are important in programming for automating repetitive tasks, making them an essential tool for efficiency, scalability, and error reduction.\n",
    "---\n",
    "---\n",
    "## The following examples will explain tou you more in details how these loops work!\n",
    "---"
   ]
  },
  {
   "cell_type": "code",
   "execution_count": null,
   "id": "2dab3129-cf8d-49d2-8afa-977d8b953ebb",
   "metadata": {
    "tags": []
   },
   "outputs": [],
   "source": [
    "# Video Tutorial 10\n",
    "from IPython.display import clear_output, display, HTML\n",
    "HTML('<iframe width=\"806\" height=\"504\" src=\"https://www.youtube.com/embed/oGA4ezzNYMQ\" title=\"Developing - 10\" frameborder=\"0\" allow=\"accelerometer; autoplay; clipboard-write; encrypted-media; gyroscope; picture-in-picture; web-share\" referrerpolicy=\"strict-origin-when-cross-origin\" allowfullscreen></iframe>')"
   ]
  },
  {
   "cell_type": "markdown",
   "id": "9a6cf31d-1f6a-44e3-a829-8c7c8d8205f9",
   "metadata": {},
   "source": [
    "---\n",
    "---\n",
    "## **EXAMPLE 1** - Using \"for\" loop to print each element in a list.\n",
    "---\n",
    "---"
   ]
  },
  {
   "cell_type": "code",
   "execution_count": null,
   "id": "2b956b75-e251-49fa-8d2c-bcae6f4f23e6",
   "metadata": {
    "tags": []
   },
   "outputs": [],
   "source": [
    "# \"i\" is a unique variable represents each element in the list. You can use your own variable\n",
    "# I want to print each element \n",
    "\n",
    "for i in metal_list:\n",
    "    print (i)"
   ]
  },
  {
   "cell_type": "markdown",
   "id": "414438be-9b87-4cda-9b8a-cf96fd6f1e2c",
   "metadata": {},
   "source": [
    "---\n",
    "---\n",
    "## **EXAMPLE 2** - Using \"for\" loop to identify and print number in a list that is divisible by 3\n",
    "---\n",
    "---\n",
    "## 🚨 Note : Here i am also introducing you a function called \"range()\" that produce list of running numbers as datapoints that starts with 0\n",
    "## Example : \"range(6)\" will have 0,1,2,3,4 and 5 only. It starts from 0 by default, and gets incremented by 1 and ends at the specified number"
   ]
  },
  {
   "cell_type": "code",
   "execution_count": null,
   "id": "6708dc4c-1216-4fc6-865b-5613a3f899f6",
   "metadata": {
    "tags": []
   },
   "outputs": [],
   "source": [
    "# Here is an example to identify a number from 0 to 50 that can be divided by the number 3\n",
    "\n",
    "for i in range (50): \n",
    "    if i % 3 == 0: #the \"%\" sign means division\n",
    "        print(i)"
   ]
  },
  {
   "cell_type": "markdown",
   "id": "51dbacdb-22a5-4aaf-be77-392b82d0fc8f",
   "metadata": {},
   "source": [
    "---\n",
    "---\n",
    "# **Task D3.10** : Using range function() use for loop to indentify numbers from 0 to 60 which are\n",
    "# Divisible by 5 and 3\n",
    "---\n",
    "---\n",
    "# All the best!"
   ]
  },
  {
   "cell_type": "code",
   "execution_count": null,
   "id": "bb373f22-500f-4107-8c82-9174fb624b39",
   "metadata": {},
   "outputs": [],
   "source": [
    "# Answer"
   ]
  },
  {
   "cell_type": "markdown",
   "id": "e02f6be5-d8ad-490f-80e0-37a454b09d89",
   "metadata": {},
   "source": [
    "---\n",
    "---\n",
    "## **EXAMPLE 3** - Application Example of using \"for\" loop in Calculation of Weight\n",
    "---\n",
    "---"
   ]
  },
  {
   "cell_type": "code",
   "execution_count": null,
   "id": "9b0c187b-80e2-4864-a0ec-e905063a9097",
   "metadata": {
    "tags": []
   },
   "outputs": [],
   "source": [
    "# The loop will calculate the weight using every number in the list and gets printed!\n",
    "\n",
    "masses = [5, 20, 30] # Masses in Kg\n",
    "grav_a = 10 # Metre per second square\n",
    "\n",
    "for i in masses:\n",
    "    Energy = i * grav_a\n",
    "    \n",
    "    print(f\"{Energy} Newtons\") # Using f string to print each result"
   ]
  },
  {
   "cell_type": "markdown",
   "id": "5c37a9a2-9149-42bf-84ee-8eadd44b20ac",
   "metadata": {},
   "source": [
    "---\n",
    "---\n",
    "## **EXAMPLE 4** - Application Example of using \"for\" loop in Calculation of Kinetic Energy from 2 lists\n",
    "---\n",
    "---\n",
    "## 🚨 Note : Now i am giving you a new upgrade code function called \"zip ()\". The \"zip()\" function in Python is used to **COMBINE TWO** or **MORE** iterables (like lists or strings) into a single iteration. Each element contains elements that are at the same position from each of the input iterables."
   ]
  },
  {
   "cell_type": "code",
   "execution_count": null,
   "id": "9c851e0f-f24d-42be-b243-286339620172",
   "metadata": {
    "tags": []
   },
   "outputs": [],
   "source": [
    "# Using the code \"zip\" to do calculations from 2 lists (Extended knowledge) and print the results\n",
    "\n",
    "masses = [5, 20, 30,50]\n",
    "velocities = [ 5,10,15, 20]\n",
    "\n",
    "for i, j in zip (masses, velocities):\n",
    "    kin_e = 0.5 * i * j ** 2\n",
    "    print (kin_e)"
   ]
  },
  {
   "cell_type": "markdown",
   "id": "40ea2bbd-6057-4a2d-8452-92c2477e1f1c",
   "metadata": {
    "tags": []
   },
   "source": [
    "---\n",
    "---\n",
    "## **Task D3.11** : Use \"for\" loop to calculate the number of Atoms in a Sample\n",
    "\n",
    "## Given that the formula to calculate the number of particles in a sample :\n",
    "## ***Moles x Avogadros number***\n",
    "\n",
    "## ✅ moles = [2, 1.5, 2.5, 0.5]\n",
    "## ✅ avogadros_number = 6.022e23 \n",
    "\n",
    "## 🚨**Info** : You can use \"*\" for multiplication\n",
    "---\n",
    "---\n",
    "## Good luck!\n",
    "---"
   ]
  },
  {
   "cell_type": "code",
   "execution_count": null,
   "id": "9dac37d2-47f5-4fab-827c-43483437f61a",
   "metadata": {},
   "outputs": [],
   "source": [
    "#Answer here"
   ]
  },
  {
   "cell_type": "markdown",
   "id": "1a0712f3-e7a8-43d3-9f86-42ecb0fc5608",
   "metadata": {},
   "source": [
    "---\n",
    "---\n",
    "## Task D3.12 : Calculating concentrations of solutions\n",
    "\n",
    "## Given that the formula to calculate solution concentration is :\n",
    "## ***Solute / Volume***\n",
    "\n",
    "## ✅ solutes = [10,20,30,40]\n",
    "## ✅ volume [ 1,2,3,4]\n",
    "\n",
    "## 🚨**Info** : You can use \"/\" for multiplication\n",
    "---\n",
    "---\n",
    "## Good luck!\n",
    "---"
   ]
  },
  {
   "cell_type": "code",
   "execution_count": null,
   "id": "4765f863-e3ca-4620-9dc9-026cad7fb3ca",
   "metadata": {},
   "outputs": [],
   "source": [
    "# Answer here"
   ]
  },
  {
   "cell_type": "markdown",
   "id": "6fddb696-f36d-42d3-b5c7-326d392de693",
   "metadata": {},
   "source": [
    "---\n",
    "---\n",
    "## **EXAMPLE 5** - Using \"while\" loop to print each element in a list.\n",
    "## 🌟 A while loop in Python is used to repeatedly execute a block of code as long as a specified condition remains true. \n",
    "## 🌟 It's a type of control flow statement that allows for the repeated execution of a block of code until the condition becomes false\n",
    "---\n",
    "---\n",
    "## 🚨**Note** : \"+=\" adds the initial value \"i\" in the following examples set at the beginning of the code until the condition (number of inteded iteration) is met.\n",
    "---"
   ]
  },
  {
   "cell_type": "code",
   "execution_count": null,
   "id": "5757d30f-909f-46c8-818d-9f4efbad06bb",
   "metadata": {
    "tags": []
   },
   "outputs": [],
   "source": [
    "# Using while loop to print \"Metal\" as long as is less than 6\n",
    "# This condition will print 5 results\n",
    "\n",
    "i = 1 # Set Initial value to add \n",
    "while i < 6:\n",
    "    print (\"Metal\")\n",
    "    i += 1 "
   ]
  },
  {
   "cell_type": "markdown",
   "id": "bf5c7851-663f-4ff1-b090-ae90f78ab77b",
   "metadata": {},
   "source": [
    "---\n",
    "---\n",
    "## **EXAMPLE 6** - Using \"while\" loop and \"break\" statement.\n",
    "## 🌟 The \"break\" statement in Python is used to stop a loop, terminating the loop's execution before it would normally end eventhough the while condition is true. \n",
    "## 🌟 This is useful when you want to stop a loop early, based on a certain condition.\n",
    "---\n",
    "---\n",
    "## 🚨**Note** : If the condition for break is incorrect or if it's not reached due to a logical error, it can lead to infinite loops.\n",
    "---"
   ]
  },
  {
   "cell_type": "code",
   "execution_count": null,
   "id": "3838cc11-a8e0-4ef1-8efa-8e501c027603",
   "metadata": {
    "tags": []
   },
   "outputs": [],
   "source": [
    "# Using \"break\" to stop loop iterations\n",
    "\n",
    "i = 1 # Set Initial value to add \n",
    "while i < 1000: # We set to print 1000 results.\n",
    "    print (\"Metal\")\n",
    "    if i == 5:\n",
    "        break # Stops printing until it reaches 5 results\n",
    "    i += 1"
   ]
  },
  {
   "cell_type": "markdown",
   "id": "5667852f-550a-424c-abb2-e80fda1c79df",
   "metadata": {},
   "source": [
    "---\n",
    "---\n",
    "## **EXAMPLE 7** - Using \"Else\" statement\n",
    "## 🌟 It is used to run a block of code once when the condition is no longer true.\n",
    "---\n",
    "---\n",
    "## Please go through with the following example to see how this code works!\n",
    "---"
   ]
  },
  {
   "cell_type": "code",
   "execution_count": null,
   "id": "6a87ddd3-9b3d-418c-b0f2-4e7458a71e2c",
   "metadata": {
    "tags": []
   },
   "outputs": [],
   "source": [
    "# Using Else to print \"metal\" once the condition is false\n",
    "i = 1 # Set Initial value to add \n",
    "while i < 6:\n",
    "    print (\"Metal\")\n",
    "    i += 1\n",
    "else:\n",
    "    print (\"i is no longer less than 6\")"
   ]
  },
  {
   "cell_type": "markdown",
   "id": "7529a4b6-a406-417a-936a-65fe8ba85cbe",
   "metadata": {},
   "source": [
    "---\n",
    "---\n",
    "## 🚀 Now have a go with the tasks below! You are nearly there to unlock next level!\n",
    "---\n",
    "---"
   ]
  },
  {
   "cell_type": "markdown",
   "id": "ece21592-b5c0-4983-a0d4-0410c1522ba3",
   "metadata": {
    "tags": []
   },
   "source": [
    "---\n",
    "---\n",
    "## **Task D3.13** : Use while loop to print number from 0 to 10 only.\n",
    "---\n",
    "---"
   ]
  },
  {
   "cell_type": "code",
   "execution_count": null,
   "id": "bb68f0d0-4fac-4ca0-b2a5-a09335b39454",
   "metadata": {},
   "outputs": [],
   "source": [
    "# Answer here"
   ]
  },
  {
   "cell_type": "markdown",
   "id": "778ed206-8413-4cda-9d6d-509bfb6654cc",
   "metadata": {},
   "source": [
    "---\n",
    "---\n",
    "# **Task D3.14** : Use break statement to modify your code above to list down until number \"7\"\n",
    "---\n",
    "---"
   ]
  },
  {
   "cell_type": "code",
   "execution_count": null,
   "id": "a475329d-e87b-45f8-b875-4835b74e43d8",
   "metadata": {},
   "outputs": [],
   "source": [
    "# Answer here"
   ]
  },
  {
   "cell_type": "markdown",
   "id": "c360cd22-91c3-4107-bd5e-8c0edaf8f6cd",
   "metadata": {},
   "source": [
    "---\n",
    "---\n",
    "# **Task D3.15** : Use else statement in your code above to print \"The list is from 0 to 7 only\"\n",
    "---\n",
    "---"
   ]
  },
  {
   "cell_type": "code",
   "execution_count": null,
   "id": "8bad6f58-07d4-4562-a802-6c568a5ea597",
   "metadata": {},
   "outputs": [],
   "source": [
    "# Answer"
   ]
  },
  {
   "cell_type": "markdown",
   "id": "35c23f01-681c-4935-bc5f-70eaf4fe5be3",
   "metadata": {
    "tags": []
   },
   "source": [
    "---\n",
    "---\n",
    "## **Task D3.16** : Bonus question - Use for loop and break statement to print the following list until \"Silver\".\n",
    "## metal_list = [\"Iron\", \"Copper\", \"Aluminium\", \"Gold\", \"Silver\", \"Platinum\", \"Zinc\"].\n",
    "---\n",
    "---"
   ]
  },
  {
   "cell_type": "code",
   "execution_count": null,
   "id": "105ae225-805c-48c4-bddd-4295c424b8d6",
   "metadata": {},
   "outputs": [],
   "source": [
    "# Answer here"
   ]
  },
  {
   "cell_type": "markdown",
   "id": "a903e027-b782-4aa5-83e8-99010582e827",
   "metadata": {},
   "source": [
    "## 🌟 Welldone! You have unlocked all the skills needed for Emerging Level!\n",
    "## 🌟 As a capstone activity, please go through the mentimeter quiz below by clicking the link! Good luck!!!"
   ]
  },
  {
   "cell_type": "markdown",
   "id": "cee263db-6342-4c68-b944-bc1a036ae33c",
   "metadata": {
    "tags": []
   },
   "source": [
    "---\n",
    "---\n",
    "#  💫💫💫💫💫💫💫💫💫💫💫💫💫💫💫💫💫💫💫💫💫💫💫💫💫💫💫💫💫💫💫\n",
    "#  **ASSESSMENT 2 - MENTIMETER FOR DEVELOPING LEVEL**\n",
    "## Please enter the quiz to evaluate yourself whether you are good to go to the next level!\n",
    "\n",
    "## https://www.menti.com/al9jsows4kkj\n",
    "#  💫💫💫💫💫💫💫💫💫💫💫💫💫💫💫💫💫💫💫💫💫💫💫💫💫💫💫💫💫💫💫\n",
    "---\n",
    "---"
   ]
  },
  {
   "cell_type": "markdown",
   "id": "b79c953a-158a-4eb0-97cf-7037c59c0da1",
   "metadata": {},
   "source": [
    "References\n",
    "1. J. Dyer, A. Hudon, K. Montpetit-Tourangeau, B. Charlin, S. Mamede and T. van Gog, BMC MEDICAL EDUCATION, 2015, 15.\n",
    "2. C.Selby, in Proceedings of the 10th Workshop in Primary and Secondary Computing Education, WIPSCE 2015, ed. J.GalEzer, S.Sentance and J.Vahrenhold, 2015, pp. 80-87.\n",
    "3. Guo, Philip & Kim, Juho & Rubin, Rob, Proceedings of the first ACM conference on Learning @ scale conference, 2014\n",
    "4. C. Hundhausen, A. Agrawal and P. Agarwal, ACM TRANSACTIONS ON COMPUTING EDUCATION, 2013, 13.\n",
    "5. X. Lin, Q. Sun and X. Zhang, DISTANCE EDUCATION, 2021, 42, 391-409.X. Lin, Q. Sun and X. Zhang, DISTANCE EDUCATION, 2021, 42, 391-409."
   ]
  },
  {
   "cell_type": "markdown",
   "id": "fae89428-5ece-459b-a067-6429861a9f43",
   "metadata": {},
   "source": [
    "---\n",
    "---\n",
    "# **-END OF DEVELOPING TRAINING SESSION-**\n",
    "---\n",
    "---"
   ]
  }
 ],
 "metadata": {
  "kernelspec": {
   "display_name": "Python 3 (ipykernel)",
   "language": "python",
   "name": "python3"
  },
  "language_info": {
   "codemirror_mode": {
    "name": "ipython",
    "version": 3
   },
   "file_extension": ".py",
   "mimetype": "text/x-python",
   "name": "python",
   "nbconvert_exporter": "python",
   "pygments_lexer": "ipython3",
   "version": "3.11.5"
  }
 },
 "nbformat": 4,
 "nbformat_minor": 5
}
