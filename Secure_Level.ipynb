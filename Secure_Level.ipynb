{
 "cells": [
  {
   "cell_type": "markdown",
   "id": "7358d28e-79b8-431e-b125-2e447394f801",
   "metadata": {},
   "source": [
    "---\n",
    "---\n",
    "# ✨✨✨✨✨✨✨✨✨✨✨✨✨✨✨✨✨✨✨\n",
    "# 🎉 **Hi! Welcome to our Secure Level Python Training Programme!** 🎉\n",
    "# ✨✨✨✨✨✨✨✨✨✨✨✨✨✨✨✨✨✨✨\n",
    "---\n",
    "---\n",
    "# Ghani here!\n",
    "# Glad to see your progress so far. You have gone thorugh Developing Level. Now we will proceed with the next level where all the materials will be provided and self-explanatory.\n",
    "# The learning method will be similar to the previous learning materials where you will undergo the following :\n",
    "---\n",
    "---\n",
    "## 💡 1. Materials are created based on **Bloom's Taxonomy** intended to help participants to undergo a structured learning phases, moving from basic to higher levels.\n",
    "## 🌟 Why Bloom's Taxonomy? - A study suggested that it is possible to assign programming skills to the levels of Bloom’s Taxonomy Cognitive Domain <sup>1.\n",
    "---\n",
    "---\n",
    "## 💡2. This material is guided with short step-by-step video tutorials for more effective learning experience for the participants.\n",
    "## 🌟A study on learning from videos showed that providing short videos and informal talking-head videos promoted high learning engagement<sup> 3.\n",
    "---\n",
    "---\n",
    "## 💡3. The learning tasks are included with code review activity (fixing the error code) to promote confidence and active learning among participants.\n",
    "## 🌟An evidence in a study showed that code reviewing can promote positive attitude towards learning<sup> 4.\n",
    "---\n",
    "---\n",
    "## 💡4. Each level of proficiency will be assessed using a Mentimeter quiz to evaluate the participant's performance and to inform them when to proceed to the next level.\n",
    "## 🌟Using online quiz as part of the activity in online learning has positive impact on adult learning experience <sup> 5.\n",
    "---\n",
    "---"
   ]
  },
  {
   "cell_type": "markdown",
   "id": "3117bd2f-d2a9-4308-88b3-012cfce773d5",
   "metadata": {},
   "source": [
    "---\n",
    "# Good Luck and I hope you will enjoy your learning adventure!\n",
    "---"
   ]
  },
  {
   "cell_type": "markdown",
   "id": "3cedadc3-dc3c-4bf2-907a-190f43ce8b71",
   "metadata": {},
   "source": [
    "---\n",
    "---\n",
    "# **SECURE (S1)**\n",
    "## OBJECTIVE : BY THE END OF THIS LESSON YOU SHOULD BE ABLE TO :\n",
    "### ✅ Code using basic functions\n",
    "### ✅ Perform Data Handling\n",
    "### ✅ Apply your skills in Data Visualisation and Analysis\n",
    "---\n",
    "---"
   ]
  },
  {
   "cell_type": "code",
   "execution_count": null,
   "id": "7f1f57a1-ec85-48ca-92f4-82b54eee2ccd",
   "metadata": {
    "tags": []
   },
   "outputs": [],
   "source": [
    "# Video Tutorial 1\n",
    "from IPython.display import clear_output, display, HTML\n",
    "HTML('<iframe width=\"790\" height=\"444\" src=\"https://www.youtube.com/embed/ywHNADN-n_E\" title=\"Secure  - 1\" frameborder=\"0\" allow=\"accelerometer; autoplay; clipboard-write; encrypted-media; gyroscope; picture-in-picture; web-share\" referrerpolicy=\"strict-origin-when-cross-origin\" allowfullscreen></iframe>')"
   ]
  },
  {
   "cell_type": "markdown",
   "id": "437f035a-1208-4c06-896f-cad2581fbc6d",
   "metadata": {},
   "source": [
    "# 🔷 **Functions**\n",
    "## 🌟 A function is a piece of code which only **RUNS** when it is **CALLED**. \n",
    "## 🌟 Functions are essential parts of programming that let you group code into small, reusable pieces. \n",
    "## 🌟 You can pass data, known as parameters into the function. Usually, a function returns data as a result.\n",
    "---\n",
    "## 💡 How does it look like?\n",
    "## The following examples will show you how a basic function looks like and take note of the format of the code as well."
   ]
  },
  {
   "cell_type": "markdown",
   "id": "a70bfedc-4a8e-4292-a0c1-b9e4cdd73664",
   "metadata": {},
   "source": [
    "---\n",
    "## **EXAMPLE 1** - Creating a function called \"my_function\" that prints a string\n",
    "---\n",
    "# 🔷 Using \"def\" \"your_function_name\" , \":\" and \"\"\"\n",
    "## 🌟 The three elements are important in creating a function. \n",
    "## 🌟 \"def\" is a keyword to define a function\n",
    "## 🌟 \"your_function_name\" is the name of the function\n",
    "## 🌟 \":\" It is used to denote the beginning of the block of code that will be executed when the function is called.\n",
    "## 🌟 '\"\"\"' is called docstring. Docstrings are special comments in Python that explain what your code does\n",
    "---"
   ]
  },
  {
   "cell_type": "code",
   "execution_count": null,
   "id": "90f45d09-35ec-446b-8ca3-ae6e9bde44b2",
   "metadata": {
    "tags": []
   },
   "outputs": [],
   "source": [
    "# Create a function that prints string\n",
    "\n",
    "def my_function():\n",
    "    \"\"\"\n",
    "    \"\"\"\n",
    "    print(\"Energy is a PUSH or a PULL\")\n",
    "    \n",
    "# Example of calling the above function.\n",
    "my_function ()"
   ]
  },
  {
   "cell_type": "markdown",
   "id": "dd26da73-88e4-4e9c-82fa-309abf5b33f5",
   "metadata": {},
   "source": [
    "---\n",
    "## **EXAMPLE 2** - A function that passes \"**ARGUMENTS**\"\n",
    "---\n",
    "# 🔷 Arguments\n",
    "## 🌟 Information can be passed into functions as arguments.\n",
    "## 🌟 Arguments are specified after the function name, inside the curly brackets\n",
    "## 🌟 You can add as many arguments as you like, you just need to separate them with a comma.\n",
    "## 🌟 Then once the function is created and defined, you call it at any time\n",
    "---"
   ]
  },
  {
   "cell_type": "code",
   "execution_count": null,
   "id": "6104877d-0d9c-4e47-a22a-c8ed13536550",
   "metadata": {
    "tags": []
   },
   "outputs": [],
   "source": [
    "#Passing one argument into a function\n",
    "\n",
    "def energy (energy_type):\n",
    "    \"\"\"\n",
    "    \"\"\"\n",
    "    print(f\"{energy_type} is a type of energy\")"
   ]
  },
  {
   "cell_type": "code",
   "execution_count": null,
   "id": "7a73028c-5c36-4c45-af64-f5454d6bca75",
   "metadata": {
    "tags": []
   },
   "outputs": [],
   "source": [
    "energy(\"Stored\")"
   ]
  },
  {
   "cell_type": "code",
   "execution_count": null,
   "id": "b26cc93e-91cf-4369-84c7-5846db9198f0",
   "metadata": {
    "tags": []
   },
   "outputs": [],
   "source": [
    "# Calling the function 3 times with different argument\n",
    "energy(\"Wind\")"
   ]
  },
  {
   "cell_type": "markdown",
   "id": "88d07ad1-094f-4b02-9795-80271d2f7e97",
   "metadata": {},
   "source": [
    "---\n",
    "## **EXAMPLE 3** - Using \"return\" in functions\n",
    "---\n",
    "# 🔷 Return\n",
    "## 🌟 The Python return statement is a special statement that you can use inside a function or method to send the function’s result back to the caller.\n",
    "## 🌟 A return statement consists of the return keyword followed by an optional return value.\n",
    "---"
   ]
  },
  {
   "cell_type": "code",
   "execution_count": null,
   "id": "63eba19c-69e0-4a95-8ee2-8f7ef7e1a959",
   "metadata": {
    "tags": []
   },
   "outputs": [],
   "source": [
    "# Calling a function with nobel gases list\n",
    "\n",
    "def nobel_gases():\n",
    "    nobel_gases = [\"Helium\", \"Neon\", \"Argon\", \"Krypton\", \"Xenon\", \"Argon\"]\n",
    "    \"\"\"\n",
    "    \"\"\"\n",
    "    return nobel_gases  # An explicit return statement\n",
    "\n",
    "  # The caller code gets the list of nobel gases."
   ]
  },
  {
   "cell_type": "code",
   "execution_count": null,
   "id": "7f09501f-eb92-4028-8c72-b328004d6730",
   "metadata": {
    "tags": []
   },
   "outputs": [],
   "source": [
    "nobel_gases()"
   ]
  },
  {
   "cell_type": "markdown",
   "id": "84925e65-a377-4b68-b298-be1657d7ca53",
   "metadata": {},
   "source": [
    "---\n",
    "## **EXAMPLE 4** - Using Docstrings in functions\n",
    "---\n",
    "# 🔷 Docstrings\n",
    "## 🌟 A Python docstring is a special comment that explains what a function or method does. ## 🌟 It starts and ends with triple quotes (\"\"\"). \n",
    "## 🌟 It helps programmers understand the purpose of the code without needing to read through all the details.\n",
    "---"
   ]
  },
  {
   "cell_type": "code",
   "execution_count": null,
   "id": "42716ae9-7ae6-4033-846a-e3c52005e025",
   "metadata": {},
   "outputs": [],
   "source": [
    "# Using docstring to explain addition of 2 numbers\n",
    "\n",
    "def add(num1, num2):\n",
    "    \"\"\"\n",
    "    Add up two integer numbers.\n",
    "\n",
    "    Parameters\n",
    "    ----------\n",
    "    num1 : int\n",
    "        First number to add.\n",
    "    num2 : int\n",
    "        Second number to add.\n",
    "\n",
    "    Returns\n",
    "    -------\n",
    "    int\n",
    "        The sum of ``num1`` and ``num2``.\n",
    "    \"\"\"\n",
    "    b = num1 - num2\n",
    "    a = num1 + num2\n",
    "    return b"
   ]
  },
  {
   "cell_type": "code",
   "execution_count": null,
   "id": "8fbf4564-71e8-45a3-8dd4-95c76594ecd2",
   "metadata": {
    "tags": []
   },
   "outputs": [],
   "source": [
    "add(3,5)"
   ]
  },
  {
   "cell_type": "markdown",
   "id": "690ed21e-e041-4916-a1e5-23391e3a7d80",
   "metadata": {},
   "source": [
    "---\n",
    "## **EXAMPLE 5** - Calling a function to perform one computation\n",
    "##  🌟 One calculation of Kinetic Energy\n",
    "---"
   ]
  },
  {
   "cell_type": "code",
   "execution_count": null,
   "id": "2bbcf7d3-adde-4ca7-98f7-eb7e9f5306f8",
   "metadata": {
    "tags": []
   },
   "outputs": [],
   "source": [
    "# Create a function that returns one computation\n",
    "\n",
    "def kinetic_energy (m,v):# We take 2 arguments \"m\" and\" \"v\"\n",
    "    \"\"\" \n",
    "    Calculates the kinetic energy of an object\n",
    "    \n",
    "    Parameters\n",
    "    ----------\n",
    "    m : float\n",
    "        Mass of the object in kilograms (kg)\n",
    "    n : float\n",
    "        Velocity of the object in metres per seconds\n",
    "    \n",
    "    Returns\n",
    "    -------\n",
    "    kinetic_energy : float\n",
    "        The kinetic energy of the object in Joules(J) \n",
    "    \"\"\"\n",
    "    k_e = 0.5 * m * v**2\n",
    "    \n",
    "    return k_e"
   ]
  },
  {
   "cell_type": "code",
   "execution_count": null,
   "id": "7783cca7-c03c-408f-9c26-370cff0c824f",
   "metadata": {
    "tags": []
   },
   "outputs": [],
   "source": [
    "# Calling the function with m = 5.5 kg and v = 55km/s^2\n",
    "\n",
    "kinetic_energy (5.5, 55)"
   ]
  },
  {
   "cell_type": "markdown",
   "id": "b2af5ff5-2b59-4ccc-bbae-fc0e9580a468",
   "metadata": {},
   "source": [
    "---\n",
    "## **EXAMPLE 6** - Calling a function to perform **MORE THAN ONE** computation\n",
    "##  🌟 Calculation of Kinetic Energy from 4 data\n",
    "---\n",
    "## 🚨 Note : You can see here we have imported a function from NumPy library called \".array()\". Such function creates a room for any array (list) input that contains more than one data.\n",
    "---"
   ]
  },
  {
   "cell_type": "code",
   "execution_count": null,
   "id": "bada0a9e-2859-4cbd-99c7-19e493b8cfac",
   "metadata": {
    "tags": []
   },
   "outputs": [],
   "source": [
    "# Calling a function that returns more than one computation\n",
    "\n",
    "import numpy as np # Using numpy to use attributes to compute from an array.\n",
    "\n",
    "def kinetic_energy(m,v):# We take 2 arguments \"m\" and\" \"v\"\n",
    "    \n",
    "    \"\"\" \n",
    "    Calculates the kinetic energy of an object\n",
    "    \n",
    "    Parameters\n",
    "    ----------\n",
    "    m : float\n",
    "        Mass of the object in kilograms (kg)\n",
    "    v : float\n",
    "        Velocity of the object in metres per seconds\n",
    "    \n",
    "    Returns\n",
    "    -------\n",
    "    kinetic_energy : float\n",
    "        The kinetic energy of the object in Joules(J) \n",
    "    \"\"\"\n",
    "    # Numpy arrays , \"m\" and \"v\" that will be included when the function \n",
    "    \n",
    "    m = np.array(m)\n",
    "    v = np.array(v)\n",
    "    \n",
    "    kinetic_energy = 0.5 * m * v**2\n",
    "    \n",
    "    return kinetic_energy"
   ]
  },
  {
   "cell_type": "code",
   "execution_count": null,
   "id": "4f67a263-1b86-422d-b25e-9bb9df2d02ba",
   "metadata": {
    "tags": []
   },
   "outputs": [],
   "source": [
    "# An example when a caller uses the function to calculate using the following values:\n",
    "m = [2,4,6,8,10]\n",
    "v = [2,4,6,8,10]\n",
    "\n",
    "KE = kinetic_energy(m,v)\n",
    "print(KE)"
   ]
  },
  {
   "cell_type": "markdown",
   "id": "2aaa2cb4-7adf-4cce-8929-5385314dcc0e",
   "metadata": {},
   "source": [
    "---\n",
    "## 🚀 It is time for you to show your skills! Try out the following tasks below and read the instructions and use the previous examples as your guide\n",
    "---\n",
    "## Good Luck!"
   ]
  },
  {
   "cell_type": "markdown",
   "id": "5c638108-629e-4b21-88f7-e30df812729f",
   "metadata": {
    "tags": []
   },
   "source": [
    "## **Task S1.1** - Create a basic function without docstring that prints the word \"Chemistry\" when called."
   ]
  },
  {
   "cell_type": "code",
   "execution_count": null,
   "id": "75d328ee-3c92-4213-b83d-8334a01e9975",
   "metadata": {},
   "outputs": [],
   "source": [
    "# Answer here"
   ]
  },
  {
   "cell_type": "markdown",
   "id": "9a8115b6-e00d-4160-8a44-c096b9c66119",
   "metadata": {
    "tags": []
   },
   "source": [
    "## **Task S1.2** - Create a function with docstring that returns the Newton's second law of force, \n",
    "## 🌟 The formula is given by, f = ma, where f = force, m = mass and a = gravitational acceleration"
   ]
  },
  {
   "cell_type": "code",
   "execution_count": null,
   "id": "aa30078f-df35-449b-9030-01e5dc55a003",
   "metadata": {},
   "outputs": [],
   "source": [
    "# Answer here"
   ]
  },
  {
   "cell_type": "markdown",
   "id": "6a835652-746b-48c2-9f0f-616e7fca1484",
   "metadata": {
    "tags": []
   },
   "source": [
    "## **Task S1.3** - Create a function that will compute the following 2 numpy arrays to calculate the density of 10 different elements shown below\n",
    "\n",
    "### ✅ element_mass = [20, 15.5, 25.5, 23.4,12.5,9.4,5.3,10.5,15.4, 20.3]\n",
    "### ✅ element_volume = [50, 40, 15, 8, 12, 30, 10, 23, 24, 40]"
   ]
  },
  {
   "cell_type": "code",
   "execution_count": null,
   "id": "9a9b38e4-5e07-4d67-8193-99e6c0fb09cc",
   "metadata": {},
   "outputs": [],
   "source": [
    "# Answer here"
   ]
  },
  {
   "cell_type": "markdown",
   "id": "57d7e3a3-0ea0-4e9c-b0e4-5f30697aabf0",
   "metadata": {},
   "source": [
    "---\n",
    "---\n",
    "# **SECURE (S2)**\n",
    "## OBJECTIVE : BY THE END OF THIS LESSON YOU SHOULD BE ABLE TO :\n",
    "### ✅ Code using basic functions\n",
    "### ✅ Perform Data Handling\n",
    "### ✅ Apply your skills in Data Visualisation and Analysis\n",
    "---\n",
    "---"
   ]
  },
  {
   "cell_type": "code",
   "execution_count": null,
   "id": "098472a2-1060-4c84-97b0-61943f30935a",
   "metadata": {
    "tags": []
   },
   "outputs": [],
   "source": [
    "# Video Tutorial 2\n",
    "from IPython.display import clear_output, display, HTML\n",
    "HTML('<iframe width=\"790\" height=\"444\" src=\"https://www.youtube.com/embed/Y8M8HThpZmI\" title=\"Secure -  2\" frameborder=\"0\" allow=\"accelerometer; autoplay; clipboard-write; encrypted-media; gyroscope; picture-in-picture; web-share\" referrerpolicy=\"strict-origin-when-cross-origin\" allowfullscreen></iframe>')"
   ]
  },
  {
   "cell_type": "markdown",
   "id": "718fcb59-1836-45d1-af73-092521995eb9",
   "metadata": {
    "tags": []
   },
   "source": [
    "# 🔷 **Data Handling**\n",
    "## 💡 What is Data Handling in Python?\n",
    "## 🌟 Data handling in Python refers to the process of manipulating and working with data in various formats such as integers, floats, strings, lists and more. \n",
    "## 🌟 Python provides built-in data structures and functions that allow developers to handle data efficiently and effectively. \n",
    "## 🌟 Data handling is a crucial aspect of advanced analytics and data science as it enables professionals to process, analyze and visualize large sets of data.\n",
    "---\n",
    "## 💡 What are we going to apply in this section?\n",
    "## 🌟 We will be using the following libraries : **Pandas, NumPy and Matplotlib**\n",
    "## 🌟 Then we will be learning how to create a hypothetical data using random attributes and loading data from files with extension (.txt and .csv)\n",
    "## 🌟Finally, we will be learning how to produce plots from the above inputs\n",
    "---\n",
    "## 🚀 You are nearing the final stage! Way to go!🚀"
   ]
  },
  {
   "cell_type": "markdown",
   "id": "4913cf6d-7362-45b9-bab6-7d674cdbc720",
   "metadata": {},
   "source": [
    "---\n",
    "---\n",
    "# **✨PRODUCE HYPOTHETICAL DATASET✨**\n",
    "\n",
    "## 🌟 In this following example , you are going to learn how to create a dataset (list) using the function in numpy library called \"random.rand()\" and \"arange()\" for practice purposes.\n",
    "---\n",
    "---"
   ]
  },
  {
   "cell_type": "markdown",
   "id": "4ea2a0e0-9f97-43d3-b6f4-85e25c028ddf",
   "metadata": {},
   "source": [
    "---\n",
    "---\n",
    "## **EXAMPLE 1** - Creating Dataset\n",
    "---\n",
    "---"
   ]
  },
  {
   "cell_type": "code",
   "execution_count": null,
   "id": "40cadcc8-2c85-49f8-9099-1b75b390d327",
   "metadata": {
    "tags": []
   },
   "outputs": [],
   "source": [
    "# Using random and arange attributes in NumPy to produce hypothetical lists\n",
    "import numpy as np\n",
    "\n",
    "x = np.random.rand(100)\n",
    "y = np.arange(1,101,1)"
   ]
  },
  {
   "cell_type": "code",
   "execution_count": null,
   "id": "77c86d8e-ad1d-4af0-b6a1-8c70c49304eb",
   "metadata": {
    "tags": []
   },
   "outputs": [],
   "source": [
    "y"
   ]
  },
  {
   "cell_type": "markdown",
   "id": "7d13c4a0-b480-48ea-bcf8-7a2143195ad2",
   "metadata": {},
   "source": [
    "---\n",
    "## **EXAMPLE 2** - Using DataFrame from Pandas library to create a tabular data.\n",
    "---\n",
    "## Here, i provide you with an example to create a table that contains 2 Columns (\"Mass\" and \"Volume\") using the datapoints created in the varibles \"x\" and \"y\"."
   ]
  },
  {
   "cell_type": "code",
   "execution_count": null,
   "id": "789579b3-1f99-4a9e-b2cd-aedd54b275a5",
   "metadata": {
    "tags": []
   },
   "outputs": [],
   "source": [
    "# Using DataFrame to create tabular hypothetical dataset containing data on Mass and Volume of 100 objects.\n",
    "import pandas as pd\n",
    "\n",
    "df_density = pd.DataFrame({'Mass': x, 'Volume': y})"
   ]
  },
  {
   "cell_type": "code",
   "execution_count": null,
   "id": "4bec7e97-f1e8-411a-926b-5195fd773f38",
   "metadata": {
    "tags": []
   },
   "outputs": [],
   "source": [
    "# Viewing the DataFrame we just created.\n",
    "df_density"
   ]
  },
  {
   "cell_type": "markdown",
   "id": "63ea89fc-e515-4d9e-9781-5413f110cc8a",
   "metadata": {},
   "source": [
    "---\n",
    "## **EXAMPLE 3** - Adding a column in the DataFrame\n",
    "---\n",
    "## Now, say we want to add another column named \"Density\" that will have values from a calculation. In this case i use calculation of density (Mass/Volume) to fill in the \"Density\" Column in the DataFrame."
   ]
  },
  {
   "cell_type": "code",
   "execution_count": null,
   "id": "3b0aaef9-cae9-48de-a447-f2372b03f64d",
   "metadata": {
    "tags": []
   },
   "outputs": [],
   "source": [
    "# Adding a column containing the values of density of each object.\n",
    "df_density['Density'] = df_density['Mass'] / df_density['Volume']"
   ]
  },
  {
   "cell_type": "code",
   "execution_count": null,
   "id": "09ecf080-3bc1-43ee-925a-7ef537c6dad8",
   "metadata": {
    "tags": []
   },
   "outputs": [],
   "source": [
    "#Shows the first 5 rows of the DataFrame\n",
    "df_density.head()"
   ]
  },
  {
   "cell_type": "markdown",
   "id": "ccd37673-c1a1-4889-bbf3-93ac1cad7c54",
   "metadata": {},
   "source": [
    "---\n",
    "---\n",
    "# **✨READING DATA FILES FROM \".txt\" FILE✨**\n",
    "\n",
    "## 🌟 When you are dealing with external dataset. In Python we use a function from NumPy library called \"loadtxt()\". \n",
    "## 🌟 In the following example, i have provided a file named \"random_data.txt\" in the github repository and will be automatically imported and read in the example below.\n",
    "---\n",
    "---"
   ]
  },
  {
   "cell_type": "code",
   "execution_count": null,
   "id": "ece3d991-29c2-4b41-aee4-b23e2b575bab",
   "metadata": {
    "tags": []
   },
   "outputs": [],
   "source": [
    "# Reading .txt file using NumPy\n",
    "import numpy as np\n",
    "random_data = np.loadtxt(\"random_data.txt\")"
   ]
  },
  {
   "cell_type": "code",
   "execution_count": null,
   "id": "a6c2bb0b-98aa-43e8-a612-1154ffe36331",
   "metadata": {
    "tags": []
   },
   "outputs": [],
   "source": [
    "# Viewing the data from the .txt f\n",
    "random_data"
   ]
  },
  {
   "cell_type": "markdown",
   "id": "b6d983a0-60cc-4ccf-a457-9eed24a0a245",
   "metadata": {},
   "source": [
    "---\n",
    "---\n",
    "# **✨READING DATA FILES FROM \".csv\" FILE✨**\n",
    "\n",
    "## 🌟 For \".csv\" file type, we use an attribute/function from pandas library called \"read_csv()\"\n",
    "## 🌟 In the following example, i have provided a file named \"particles_kinetic_energy.csv\" in the github repository and will be automatically imported and read in the example below.\n",
    "---\n",
    "---"
   ]
  },
  {
   "cell_type": "code",
   "execution_count": null,
   "id": "c0400872-9723-4257-9ca9-695b24221661",
   "metadata": {
    "tags": []
   },
   "outputs": [],
   "source": [
    "# Reading .csv file using the csv_read attribute from Pandas\n",
    "import pandas as pd\n",
    "\n",
    "df_KE = pd.read_csv(\"particles_kinetic_energy.csv\")"
   ]
  },
  {
   "cell_type": "code",
   "execution_count": null,
   "id": "cd72947c-3c9d-488d-a6bb-593522863978",
   "metadata": {
    "tags": []
   },
   "outputs": [],
   "source": [
    "# Using .head() to show the first 5 rows of the DataFrame\n",
    "df_KE.head()"
   ]
  },
  {
   "cell_type": "markdown",
   "id": "ec3f0b6c-6962-4b91-9e79-5f442cfe7c3a",
   "metadata": {},
   "source": [
    "---\n",
    "## 🚀 You have shown your determination to reach this stage! Now Have go with the tasks by referring to the worked examples above\n",
    "# All the best!\n",
    "---"
   ]
  },
  {
   "cell_type": "markdown",
   "id": "ae816a2b-362b-4387-8c2e-97c33ae5673b",
   "metadata": {
    "tags": []
   },
   "source": [
    "---\n",
    "---\n",
    "## **Task S2.1** - Create a hypothethical dataset containing 2 variables, \"Mass_e\" and \"C\" that contains 50 data in each column\n",
    "## 🌟 You can use random or arange attributes from NumPy\n",
    "---\n",
    "---"
   ]
  },
  {
   "cell_type": "code",
   "execution_count": null,
   "id": "43cdc1af-6944-431d-8dbb-15e94d46ba5d",
   "metadata": {},
   "outputs": [],
   "source": [
    "# Answer here"
   ]
  },
  {
   "cell_type": "markdown",
   "id": "a89ba38a-7bcc-487f-81f7-73a404d1442d",
   "metadata": {
    "tags": []
   },
   "source": [
    "---\n",
    "---\n",
    "## **Task S2.2** - Create a DataFrame from the previous data and name the variable as Einstein_relativity.\n",
    "# 🌟 Add a column that stores the values of Energy \"E\" using the formula E = Mass_e**2\n",
    "---\n",
    "---\n",
    "# 🚨 Note : \"**2\" is the code in Python that calculates square of the value. "
   ]
  },
  {
   "cell_type": "code",
   "execution_count": null,
   "id": "109ad3ca-4cf2-4654-afd0-47eb9dde74bf",
   "metadata": {},
   "outputs": [],
   "source": [
    "# Answer here"
   ]
  },
  {
   "cell_type": "markdown",
   "id": "562869d5-ce69-4309-85c2-211a6aac8d8a",
   "metadata": {
    "tags": []
   },
   "source": [
    "---\n",
    "---\n",
    "## **Task S2.3** - Read the .txt file named \"random-double-data.txt\" using loadtxt attribute from NumPy. Name the variable as \"random_double\"\n",
    "---\n",
    "---"
   ]
  },
  {
   "cell_type": "code",
   "execution_count": null,
   "id": "2fdcb15f-c7ad-4044-aa2b-b61a525bd9dd",
   "metadata": {},
   "outputs": [],
   "source": [
    "# Answer here"
   ]
  },
  {
   "cell_type": "markdown",
   "id": "3b2aa076-7813-4994-8f7f-8907998bf54d",
   "metadata": {
    "tags": []
   },
   "source": [
    "---\n",
    "---\n",
    "## Task S2.4 - Read the .csv file named \"heart-rate.csv\" using read_csv attribute from Pandas. Name the variable as \"heart_rate.csv\"\n",
    "---\n",
    "---"
   ]
  },
  {
   "cell_type": "code",
   "execution_count": null,
   "id": "9b833ad7-aa41-43c6-896e-0b62d8852451",
   "metadata": {},
   "outputs": [],
   "source": [
    "# Answer here"
   ]
  },
  {
   "cell_type": "markdown",
   "id": "410a07cf-e029-45b8-aa66-198b478271c9",
   "metadata": {},
   "source": [
    "---\n",
    "---\n",
    "# **SECURE (S3)**\n",
    "## OBJECTIVE : BY THE END OF THIS LESSON YOU SHOULD BE ABLE TO :\n",
    "### ✅ Code using basic functions\n",
    "### ✅ Perform Data Handling\n",
    "### ✅ Apply your skills in Data Visualisation and Analysis\n",
    "---\n",
    "---"
   ]
  },
  {
   "cell_type": "code",
   "execution_count": null,
   "id": "acbc215f-29e0-4f5e-9d8f-2c0ef899337f",
   "metadata": {
    "tags": []
   },
   "outputs": [],
   "source": [
    "# Video Tutorial 2\n",
    "from IPython.display import clear_output, display, HTML\n",
    "HTML('<iframe width=\"790\" height=\"494\" src=\"https://www.youtube.com/embed/ZXtpyG8UPAk\" title=\"Secure  - 3\" frameborder=\"0\" allow=\"accelerometer; autoplay; clipboard-write; encrypted-media; gyroscope; picture-in-picture; web-share\" referrerpolicy=\"strict-origin-when-cross-origin\" allowfullscreen></iframe>')"
   ]
  },
  {
   "cell_type": "markdown",
   "id": "37470fd1-9095-4432-bf46-827a95214b89",
   "metadata": {},
   "source": [
    "# 🔷 **Applications** - Data Visualisation and PCA Analysis\n",
    "## 💡 What type of applications you are going to learn?\n",
    "## 🌟 You will apply your knowledge in functions and data handling to proceed to the final lesson which is Data plotting and Visualisation and Principal Component Analysis\n",
    "## 🌟 New function called \"dropna()\" will be introduced here as well.\n",
    "## 🌟 In the final stage, we are going to learn to create various plots such as:\n",
    "## ✅ Scatter Plot\n",
    "## ✅ Bar Graphs\n",
    "## ✅ Pair Plot (Use a new library called Seaborn)\n",
    "## ✅ Principal Component Analysis (PCA) Scatter Plot"
   ]
  },
  {
   "cell_type": "markdown",
   "id": "7a3c0fe1-e6a6-4b7c-9c3c-e41a9f6f6c73",
   "metadata": {},
   "source": [
    "---\n",
    "## **EXAMPLE 1** - DataFrame and Data Cleaning \n",
    "##  🌟 **Chemical Information (Boiling Point vs Metling Point)**\n",
    "---\n",
    "## 🚨 Note : You will come across a function named \"dropna()\" in the following example.\n",
    "## 💡 What does\"dropna()\" do?\n",
    "## 🌟 It performs what is called \"Data-Cleaning\" .\n",
    "## 🌟 The \"dropna()\" method in pandas is used to remove missing or NaN (Not a Number) values from a DataFrame.\n",
    "## 🌟 This is helpful in eliminating incomplete or irrelevant data."
   ]
  },
  {
   "cell_type": "code",
   "execution_count": null,
   "id": "ce90424a-e267-47fb-a009-0819dbb2d394",
   "metadata": {
    "tags": []
   },
   "outputs": [],
   "source": [
    "# Plotting Scatter plot of StandardState vs BoilingPoint\n",
    "# The file was retreived from National Library of Medicine (US), \n",
    "# Available from: https://pubchem.ncbi.nlm.nih.gov/periodic-table/density\n",
    "import pandas as pd\n",
    "\n",
    "df_elements = pd.read_csv(\"PubChemElements_all.csv\")\n",
    "df_elements.head()"
   ]
  },
  {
   "cell_type": "markdown",
   "id": "7c225ba2-e61f-43f1-b2b9-70f83454d073",
   "metadata": {},
   "source": [
    "---\n",
    "---\n",
    "## Using **\"len()\"**  to calculate the number of elements BEFORE and AFTER applying \"dropna()\"\n",
    "---\n",
    "---"
   ]
  },
  {
   "cell_type": "code",
   "execution_count": null,
   "id": "20968a2c-5332-4fea-ae07-5f907abdfb08",
   "metadata": {
    "tags": []
   },
   "outputs": [],
   "source": [
    "# Using len() to calculate number of elements BEFORE data cleaning\n",
    "\n",
    "len(df_elements)"
   ]
  },
  {
   "cell_type": "code",
   "execution_count": null,
   "id": "5931c649-65f1-47ea-9110-aaafcca62b97",
   "metadata": {
    "tags": []
   },
   "outputs": [],
   "source": [
    "# Using .dropna() to perform Data Cleaning, removing rows with NaN values\n",
    "\n",
    "df_elements = df_elements.dropna()"
   ]
  },
  {
   "cell_type": "code",
   "execution_count": null,
   "id": "23ba63f2-a4d6-4874-876c-92f627d69ec1",
   "metadata": {},
   "outputs": [],
   "source": [
    "# Viewing the first 5 rows after Data Cleaning\n",
    "df_elements.head()"
   ]
  },
  {
   "cell_type": "code",
   "execution_count": null,
   "id": "ad95983a-b022-4eed-a0ee-162f01702934",
   "metadata": {
    "tags": []
   },
   "outputs": [],
   "source": [
    "# Using len() to calculate number of elements AFTER data cleaning\n",
    "\n",
    "len(df_elements)"
   ]
  },
  {
   "cell_type": "markdown",
   "id": "f41e096c-2803-4e3c-ace5-fc6ea02d4d2e",
   "metadata": {},
   "source": [
    "---\n",
    "## **EXAMPLE 2** - Scatter Plot using Matplotlib Library\n",
    "##  🌟 **Chemical Information (Boiling Point vs Metling Point)**\n",
    "---\n",
    "## 🌟 In this example, we provide you an examplary code that performs a scatter plot that can you use for your practice!\n",
    "---\n",
    "## Good Luck"
   ]
  },
  {
   "cell_type": "code",
   "execution_count": null,
   "id": "10ca95a8-ae2e-4e3d-8afc-abe3cb320e43",
   "metadata": {
    "tags": []
   },
   "outputs": [],
   "source": [
    "# Plotting - Scatter Plot using matplotlib library\n",
    "\n",
    "import matplotlib.pyplot as plt\n",
    "\n",
    "x = df_elements[\"MeltingPoint\"]\n",
    "y =df_elements [\"BoilingPoint\"]\n",
    "\n",
    "fig, ax = plt.subplots()\n",
    "ax.scatter(x, y)\n",
    "\n",
    "ax.set(xlabel='Melting Point', ylabel='Boiling Point',\n",
    "       title='Group Block vs Melting Point')\n",
    "ax.grid()"
   ]
  },
  {
   "cell_type": "markdown",
   "id": "ca19ca3a-896e-4426-8048-165729194564",
   "metadata": {},
   "source": [
    "---\n",
    "## **EXAMPLE 3** - Bar Graph using Matplotlib Library\n",
    "##  🌟 **Chemical Information (Group Block vs Metling Point)**\n",
    "---\n",
    "## 🌟 In this example, we provide you an examplary code that performs a Bar graph that can you use for your practice!\n",
    "---\n",
    "## Good Luck"
   ]
  },
  {
   "cell_type": "code",
   "execution_count": null,
   "id": "0437233d-0e2b-46c1-ab4b-49397dd957d2",
   "metadata": {
    "tags": []
   },
   "outputs": [],
   "source": [
    "# Plotting - Bar Chart using matplotlib library\n",
    "\n",
    "x = df_elements[\"MeltingPoint\"]\n",
    "y = df_elements [\"GroupBlock\"]\n",
    "\n",
    "fig, ax = plt.subplots(figsize=(15,5))\n",
    "ax.bar(y, x)\n",
    "\n",
    "ax.set_ylabel('Melting Point')\n",
    "ax.set_title('Group Block')\n",
    "ax.legend(title='Group Block vs Melting Points of Elements')\n",
    "\n",
    "plt.show()"
   ]
  },
  {
   "cell_type": "markdown",
   "id": "a6e569b8-f862-4e9f-ae8a-7d43eb850ce5",
   "metadata": {},
   "source": [
    "---\n",
    "---\n",
    "## Using **\"value_counts()\"**  to calculate the number of elements representing each bar\"\n",
    "---\n",
    "---"
   ]
  },
  {
   "cell_type": "code",
   "execution_count": null,
   "id": "c00accb8-fbef-4238-93c2-2b2ec657bc6e",
   "metadata": {
    "tags": []
   },
   "outputs": [],
   "source": [
    "count = df_elements['GroupBlock'].value_counts()['Nonmetal']\n",
    "count"
   ]
  },
  {
   "cell_type": "code",
   "execution_count": null,
   "id": "03f019ff-ce9a-4371-8b47-3ae0031487c1",
   "metadata": {
    "tags": []
   },
   "outputs": [],
   "source": [
    "count = df_elements['GroupBlock'].value_counts()['Metalloid']\n",
    "count"
   ]
  },
  {
   "cell_type": "code",
   "execution_count": null,
   "id": "6f60301a-fff7-491e-ba21-92a9f5e80dd7",
   "metadata": {
    "tags": []
   },
   "outputs": [],
   "source": [
    "count = df_elements['GroupBlock'].value_counts()['Post-transition metal']\n",
    "count"
   ]
  },
  {
   "cell_type": "markdown",
   "id": "b3e3c6df-d817-454b-acdd-9b60fb5293ad",
   "metadata": {},
   "source": [
    "---\n",
    "## **EXAMPLE 4** - Creating a Pair Plot using Seaborn Library\n",
    "##  🌟 **Chemical Information (Group Block vs Metling Point)**\n",
    "---\n",
    "## 🌟 In this example, we provide you an examplary code that performs Pair Plot that can you use for your practice!\n",
    "---\n",
    "## Good Luck"
   ]
  },
  {
   "cell_type": "code",
   "execution_count": null,
   "id": "01ba1a68-6ba0-4c77-a7ad-6fe2b7463a39",
   "metadata": {
    "tags": []
   },
   "outputs": [],
   "source": [
    "# Viewing the first 5 elements of the DataFrame named \"df_elements\"\n",
    "df_elements.head()"
   ]
  },
  {
   "cell_type": "markdown",
   "id": "46a2dcf8-b8ae-452f-a38c-4c8bb9f25d0b",
   "metadata": {},
   "source": [
    "---\n",
    "---\n",
    "## Using **\"drop()\"** to remove non numerical data from the DataFrame\"\n",
    "## 🌟 Sometimes, we need numerical data to produce plots. We apply this function to make it possible.\n",
    "---\n",
    "---\n",
    "## 🚨 Note : You will notice that this process will take a little bit longer. \"*\" sign next to the cell will stay longer "
   ]
  },
  {
   "cell_type": "code",
   "execution_count": null,
   "id": "06f5a338-6914-41ce-ae38-5f4fcd6c284e",
   "metadata": {
    "tags": []
   },
   "outputs": [],
   "source": [
    "df_elements = df_elements.drop(['Name','CPKHexColor', 'ElectronConfiguration',  'OxidationStates', 'StandardState', 'GroupBlock', 'YearDiscovered', 'Symbol'], axis=1)"
   ]
  },
  {
   "cell_type": "code",
   "execution_count": null,
   "id": "9753a231-b644-4df2-8a6f-02efd8a91780",
   "metadata": {
    "tags": []
   },
   "outputs": [],
   "source": [
    "df_elements.head()"
   ]
  },
  {
   "cell_type": "code",
   "execution_count": null,
   "id": "18e96b3b-b87b-4695-b76f-4b0a24b86d55",
   "metadata": {
    "tags": []
   },
   "outputs": [],
   "source": [
    "# Importing seabon library  to produce pairplot to show relationship between each pair of variables in the dataset.\n",
    "\n",
    "import seaborn as sns\n",
    "\n",
    "sns.pairplot(df_elements)"
   ]
  },
  {
   "cell_type": "markdown",
   "id": "bfce80fa-11ae-4b6e-8bdb-ac988f69c6ff",
   "metadata": {},
   "source": [
    "---\n",
    "---\n",
    "## **EXAMPLE 5** - Performing Data Analysis using Python - Principal Component Analysis\n",
    "---\n",
    "---\n",
    "##  🔷 Principal Component Analysis\n",
    "---\n",
    "## 🌟 Principal Components Analysis (PCA) is a statistical technique used for dimensionality reduction and data analysis. \n",
    "## 🌟It transforms a dataset into a set of orthogonal (uncorrelated) components, which capture the most variance in the data. \n",
    "## 🌟 The goal is to simplify the dataset while preserving as much of the original variability as possible.\n",
    "## 🌟 In this example, we provide you an examplary code that performs PCA and Scatter Plot that can you use for your practice!\n",
    "---\n",
    "## All the best!\n",
    "---\n",
    "---"
   ]
  },
  {
   "cell_type": "code",
   "execution_count": null,
   "id": "0af25f62-a37e-4d38-9498-c4a496c84b1c",
   "metadata": {
    "tags": []
   },
   "outputs": [],
   "source": [
    "# Applying Data Analysis (Principal Component Analysis)\n",
    "from sklearn.decomposition import PCA\n",
    "\n",
    "pca = PCA().fit(df_elements)\n",
    "X_new = pca.fit_transform(df_elements)\n",
    "df_elements['PC1'] = X_new[:, 0]\n",
    "df_elements['PC2'] = X_new[:, 1]"
   ]
  },
  {
   "cell_type": "code",
   "execution_count": null,
   "id": "19efb568-4162-4174-855f-c9999e8ad0b6",
   "metadata": {
    "tags": []
   },
   "outputs": [],
   "source": [
    "df_elements.head()"
   ]
  },
  {
   "cell_type": "code",
   "execution_count": null,
   "id": "e5a89e65-a008-4331-822f-c216d2612d07",
   "metadata": {
    "tags": []
   },
   "outputs": [],
   "source": [
    "# Plotting scatter plot of PC1 vs PC2\n",
    "\n",
    "plt.figure(figsize=(10, 8))\n",
    "plt.scatter(df_elements['PC1'], df_elements['PC2'], color='red', cmap='plasma_r')\n",
    "plt.xlabel('Principal Component 1 (PC1)')\n",
    "plt.ylabel('Principal Component 2 (PC2)')\n",
    "plt.title('PC1 vs PC2')\n",
    "plt.grid(True)\n",
    "plt.show()"
   ]
  },
  {
   "cell_type": "markdown",
   "id": "b7b94805-aba6-4996-998a-4750eac333f7",
   "metadata": {},
   "source": [
    "## 💫 **FINAL TASK!** 💫\n",
    "## As you final task to reach the Secure Level, you are goijng to apply what you have learnt. You need to do the folllowing :\n",
    "## ✅ Download the csv file named \"physics_particle.csv\" and perform the following\n",
    "## ✅ Read the file, Perform DataFrame that contains numbers, Data Handling (Data Cleaning), Produce plots and perform PCA Analysis.\n",
    "---\n",
    "---\n",
    "## Wish you all the best!\n",
    "---"
   ]
  },
  {
   "cell_type": "markdown",
   "id": "59fc51d5-d820-459b-b769-71578b1d4036",
   "metadata": {},
   "source": [
    "## 🌟 Welldone! You have unlocked all the skills needed for Secure Level!\n",
    "## 🌟 You manage to undergo all training materials for this Python Basics Training!!\n",
    "## 🌟 As a capstone activity, please go through the mentimeter quiz below by clicking the link! Good luck!!!"
   ]
  },
  {
   "cell_type": "markdown",
   "id": "d7ef4fc0-755a-4b6f-99cb-b8a4225a75cb",
   "metadata": {},
   "source": [
    "---\n",
    "---\n",
    "#  💫💫💫💫💫💫💫💫💫💫\n",
    "#  **ASSESSMENT 3 - MENTIMETER FOR SECURE LEVEL**\n",
    "## Please enter the quiz to evaluate yourself whether you are good to go to the next level!\n",
    "\n",
    "## https://www.menti.com/alg5buag1453\n",
    "#  💫💫💫💫💫💫💫💫💫💫\n",
    "---"
   ]
  },
  {
   "cell_type": "markdown",
   "id": "024f0304-bcdc-4e41-8ad0-667348a611ac",
   "metadata": {},
   "source": [
    "---\n",
    "---\n",
    "# **-END OF SECURE TRAINING SESSION-**\n",
    "---\n",
    "---"
   ]
  },
  {
   "cell_type": "markdown",
   "id": "2c2f6db4-223f-45ce-bb4c-5c4571348f6f",
   "metadata": {},
   "source": [
    "# 🌟 Training Completion Levels 🌟\n",
    "\n",
    "Congratulations to all participants! 🎉\n",
    "\n",
    "I am happy to see you progress from one level to another despite your time constraints. 🌟\n",
    "\n",
    "You have completed the training session and progressed through the following levels:\n",
    "\n",
    "1. **Emerging Level** 🆕\n",
    "2. **Developing Level** 🚀\n",
    "3. **Secure Level** 🔒\n",
    "\n",
    "---\n",
    "\n",
    "If you are eager to continue learning and explore more advanced examples, we have additional resources available for you. 📚\n",
    "\n",
    "These resources have been curated by our expert lecturer, **Dr. Andrew McCluskey** from School of Chemistry, University of Bristol, United Kingdom. \n",
    "\n",
    "You can access them here : (https://pythoninchemistry.org/ch40208/introduction/about_this_book.html).\n",
    "\n",
    "We sincerely thank Dr. McCluskey for his willingness to share these valuable materials with us. 🙏\n",
    "\n",
    "Keep up the great work everyone and continue advancing your skills! 🌟✨\n"
   ]
  },
  {
   "cell_type": "markdown",
   "id": "44167faa-f944-403c-91d7-523294c883d7",
   "metadata": {},
   "source": [
    "---\n",
    "---\n",
    "References\n",
    "1. J. Dyer, A. Hudon, K. Montpetit-Tourangeau, B. Charlin, S. Mamede and T. van Gog, BMC MEDICAL EDUCATION, 2015, 15.\n",
    "2. C.Selby, in Proceedings of the 10th Workshop in Primary and Secondary Computing Education, WIPSCE 2015, ed. J.GalEzer, S.Sentance and J.Vahrenhold, 2015, pp. 80-87.\n",
    "3. Guo, Philip & Kim, Juho & Rubin, Rob, Proceedings of the first ACM conference on Learning @ scale conference, 2014\n",
    "4. C. Hundhausen, A. Agrawal and P. Agarwal, ACM TRANSACTIONS ON COMPUTING EDUCATION, 2013, 13.\n",
    "5. X. Lin, Q. Sun and X. Zhang, DISTANCE EDUCATION, 2021, 42, 391-409.X. Lin, Q. Sun and X. Zhang, DISTANCE EDUCATION, 2021, 42, 391-409.\n",
    "---\n",
    "---"
   ]
  },
  {
   "cell_type": "code",
   "execution_count": null,
   "id": "1182f924-3c58-4edf-9e0c-c6bf1098923a",
   "metadata": {},
   "outputs": [],
   "source": []
  }
 ],
 "metadata": {
  "kernelspec": {
   "display_name": "Python 3 (ipykernel)",
   "language": "python",
   "name": "python3"
  },
  "language_info": {
   "codemirror_mode": {
    "name": "ipython",
    "version": 3
   },
   "file_extension": ".py",
   "mimetype": "text/x-python",
   "name": "python",
   "nbconvert_exporter": "python",
   "pygments_lexer": "ipython3",
   "version": "3.11.5"
  }
 },
 "nbformat": 4,
 "nbformat_minor": 5
}
