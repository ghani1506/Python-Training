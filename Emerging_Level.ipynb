{
 "cells": [
  {
   "cell_type": "markdown",
   "id": "471ee5c0-a7eb-4574-9c34-ce4a09ca89be",
   "metadata": {},
   "source": [
    "---\n",
    "---\n",
    "# ✨✨✨✨✨✨✨✨✨✨✨✨✨✨✨✨✨✨✨✨✨✨✨✨✨✨✨✨✨✨\n",
    "# 🎉 **Hi! Welcome to our Emerging Level Python Training Programme!** 🎉\n",
    "# ✨✨✨✨✨✨✨✨✨✨✨✨✨✨✨✨✨✨✨✨✨✨✨✨✨✨✨✨✨✨\n",
    "---\n",
    "---\n",
    "## Ghani here! Let me start with explaining on how this training materials are set for you to suit your best learning experience in learning basic python!\n",
    "---\n",
    "---\n",
    "# 📚 **How the materials are developed?**\n",
    "---\n",
    "---\n",
    "## 💡 1. Materials are created based on **Bloom's Taxonomy** intended to help participants to undergo a structured learning phases, moving from basic to higher levels.\n",
    "## 🌟 Why Bloom's Taxonomy? - A study suggested that it is possible to assign programming skills to the levels of Bloom’s Taxonomy Cognitive Domain <sup>1.\n",
    "## 🌟 There are 3 achievable proficiency levels in this Python Training Programme! : ***Emerging --> Developing --> Secure***\n",
    "---\n",
    "---\n",
    "## 💡2. Starters Examples will be given for you to play with and worked examples will be given as your guide to do all the tasks in this materials! \n",
    "## 🌟It has been shown that early example-based instruction leads to better learning outcomes, which are reached in less time and with less effort<sup>2.\n",
    "---\n",
    "---\n",
    "## 💡3. This material is guided with short step-by-step video tutorials for more effective learning experience for the participants.\n",
    "## 🌟A study on learning from videos showed that providing short videos and informal talking-head videos promoted high learning engagement<sup> 3.\n",
    "---\n",
    "---\n",
    "## 💡4. The learning tasks are included with code review activity (fixing the error code) to promote confidence and active learning among participants.\n",
    "## 🌟An evidence in a study showed that code reviewing can promote positive attitude towards learning<sup> 4.\n",
    "---\n",
    "---\n",
    "## 💡5. Each level of proficiency will be assessed using a Mentimeter quiz to evaluate the participant's performance and to inform them when to proceed to the next level.\n",
    "\n",
    "## 🌟Using online quiz as part of the activity in online learning has positive impact on adult learning experience <sup> 5.\n",
    "---\n",
    "---\n",
    "    \n",
    "# Feeling excited to start? Let us have a look at the codes below first!\n",
    "## ⚠️ Oh no.. **I see a lot of codes there!** I don't know what to do now! 😥\n",
    "    \n",
    "## Do not worry! 😊 **Please do not be alarmed!** It's perfectly normal to feel a bit overwhelmed when seeing extensive code for the first time. I was like you before!\n",
    "## These examples are designed to **<u>ILLUSTRATE<u>** what python can produce that can be helpful for your future references after you are happy to create your own python code.\n",
    "---\n",
    "---\n",
    "## 🚀 For the first step of our training, I would like you to learn how to **<u>EXECUTE</u>** the Python code created for you. This will help you explore and discover the capabilities of Python \n",
    "\n",
    "## to assist you in your teaching delivery!\n",
    "---\n",
    "---\n",
    "# 📚 **How to execute the cells?**\n",
    "# 🌟 Super easy!! **EXECUTE** the following coded cells by pressing **\"SHIFT + ENTER\"** or click the ▶️ icon in the navigation panel on top of this notebook!\n",
    "---\n",
    "---"
   ]
  },
  {
   "cell_type": "markdown",
   "id": "5ab9cd3c-be13-41d3-ad86-604fdb35d958",
   "metadata": {},
   "source": [
    "# There are 9 Examples of Python codes executing different tasks that might provide you some ideas on what Python can do!! Let us try them!!\n",
    "## **EXECUTE** the next 6 cells by pressing **\"SHIFT + ENTER\"** or click the ▶️ icon in the navigation panel on top of this notebook!\n",
    "## 🚨Note : To execute a selected cell, you need to click the cell first! You will see the cell is highlighted with blue border🚨"
   ]
  },
  {
   "cell_type": "code",
   "execution_count": null,
   "id": "647eba7e-1c13-43bd-a34e-232355b6c446",
   "metadata": {
    "tags": []
   },
   "outputs": [],
   "source": [
    "#Import necessary libraries\n",
    "\n",
    "from IPython.display import clear_output, display, HTML\n",
    "from ipywidgets import interact, interactive\n",
    "import networkx as nx\n",
    "import matplotlib.pyplot as plt\n",
    "import numpy as np\n",
    "import math\n",
    "from scipy import integrate\n",
    "from sklearn.datasets import load_wine\n",
    "import pandas as pd\n",
    "import seaborn as sns\n",
    "from sklearn.preprocessing import StandardScaler\n",
    "from scipy.stats import pearsonr\n",
    "import scipy.stats as stats\n",
    "from sklearn.decomposition import PCA\n",
    "import ipywidgets as widgets"
   ]
  },
  {
   "cell_type": "markdown",
   "id": "388325bd-8a21-4542-85ec-342380b7c035",
   "metadata": {},
   "source": [
    "---\n",
    "---\n",
    "# 🎥Learn from Video! **EXECUTE** the 2 cells and watch the 2 short video tutorials:\n",
    "# 1. First video shows you how to access our Python learning platform using Binder\n",
    "# 2. Second video shows step-by-step instructions to guide your with your first lesson in Python!🎥\n",
    "---\n",
    "---"
   ]
  },
  {
   "cell_type": "code",
   "execution_count": null,
   "id": "0c2aebbe-779b-46e7-a44e-9cbc1fc6435c",
   "metadata": {
    "tags": []
   },
   "outputs": [],
   "source": [
    "# Video Tutorial 1\n",
    "HTML('<iframe width=\"790\" height=\"494\" src=\"https://www.youtube.com/embed/UUsuIqxidl4\" title=\"Python Training - 1\" frameborder=\"0\" allow=\"accelerometer; autoplay; clipboard-write; encrypted-media; gyroscope; picture-in-picture; web-share\" referrerpolicy=\"strict-origin-when-cross-origin\" allowfullscreen></iframe>')"
   ]
  },
  {
   "cell_type": "code",
   "execution_count": null,
   "id": "a65073df-80f3-46bd-b08a-491708a534a0",
   "metadata": {
    "tags": []
   },
   "outputs": [],
   "source": [
    "# Video Tutorial 2\n",
    "HTML('<iframe width=\"790\" height=\"494\" src=\"https://www.youtube.com/embed/MJqlfepgdGs\" title=\"\" frameborder=\"0\" allow=\"accelerometer; autoplay; clipboard-write; encrypted-media; gyroscope; picture-in-picture; web-share\" referrerpolicy=\"strict-origin-when-cross-origin\" allowfullscreen></iframe>')"
   ]
  },
  {
   "cell_type": "markdown",
   "id": "db8d4172-4be6-47da-8a72-5c7adebb1f19",
   "metadata": {
    "tags": []
   },
   "source": [
    "---\n",
    "---\n",
    "## EXAMPLE 1 : PYTHON IN GENERATING RANDOM GRAPHS\n",
    "---\n",
    "---\n",
    "## ✅ Random lobster, Powerlaw cluster, Erdős-Rényi, Newman-Watts-Strogatz small-world\n",
    "\n",
    "## **<u>EXECUTE<u>** the next two cells to see the interactive graphs created! Please feel free to play around with pull down button the sliders to see different graphs!\n",
    "\n",
    "Credits - This example is extracted and adapted from https://github.com/jupyter-widgets/ipywidgets/blob/main/docs/source/examples/Exploring%20Graphs.ipynb\n",
    "\n",
    "If you need further information about the 4 types of the following Random Graphs you can go to these documentations:\n",
    "\n",
    "* https://networkx.org/documentation/stable/reference/generated/networkx.generators.random_graphs.random_lobster.html\n",
    "* https://networkx.org/documentation/stable/reference/generated/networkx.generators.random_graphs.powerlaw_cluster_graph.html\n",
    "* https://networkx.org/documentation/stable/reference/generated/networkx.generators.random_graphs.erdos_renyi_graph.html\n",
    "* https://networkx.org/documentation/stable/reference/generated/networkx.generators.random_graphs.newman_watts_strogatz_graph.html"
   ]
  },
  {
   "cell_type": "code",
   "execution_count": null,
   "id": "6f334266-0f6c-4e24-bdc4-26103522df96",
   "metadata": {
    "tags": []
   },
   "outputs": [],
   "source": [
    "# Using Functions as tools to Create Random Graphs\n",
    "\n",
    "def random_lobster(n, m, k, p):\n",
    "    return nx.random_lobster(n, p, p / m)\n",
    "\n",
    "def powerlaw_cluster(n, m, k, p):\n",
    "    return nx.powerlaw_cluster_graph(n, m, p)\n",
    "\n",
    "def erdos_renyi(n, m, k, p):\n",
    "    return nx.erdos_renyi_graph(n, p)\n",
    "\n",
    "def newman_watts_strogatz(n, m, k, p):\n",
    "    return nx.newman_watts_strogatz_graph(n, k, p)\n",
    "\n",
    "def plot_random_graph(n, m, k, p, generator):\n",
    "    g = generator(n, m, k, p)\n",
    "    nx.draw(g)\n",
    "    plt.show()"
   ]
  },
  {
   "cell_type": "code",
   "execution_count": null,
   "id": "67808cee-7acc-43bd-8b8f-25849a11452a",
   "metadata": {
    "tags": []
   },
   "outputs": [],
   "source": [
    "# Interactive function call using `interact` to plot random graphs based on user-defined parameters,\n",
    "# allowing selection from various generators: lobster, power law, Newman-Watts-Strogatz, and Erdős-Rényi.\n",
    "\n",
    "interact(plot_random_graph, n=(2,30), m=(1,10), k=(1,10), p=(0.0, 0.99, 0.001),\n",
    "         generator=[\n",
    "             ('lobster', random_lobster),\n",
    "             ('power law', powerlaw_cluster),\n",
    "             ('Newman-Watts-Strogatz', newman_watts_strogatz),\n",
    "             (u'Erdős-Rényi', erdos_renyi),\n",
    "         ]);"
   ]
  },
  {
   "cell_type": "markdown",
   "id": "85cc37ac-c74d-4309-875a-e3d58f4b278e",
   "metadata": {
    "tags": []
   },
   "source": [
    "---\n",
    "---\n",
    "## EXAMPLE 2 : ## PYTHON IN CALCULATIONS AND VISUALISATION \n",
    "---\n",
    "---\n",
    "## ✅ Projectile Motions of an Object\n",
    "## ✅ Calculation of Horizontal and Vertical Position after Trajectories\n",
    "## ✅ Given values of Initial velocity, Angle of Trajectory and Gravity\n",
    "\n",
    "## **<u>EXECUTE<u>** the next three cells to see how Python can make it possible!"
   ]
  },
  {
   "cell_type": "code",
   "execution_count": null,
   "id": "a815385b-6b72-4cd2-acd9-7836105123fd",
   "metadata": {
    "tags": []
   },
   "outputs": [],
   "source": [
    "# Define initial conditions\n",
    "initial_velocity = 20  # initial velocity in m/s\n",
    "angle_degrees = 45  # launch angle in degrees\n",
    "gravity = 9.81  # acceleration due to gravity in m/s^2\n",
    "\n",
    "# Convert angle to radians\n",
    "angle_radians = np.radians(angle_degrees)\n",
    "\n",
    "# Calculate initial velocity components\n",
    "initial_velocity_x = initial_velocity * math.cos(angle_radians)\n",
    "initial_velocity_y = initial_velocity * math.sin(angle_radians)\n",
    "\n",
    "# Print the results\n",
    "print(\"Initial velocity components:\")\n",
    "print(\"Vx:\", initial_velocity_x, \"m/s\")\n",
    "print(\"Vy:\", initial_velocity_y, \"m/s\")"
   ]
  },
  {
   "cell_type": "code",
   "execution_count": null,
   "id": "5cd3d854-975f-43a7-8adc-eae59709327d",
   "metadata": {
    "tags": []
   },
   "outputs": [],
   "source": [
    "# Define time variables\n",
    "time_interval = 0.1  # time interval in seconds\n",
    "total_time = 2 * initial_velocity_y / gravity  # total flight time\n",
    "\n",
    "# Create lists to store trajectory data\n",
    "time_points = []\n",
    "x_positions = []\n",
    "y_positions = []\n",
    "\n",
    "# Calculate trajectory\n",
    "t = 0\n",
    "while t <= total_time:\n",
    "    x = initial_velocity_x * t\n",
    "    y = initial_velocity_y * t - 0.5 * gravity * t**2\n",
    "    time_points.append(t)\n",
    "    x_positions.append(x)\n",
    "    y_positions.append(y)\n",
    "    t += time_interval\n",
    "\n",
    "df_trajectory = pd.DataFrame({'Time points': time_points, 'X positions': x_positions, 'Y positions': y_positions})\n",
    "# Print trajectory data\n",
    "df_trajectory.head()"
   ]
  },
  {
   "cell_type": "code",
   "execution_count": null,
   "id": "9978925b-45c0-46ca-9c64-80702971cd11",
   "metadata": {
    "tags": []
   },
   "outputs": [],
   "source": [
    "# Plot the trajectory using the plt.plot (The plot() function is used to draw points in a graph.\n",
    "plt.plot(x_positions, y_positions, marker='o', linestyle='-', color='b')\n",
    "\n",
    "# Add labels and title\n",
    "plt.xlabel('Horizontal Distance (m)')\n",
    "plt.ylabel('Vertical Distance (m)')\n",
    "plt.title('Projectile Motion Trajectory')\n",
    "plt.grid(True)\n",
    "\n",
    "# Show the plot\n",
    "plt.show()"
   ]
  },
  {
   "cell_type": "markdown",
   "id": "43aa9658-82a3-4f86-a0cf-4fd2800ed3d2",
   "metadata": {},
   "source": [
    "---\n",
    "---\n",
    "## EXAMPLE 3 : PYTHON IN MODELLING LORENZ SYSTEM\n",
    "---\n",
    "---\n",
    "## ✅ Exploring the Lorenz System of Differential Equations\n",
    "\n",
    "### The Lorenz equations can arise in simplified models for lasers, dynamos, thermosyphons,brushless DC motors, electric circuits, chemical reactions and forward osmosis.\n",
    "### For more information about this please go to https://en.wikipedia.org/wiki/Lorenz_system\n",
    "\n",
    "## **<u>EXECUTE<u>** the next two cells to see the interactive models created! Please feel free to play around with the sliders to see different models!\n",
    "\n",
    "Credits - This example is extracted and adapted from https://github.com/rsignell-usgs/notebook/blob/master/Lorenz%20Differential%20Equations.py"
   ]
  },
  {
   "cell_type": "code",
   "execution_count": null,
   "id": "2105ffd6-80ee-47e2-99f1-977d5c17fe1e",
   "metadata": {
    "tags": []
   },
   "outputs": [],
   "source": [
    "def solve_lorenz(N=10, angle=0.0, max_time=4.0, sigma=10.0, beta=8./3, rho=28.0):\n",
    "\n",
    "    fig = plt.figure()\n",
    "    ax = fig.add_axes([0, 0, 1, 1], projection='3d')\n",
    "    ax.axis('off')\n",
    "\n",
    "    # Set the axes limits\n",
    "    ax.set_xlim((-25, 25))\n",
    "    ax.set_ylim((-35, 35))\n",
    "    ax.set_zlim((5, 55))\n",
    "    \n",
    "    def lorenz_deriv(x_y_z, t0, sigma=sigma, beta=beta, rho=rho):\n",
    "        \"\"\"\n",
    "        Computes the time-derivative of a Lorenz system.\n",
    "        \"\"\"\n",
    "        x, y, z = x_y_z\n",
    "        return [sigma * (y - x), x * (rho - z) - y, x * y - beta * z]\n",
    "\n",
    "    # Using np.random.random python code to produce random starting points, uniformly distributed from -15 to 15\n",
    "    np.random.seed(1)\n",
    "    x0 = -15 + 30 * np.random.random((N, 3))\n",
    "\n",
    "    # Solve for the trajectories\n",
    "    t = np.linspace(0, max_time, int(250*max_time))\n",
    "    x_t = np.asarray([integrate.odeint(lorenz_deriv, x0i, t)\n",
    "                      for x0i in x0])\n",
    "    \n",
    "    # choose a different color for each trajectory\n",
    "    colors = plt.cm.viridis(np.linspace(0, 1, N))\n",
    "\n",
    "    for i in range(N):\n",
    "        x, y, z = x_t[i,:,:].T\n",
    "        lines = ax.plot(x, y, z, '-', c=colors[i])\n",
    "        plt.setp(lines, linewidth=2)\n",
    "\n",
    "    ax.view_init(30, angle)\n",
    "    plt.show()\n",
    "\n",
    "    return t, x_t"
   ]
  },
  {
   "cell_type": "code",
   "execution_count": null,
   "id": "8cc8f05a-0a85-41d9-b130-75990be67a80",
   "metadata": {
    "tags": []
   },
   "outputs": [],
   "source": [
    "# This code will produce An interactive Modelling of Lorenz System using sliders to adjust the parameters to see different behaviour!\n",
    "w = interactive(solve_lorenz, angle=(0.,360.), max_time=(0.1, 4.0), \n",
    "                N=(0,50), sigma=(0.0,50.0), rho=(0.0,50.0))\n",
    "display(w)"
   ]
  },
  {
   "cell_type": "markdown",
   "id": "9346cf9b-5f14-4eab-abb8-7a81c8705e9b",
   "metadata": {
    "tags": []
   },
   "source": [
    "---\n",
    "---\n",
    "# EXAMPLE 4 : PYTHON IN DATA VISUALISATION\n",
    "---\n",
    "---\n",
    "## ✅ Scatter plot of Sample Wine data set\n",
    "## In the example below, we are loading and plotting the famous wine data set that describes wine samples through a number of measurements including alcohol content, magnesium levels, color, etc.\n",
    "\n",
    "## In this example, you are going to see a simple scatter plot involveing Wine which is driven by data set that is readily available and imported from a library called \"scikit-learn\" for learning purposes. When you are familiar with data handling, you will be able to load data sets from different sources.\n",
    "\n",
    "## **<u>EXECUTE<u>** the next two cells to visualise the scatter plot of the selected variables!\n",
    "\n",
    "Credits : This example is extracted from https://weisscharlesj.github.io/SciCompforChemists/notebooks/chapter_03/chap_03_notebook.html"
   ]
  },
  {
   "cell_type": "code",
   "execution_count": null,
   "id": "d0fac4fc-32ff-4d7b-bcb9-91ae3eafc163",
   "metadata": {
    "tags": []
   },
   "outputs": [],
   "source": [
    "wine = load_wine()\n",
    "wine = wine.data"
   ]
  },
  {
   "cell_type": "code",
   "execution_count": null,
   "id": "7ce7a960-053a-4e75-9df9-13f416933d53",
   "metadata": {
    "tags": []
   },
   "outputs": [],
   "source": [
    "# In the example above, the alcohol content is represented on the x-axis, the alkalinity is represented on the y-axis, \n",
    "# and the proline content is shown using the color of the markers.\n",
    "\n",
    "fig=plt.gcf()\n",
    "fig.set_size_inches(15,8)\n",
    "plt.scatter(wine[:,0], wine[:,5], c=wine[:,12], cmap='plasma_r')\n",
    "plt.xlabel('Alcohol Content')\n",
    "plt.ylabel('Alkalinity of Ash')\n",
    "\n",
    "cbar = plt.colorbar()\n",
    "cbar.set_label('Proline Content');"
   ]
  },
  {
   "cell_type": "markdown",
   "id": "2cfd6108-45b0-41ca-92b4-270c8f0d3fba",
   "metadata": {},
   "source": [
    "---\n",
    "---\n",
    "# EXAMPLE 5 : PYTHON IN DATA VISUALISATION\n",
    "---\n",
    "---\n",
    "## ✅ Boxplot of Red Wine dataset\n",
    "\n",
    "## In the following example, The Python code produces one-dimensional box-plot that show all values in the dataset for a variable, specifying the minimun and maximun values on the borders, and the first, second (median), and third quartiles on the inside of the box.\n",
    "\n",
    "## In this case a library called \"seaborn\" is used and the box plot can be oriented in vertical or horizontal by changing the python code 'orient=\"h\"' or 'orient=\"v\"'\n",
    "\n",
    "## **<u>EXECUTE<u>** the next 4 cells to visualise 3 types of Boxplots that can be produced using Python!\n",
    "\n",
    "Credits - The example is extracted and adapted from :\n",
    "\n",
    "https://github.com/ML4chemArg/Intro-to-Machine-Learning-in-Chemistry/blob/main/Resources%20in%20English/NOTEBOOK%203%20-%20Exploratory%20data%20analysis.ipynb"
   ]
  },
  {
   "cell_type": "code",
   "execution_count": null,
   "id": "826b0b9d-b148-4d85-85a0-ec81e145a336",
   "metadata": {
    "tags": []
   },
   "outputs": [],
   "source": [
    "# Download and Read dataset from csv file named \"winequality-red.csv\" that is extracted from onkine dataset source.\n",
    "df_wine=pd.read_csv(\"https://archive.ics.uci.edu/ml/machine-learning-databases/wine-quality/winequality-red.csv\", delimiter=\";\")\n",
    "df_wine.head()"
   ]
  },
  {
   "cell_type": "code",
   "execution_count": null,
   "id": "8bd41666-4f5b-4ee5-8296-5fecdb1432d3",
   "metadata": {
    "tags": []
   },
   "outputs": [],
   "source": [
    "fig=plt.gcf()\n",
    "fig.set_size_inches(20,10)\n",
    "ax = sns.boxplot(data=df_wine, orient=\"h\", palette=\"rainbow\")\n",
    "ax.set_xscale('symlog') #Using logarithmic scale\n",
    "ax.axis(xmin=0, xmax=300)"
   ]
  },
  {
   "cell_type": "code",
   "execution_count": null,
   "id": "f15d7eb1-9f0c-41cc-a924-0a566a861a48",
   "metadata": {
    "tags": []
   },
   "outputs": [],
   "source": [
    "# The python code below standardizes the data in df_wine, meaning that each feature (column) in df_wine will have its mean centered at 0 and its variance scaled to 1.\n",
    "\n",
    "scaled = StandardScaler().fit_transform(df_wine)\n",
    "df_scaled = pd.DataFrame(data=scaled, columns=df_wine.columns)\n",
    "fig=plt.gcf()\n",
    "fig.set_size_inches(20,10)\n",
    "ax = sns.boxplot(data=df_scaled, orient=\"h\", palette=\"rainbow\")"
   ]
  },
  {
   "cell_type": "code",
   "execution_count": null,
   "id": "a68a6a7f-6c00-45f9-8e35-e137f6b8293a",
   "metadata": {
    "tags": []
   },
   "outputs": [],
   "source": [
    "# Another way to visualize the boxplots is as a grid. In this case, we use a function of the Pandas library called `plot()`.\n",
    "\n",
    "df_wine.plot(kind='box',subplots=True,layout=(4,3),figsize=(10,10))\n",
    "fig=plt.gcf()\n",
    "fig.set_size_inches(20,10)\n",
    "plt.tight_layout()"
   ]
  },
  {
   "cell_type": "markdown",
   "id": "a244f5a6-6313-4b01-8eee-327a4a1b9cb1",
   "metadata": {
    "tags": []
   },
   "source": [
    "---\n",
    "---\n",
    "# EXAMPLE 6 : PYTHON IN DATA VISUALISATION\n",
    "---\n",
    "---\n",
    "## ✅ Heatmap of Correlation between 2 variables from Red Wine dataset\n",
    "### In this example, 2 libraries were used to visualise this. There are \"Matplotlib\" to set the figure size and \"Seaborn\" to produce heatmap plot\n",
    "## **<u>EXECUTE<u>** the next cell to see how it Python does this.\n",
    "\n",
    "Credits - The example is extracted and adapted from :\n",
    "\n",
    "https://github.com/ML4chemArg/Intro-to-Machine-Learning-in-Chemistry/blob/main/Resources%20in%20English/NOTEBOOK%203%20-%20Exploratory%20data%20analysis.ipynb\n"
   ]
  },
  {
   "cell_type": "code",
   "execution_count": null,
   "id": "b07dda21-f1f9-4bdb-af94-e83ee07733e5",
   "metadata": {
    "tags": []
   },
   "outputs": [],
   "source": [
    "# Using .corr function from \"Pandas\" library to calculate correlattion\n",
    "\n",
    "correlation = df_wine.corr(method='pearson')\n",
    "\n",
    "# Using \"Matplotlib\" library to set the figure size (dimensions of the plot in inch)\n",
    "\n",
    "fig=plt.gcf()\n",
    "fig.set_size_inches(20,10)\n",
    "\n",
    "# Using \"Seaborn\" library to plot Heatmap plot\n",
    "\n",
    "sns.heatmap(correlation, annot=False,square=True)"
   ]
  },
  {
   "cell_type": "markdown",
   "id": "7d7257b1-8668-4578-8a28-a4d564420262",
   "metadata": {},
   "source": [
    "---\n",
    "---\n",
    "# EXAMPLE 7 : PYTHON IN DATA VISUALISATION\n",
    "---\n",
    "---\n",
    "## ✅ Pairplot between 4 variables selected from Red Wine dataset\n",
    "## A function called sns.pairplot utilised from \"Seaborn\" library in Python to create a grid of scatter plots for visualizing relationships between multiple pairs of variables in a dataset\n",
    "## **<u>EXECUTE<u>** the next cell to see how it Python does this. If you dare enough, try changing the variable name based on the previous information! E.g Change 'fixed acidity' to 'alcohol' and re-execute the cell! \n",
    "\n",
    "Credits - The example is extracted and adapted from :\n",
    "\n",
    "https://github.com/ML4chemArg/Intro-to-Machine-Learning-in-Chemistry/blob/main/Resources%20in%20English/NOTEBOOK%203%20-%20Exploratory%20data%20analysis.ipynb\n"
   ]
  },
  {
   "cell_type": "code",
   "execution_count": null,
   "id": "dc11eceb-c8f3-4951-805d-d6941304e216",
   "metadata": {
    "tags": []
   },
   "outputs": [],
   "source": [
    "# Plotting A pairplot based on selected columns in the dataset\n",
    "\n",
    "fig=plt.gcf()\n",
    "fig.set_size_inches(20,10)\n",
    "sns.pairplot(df_wine[['fixed acidity','volatile acidity','citric acid', 'pH']], corner=False) #corner=True hides the upper portion of the matrix"
   ]
  },
  {
   "cell_type": "markdown",
   "id": "f21bf07d-6218-4d0e-be72-07931296ca3d",
   "metadata": {},
   "source": [
    "---\n",
    "---\n",
    "# EXAMPLE 8 : PYTHON IN DATA ANALYSIS\n",
    "---\n",
    "---\n",
    "## ✅ Correlation analysis between 2 variables\n",
    "\n",
    "## In this example, two variables from the red wine dataset (pH and fixed acidity) are the focus of the analysis to see their correlation and also assigned with histogram on the corresponding margins by using a function \"sns.jointplot\"\n",
    "\n",
    "## **<u>EXECUTE<u>** the next 2 cells to visualise the scatterplot with a regression line and histogram (joint plot) with and to utilise python in calculating the Pearson correlation coefficient and the p-value.\n",
    "\n",
    "Credits - The example is extracted and adapted from :\n",
    "\n",
    "https://github.com/ML4chemArg/Intro-to-Machine-Learning-in-Chemistry/blob/main/Resources%20in%20English/NOTEBOOK%203%20-%20Exploratory%20data%20analysis.ipynb"
   ]
  },
  {
   "cell_type": "code",
   "execution_count": null,
   "id": "83046a0b-fe7e-4289-8c6f-b3e381636b2f",
   "metadata": {
    "tags": []
   },
   "outputs": [],
   "source": [
    "# Joint plot (scatter plot and histogram)\n",
    "\n",
    "joint_plt = sns.jointplot(y='pH', x='fixed acidity', data=df_wine, kind='reg',)\n",
    "\n",
    "r, p = stats.pearsonr(df_wine['fixed acidity'], df_wine['pH'])\n",
    "joint_plt.ax_joint.annotate(f'$\\\\rho = {r:.3f}, p = {p:.3f}$',\n",
    "                    xy=(0.1, 0.9), xycoords='axes fraction',\n",
    "                    ha='left', va='center',\n",
    "                    bbox={'boxstyle': 'round', 'fc': 'powderblue', 'ec': 'navy'})"
   ]
  },
  {
   "cell_type": "code",
   "execution_count": null,
   "id": "8f278999-d713-4ca3-801f-74523c0d32a7",
   "metadata": {
    "tags": []
   },
   "outputs": [],
   "source": [
    "# Using Python to create a function called get_corr to calculate the Correlation Coefficient and P-Value and calling the function to print out the values.\n",
    "\n",
    "def get_corr(col1, col2, temp_df):\n",
    "    pearson_corr, p_value = pearsonr(temp_df[col1], temp_df[col2])\n",
    "    print(\"Correlation between {} and {} is {:.2f}\".format(col1, col2, pearson_corr))\n",
    "    print(\"P-value of this correlation is {}\".format(p_value))\n",
    "    \n",
    "get_corr('fixed acidity', 'pH', df_wine)"
   ]
  },
  {
   "cell_type": "markdown",
   "id": "36feff25-44c4-4dcf-ba98-887875ce1cab",
   "metadata": {},
   "source": [
    "---\n",
    "---\n",
    "# EXAMPLE 9 : PYTHON IN DATA ANALYSIS\n",
    "---\n",
    "---\n",
    "## ✅ Variable Reduction - Principal Component Analysis (PCA)\n",
    "## PCA is a popular and powerful tool in the data scientist's toolkit, particularly for dealing with high-dimensional datasets and for tasks like data visualization, noise reduction, and as a preprocessing step before applying other machine learning algorithms. With the help of Python, PCA can be very easy to be done!\n",
    "## In the following example, 2 datasets (Red and White Wine) are loaded and analysed with PCA. We will see their results after you execute the cells below! Let's try!\n",
    "\n",
    "## **<u>EXECUTE<u>** the next 3 cells to instruct Python to do this in few seconds!\n",
    "\n",
    "Credits - The example is extracted and adapted from :\n",
    "\n",
    "https://github.com/ML4chemArg/Intro-to-Machine-Learning-in-Chemistry/blob/main/Resources%20in%20English/NOTEBOOK%203%20-%20Exploratory%20data%20analysis.ipynb"
   ]
  },
  {
   "cell_type": "code",
   "execution_count": null,
   "id": "caa65808-f21b-43ef-9738-13e44ca7d990",
   "metadata": {
    "tags": []
   },
   "outputs": [],
   "source": [
    "# Reading Datset and Using DataFrame to Perform Data Handling before we visualise the data \n",
    "\n",
    "df=pd.read_csv(\"https://archive.ics.uci.edu/ml/machine-learning-databases/wine-quality/winequality-red.csv\", delimiter=\";\")\n",
    "df['hue']='red'\n",
    "df2=pd.read_csv(\"https://archive.ics.uci.edu/ml/machine-learning-databases/wine-quality/winequality-white.csv\", delimiter=\";\")\n",
    "df2['hue']='white'\n",
    "df_wine_2 = pd.concat([df, df2], ignore_index=True)"
   ]
  },
  {
   "cell_type": "code",
   "execution_count": null,
   "id": "3b3586e7-46a0-4008-b497-eab1f58ae2d3",
   "metadata": {
    "tags": []
   },
   "outputs": [],
   "source": [
    "# Copy data into new dataframe without affecting the original data and removing columns named 'quality' and 'hue' \n",
    "data_pca = df_wine_2.copy()\n",
    "data_pca = data_pca.drop(labels = ['quality', 'hue'],axis = 1)\n",
    "\n",
    "# Using StandardScaler() function to scale the data in stadardised mode. The fit.transform() module fits these new values to the data and stores them, replacing the old values.\n",
    "data_pca = StandardScaler().fit_transform(data_pca)\n",
    "\n",
    "#Apply PCA on the transformed (scaled and centered) data:\n",
    "pca = PCA(n_components=2)\n",
    "pca_results = pca.fit_transform(data_pca)"
   ]
  },
  {
   "cell_type": "code",
   "execution_count": null,
   "id": "d462c58e-f9d1-4518-9061-8c2d1a6f67ba",
   "metadata": {
    "tags": []
   },
   "outputs": [],
   "source": [
    "# Creating 3-D PCA Dataframe\n",
    "\n",
    "pca_dataset = pd.DataFrame(data = pca_results, columns = ['component1', 'component2'] )\n",
    "pca_dataset['hue']=df_wine_2['hue']\n",
    "plt.figure()\n",
    "plt.figure(figsize=(10,6))\n",
    "plt.xlabel('Component 1')\n",
    "plt.ylabel('Component 2')\n",
    "plt.title('2 Component PCA')\n",
    "sns.scatterplot(x = pca_dataset['component1'], y = pca_dataset['component2'], hue=pca_dataset['hue'],\n",
    "                alpha=0.3,palette=[\"red\", \"yellow\"])"
   ]
  },
  {
   "cell_type": "markdown",
   "id": "6a71ea74-b9d2-4161-90e9-83965ecf676f",
   "metadata": {},
   "source": [
    "---\n",
    "---"
   ]
  },
  {
   "cell_type": "markdown",
   "id": "bd59e121-bdc2-46f9-8492-2c5e4498a7e9",
   "metadata": {
    "tags": []
   },
   "source": [
    "## 🎉 Congratulations on Your Amazing Progress! 🎉\n",
    "\n",
    "You've just taken a big leap forward in your Python journey! 🚀 By successfully executing various Python cells that perform different capabilities, you've demonstrated not only your ability to run a code, but also your eagerness to explore the powerful possibilities that Python offers.\n",
    "\n",
    "### 🌟 What You've Achieved So Far:\n",
    "- **Executing Python Codes** \n",
    "- **Exploring how Python can be used to perform various tasks** \n",
    "\n",
    "### 💪 Keep Up the Great Work!\n",
    "\n",
    "### 🚀 What's Next?\n",
    "As you continue, you'll dive into the **EMERGING LEVEL** 2 where you will start learning basic python programming! Stay curious, stay motivated, and most importantly, enjoy the journey!\n",
    "\n",
    "Keep going, you've got this! 💻✨"
   ]
  },
  {
   "cell_type": "markdown",
   "id": "412b1d95-c1cf-4a08-952f-4f68c35ec367",
   "metadata": {},
   "source": [
    "---\n",
    "---\n",
    "# **EMERGING (E2)**\n",
    "## OBJECTIVE : BY THE END OF THIS LESSON YOU SHOULD BE ABLE TO :\n",
    "### ✅ Create and execute your first cell\n",
    "### ✅ Identify types of cells\n",
    "---\n",
    "---"
   ]
  },
  {
   "cell_type": "markdown",
   "id": "5bdc4a63-6650-40ad-aa40-bba1b36f52bd",
   "metadata": {},
   "source": [
    "---\n",
    "---\n",
    "# 📝 Our first basic lesson is to know about types of cells used in Python. This is important because each cell type has its own function.\n",
    "## Execute the cell and read the information about types of cell and familiarise yourself with them!\n",
    "---\n",
    "---"
   ]
  },
  {
   "cell_type": "markdown",
   "id": "16ef1a06-1c09-49db-91b5-0b7abe378014",
   "metadata": {},
   "source": [
    "➰➰➰➰➰➰➰➰➰➰➰➰➰➰➰➰➰➰➰➰➰➰➰➰➰➰➰➰➰➰➰➰➰➰➰➰➰➰➰➰➰➰➰➰➰➰➰➰➰➰➰➰➰➰➰➰➰➰➰➰➰➰➰➰➰➰➰➰➰➰➰➰➰➰➰➰➰➰➰\n",
    "## **CELLS IN A JUPYTER NOTEBOOK**\n",
    "### A Jupyter notebook consists of a sequence of cells. The flow of a notebook is sequential. You enter code into an input cell, and when you run the cell, the notebook runs the code and prints the output of the computation to an output cell.\n",
    "\n",
    "### You can change the code in an input cell and re-run the cell as often as you like. In this way, the notebook follows a read-evaluate-print loop paradigm. You can choose to use tags to describe cells in a notebook.\n",
    "\n",
    "### The behavior of a cell is determined by a cell’s type. The different types of cells include:\n",
    "\n",
    "### 1. 🌟 Code Cell - A cell where you write new code or edit existing code.\n",
    "### 2. 🌟 Markdown Cell - A cell that allows you to do the following : \n",
    "  ###    🔘 - Document the computational process\n",
    "  ###    🔘 - Input headings to structure your notebook hierarchically.\n",
    "  ###    🔘 - Add and edit image files as attachments to the notebook.\n",
    "### 3. 🌟 Raw Cell - A cell that contains raw NB Convert cells to write output directly or save code that you don’t want to run. Raw cells are not evaluated by the notebook.\n",
    "➰➰➰➰➰➰➰➰➰➰➰➰➰➰➰➰➰➰➰➰➰➰➰➰➰➰➰➰➰➰➰➰➰➰➰➰➰➰➰➰➰➰➰➰➰➰➰➰➰➰➰➰➰➰➰➰➰➰➰➰➰➰➰➰➰➰➰➰➰➰➰➰➰➰➰➰➰➰➰"
   ]
  },
  {
   "cell_type": "markdown",
   "id": "4461a5a0-396a-415e-b9f3-d308aad90f80",
   "metadata": {},
   "source": [
    "# 🎥 You can proceed to go through the materials below or you can learn from the following video tutorial!🎥"
   ]
  },
  {
   "cell_type": "code",
   "execution_count": null,
   "id": "9d6d6fd6-72a8-46e0-b2fe-48cd1e73dc25",
   "metadata": {
    "tags": []
   },
   "outputs": [],
   "source": [
    "# Video Tutorial 3\n",
    "from IPython.display import clear_output, display, HTML\n",
    "# Watch this to help you with executing your first Python code!\n",
    "HTML('<iframe width=\"806\" height=\"504\" src=\"https://www.youtube.com/embed/86okp8s4wgA\" title=\"Python Training - 3\" frameborder=\"0\" allow=\"accelerometer; autoplay; clipboard-write; encrypted-media; gyroscope; picture-in-picture; web-share\" referrerpolicy=\"strict-origin-when-cross-origin\" allowfullscreen></iframe>')"
   ]
  },
  {
   "cell_type": "markdown",
   "id": "0b4a267d-1385-4c74-bdf0-14888bb4b536",
   "metadata": {},
   "source": [
    "---\n",
    "# 🚀 Let us get started! The following 3 cells below provide you an example of a code cell, a markdown cell and a raw cell. Make sure you know the difference between them\n",
    "# ***EXECUTE*** the cells below to see what output each cell will produce!\n",
    "---"
   ]
  },
  {
   "cell_type": "markdown",
   "id": "e2ac572c-b29b-4429-a0cf-831dbd0db2ff",
   "metadata": {},
   "source": [
    "## A CODE CELL"
   ]
  },
  {
   "cell_type": "code",
   "execution_count": null,
   "id": "785c1809-77b4-4af3-abc0-46729b33e935",
   "metadata": {
    "tags": []
   },
   "outputs": [],
   "source": [
    "# An example of a CODE cell that prints out \"Hello!\"\n",
    "print (\"Hello!\")"
   ]
  },
  {
   "cell_type": "markdown",
   "id": "d822d71a-2011-4665-8449-51b4aefd04b1",
   "metadata": {},
   "source": [
    "## A MARKDOWN CELL"
   ]
  },
  {
   "cell_type": "markdown",
   "id": "d9ff118c-5175-45ea-94f5-97c04d56dbc3",
   "metadata": {},
   "source": [
    "This is an example of a **MARKDOWN** cell\n",
    "- Create your first code!"
   ]
  },
  {
   "cell_type": "markdown",
   "id": "14700c5d-e9e5-47bf-bed3-31938dee70cd",
   "metadata": {},
   "source": [
    "## A RAW CELL"
   ]
  },
  {
   "cell_type": "raw",
   "id": "44aa6c6d-eeea-4fd8-b55b-adc58a43d9b1",
   "metadata": {},
   "source": [
    "An example of a RAW cell\n",
    "- Let's learn Python!"
   ]
  },
  {
   "cell_type": "markdown",
   "id": "25bfe5c2-cddb-4d1c-8c5c-3e69bd4f6d7a",
   "metadata": {},
   "source": [
    "---\n",
    "# 🚀 Now that you have seen an example of each type of cell. It is ** YOUR TURN** now to create your own example of each type!\n",
    "# Read the \"Comments\" in each cell below which are labeled with \"#\" and in each cell **WRITE** down your own code!\n",
    "---"
   ]
  },
  {
   "cell_type": "code",
   "execution_count": null,
   "id": "ca99c8d3-00ee-456f-b2c1-403e756474ee",
   "metadata": {},
   "outputs": [],
   "source": [
    "#Task E2.1 - # Create you own code cell in this cell and EXECUTE the cell"
   ]
  },
  {
   "cell_type": "code",
   "execution_count": null,
   "id": "cec098a6-f733-409e-9239-e1ffd13f66ee",
   "metadata": {},
   "outputs": [],
   "source": [
    "#Task E2.2 - # Create you own markdown cell here and EXECUTE the cell"
   ]
  },
  {
   "cell_type": "code",
   "execution_count": null,
   "id": "8f665d45-eda5-49ac-a2d7-d6bd11699908",
   "metadata": {},
   "outputs": [],
   "source": [
    "#Task E2.3 - # Create your own raw cell here and EXECUTE the cell"
   ]
  },
  {
   "cell_type": "markdown",
   "id": "0f139fa1-663a-4871-9cad-567e8e14355b",
   "metadata": {},
   "source": [
    "## 🌟 Welldone! You have created your first code! Amazingly, You have reached E2 Level! Are you excited to do more?\n",
    "## Let us move on to the next level!! Good luck!"
   ]
  },
  {
   "cell_type": "markdown",
   "id": "1cd56890-cba8-49c7-a1b9-94ffcf8669f4",
   "metadata": {},
   "source": [
    "---\n",
    "---\n",
    "# **EMERGING (E3)**\n",
    "## OBJECTIVE : BY THE END OF THIS LESSON YOU SHOULD BE ABLE TO :\n",
    "### ✅ Use print() function\n",
    "### ✅ Use type() function to identify data type\n",
    "### ✅ Create Variables\n",
    "### ✅ Basic Applications\n",
    "---\n",
    "---"
   ]
  },
  {
   "cell_type": "markdown",
   "id": "2e7588aa-d5c3-45a7-9179-4f05e4053f38",
   "metadata": {},
   "source": [
    "---\n",
    "# 🚀 Let us move on! You are now entering a path of a Python Programmer!\n",
    "# You will learn to use python codes that perform different jobs!\n",
    "# ***EXECUTE*** the cells below to watch the video and the next learning materials for you to learn from!\n",
    "---"
   ]
  },
  {
   "cell_type": "code",
   "execution_count": null,
   "id": "a01b3936-ad86-49cc-acdc-667b2f3b0698",
   "metadata": {
    "tags": []
   },
   "outputs": [],
   "source": [
    "# Video Tutorial 4\n",
    "from IPython.display import clear_output, display, HTML\n",
    "\n",
    "# Watch this to help you to use print() function!\n",
    "\n",
    "HTML('<iframe width=\"790\" height=\"444\" src=\"https://www.youtube.com/embed/fZaPc8YeJxI\" title=\"Python Training - 4\" frameborder=\"0\" allow=\"accelerometer; autoplay; clipboard-write; encrypted-media; gyroscope; picture-in-picture; web-share\" referrerpolicy=\"strict-origin-when-cross-origin\" allowfullscreen></iframe>')"
   ]
  },
  {
   "cell_type": "markdown",
   "id": "58826919-d3af-4033-a42b-84f6de994534",
   "metadata": {},
   "source": [
    "---\n",
    "# 🚀 **CODE TO LEARN - print ()** \n",
    "# 🚀 - Printing a string or text\n",
    "# There are 2 methods that you can do! EXECUTE and have a look at the following 2 code cells below on how to achieve this!\n",
    "---"
   ]
  },
  {
   "cell_type": "markdown",
   "id": "544b2ca9-82e9-4149-aaf3-28f64a494416",
   "metadata": {},
   "source": [
    "---\n",
    "---\n",
    "## Method 1 - print (\"Your text\")\n",
    "---\n",
    "---"
   ]
  },
  {
   "cell_type": "code",
   "execution_count": null,
   "id": "78434d35-b560-427a-9c28-1f07fb140dfd",
   "metadata": {
    "tags": []
   },
   "outputs": [],
   "source": [
    "# Using print () command to print text. \n",
    "# in Python, print means 'show on screen' not 'send to the printer'!\n",
    "# Method 1\n",
    "\n",
    "print(\"My name is Ghani\")"
   ]
  },
  {
   "cell_type": "markdown",
   "id": "28613ffe-21dd-4c2e-af8b-5863fe1d74a8",
   "metadata": {},
   "source": [
    "---\n",
    "---\n",
    "## Method 2 - print ('Your text')\n",
    "---\n",
    "---"
   ]
  },
  {
   "cell_type": "code",
   "execution_count": null,
   "id": "2c34e249-b580-48d0-8735-3b4fbadeaa55",
   "metadata": {},
   "outputs": [],
   "source": [
    "# Using print () command to print text.\n",
    "# Method 2\n",
    "print('Hello, I am learning Python today!')"
   ]
  },
  {
   "cell_type": "markdown",
   "id": "eecfa310-65e0-486f-8360-a2b7dc59b6ef",
   "metadata": {},
   "source": [
    "---\n",
    "# 🚀 Now that you have seen an example on how to print a text!\n",
    "# It is your turn to do the following tasks using the \"print ()\" function you just learn!\n",
    "---"
   ]
  },
  {
   "cell_type": "code",
   "execution_count": null,
   "id": "3e0c6964-472b-44c3-9a7b-d3ded6a12456",
   "metadata": {},
   "outputs": [],
   "source": [
    "#Task E2.4 - Create your first code! \n",
    "#Print your name below and execute it!\n"
   ]
  },
  {
   "cell_type": "code",
   "execution_count": null,
   "id": "d4e7d820-6386-4b02-ae5d-91537706e821",
   "metadata": {},
   "outputs": [],
   "source": [
    "#Task E2.5 - Write 2 codes that will print a question and an answer.\n"
   ]
  },
  {
   "cell_type": "markdown",
   "id": "34e8a283-03b5-40eb-b0e3-02d27743f9be",
   "metadata": {},
   "source": [
    "---\n",
    "# 🚀 Welldone! Let us take a quiz below to check your progress so far. **EXECUTE** the cell below to see an interactive quiz given to you to answer!\n",
    "# Click your answer to the question and click **Submit!** to check your answer! You can redo the quiz until you know the correct answer!\n",
    "---"
   ]
  },
  {
   "cell_type": "code",
   "execution_count": null,
   "id": "26d0707f-432b-433d-a0fb-dce18c88db22",
   "metadata": {
    "tags": []
   },
   "outputs": [],
   "source": [
    "# Video Tutorial 5\n",
    "from IPython.display import clear_output, display, HTML\n",
    "\n",
    "HTML ('<iframe width=\"806\" height=\"504\" src=\"https://www.youtube.com/embed/YL9LC2MWShc\" title=\"Python Training - 5\" frameborder=\"0\" allow=\"accelerometer; autoplay; clipboard-write; encrypted-media; gyroscope; picture-in-picture; web-share\" referrerpolicy=\"strict-origin-when-cross-origin\" allowfullscreen></iframe>')"
   ]
  },
  {
   "cell_type": "code",
   "execution_count": null,
   "id": "e0f87ae6-a798-43c5-8456-1d9e08ae81ce",
   "metadata": {
    "tags": []
   },
   "outputs": [],
   "source": [
    "# Task E2.6 - Execute the cell below and answer the quiz.\n",
    "\n",
    "out = widgets.Output()\n",
    "\n",
    "alternativ = widgets.RadioButtons(\n",
    "    options=[('Print (\"I know how to print!\")', 1), ('print (\"I know how to print!\")', 2), ('print (I know how to print!)', 3),('print \"I know how to print!\"', 4)],\n",
    "    description='',\n",
    "    disabled=False\n",
    ")\n",
    "print('\\033[1m','1) Which of these lines of code is correct?','\\033[0m')\n",
    "check = widgets.Button(description=\"Submit!\")\n",
    "display(alternativ)\n",
    "display(check)\n",
    "\n",
    "\n",
    "def quiz_1(b):\n",
    "        a = int(alternativ.value)\n",
    "        right_answer = 2\n",
    "        if(a==right_answer): \n",
    "            color = '\\x1b[6;30;42m' + \"Correct!\" + '\\x1b[0m' +\"\\n\" #green color\n",
    "        else:\n",
    "            color = '\\x1b[5;30;41m' + \"You can try again! \" + '\\x1b[0m' +\"\\n\" #red color\n",
    "        svar = [\"\",\"\",\"\",\"\"] \n",
    "        with out:\n",
    "            clear_output()\n",
    "        with out:\n",
    "            print(color+\"\"+svar[a-1])   \n",
    "        \n",
    "        \n",
    "display(out)\n",
    "check.on_click(quiz_1)"
   ]
  },
  {
   "cell_type": "markdown",
   "id": "3164df00-7f15-452f-91fd-8a053474d677",
   "metadata": {},
   "source": [
    "---\n",
    "# 🚀 Excellent job! Now that you know how to use print function correctly. Now as a Python Programmer, you are to do the next tasks.\n",
    "# There are 3 codes written below and when there are executed, the code raises and error! Help us to review each code and correct them and make sure to re-execute them succesfully!\n",
    "---"
   ]
  },
  {
   "cell_type": "code",
   "execution_count": null,
   "id": "d01a3843-9fbf-413c-b421-942e0926bab2",
   "metadata": {
    "tags": []
   },
   "outputs": [],
   "source": [
    "# Task E2.7 - The code below return an error . Correct it and execute!\n",
    "print (\"Hello, World!)"
   ]
  },
  {
   "cell_type": "code",
   "execution_count": null,
   "id": "c199b3cd-48b1-4ad9-849a-e2754693b0e0",
   "metadata": {
    "tags": []
   },
   "outputs": [],
   "source": [
    "# Task E2.8 - The code below return an error . Correct it and execute!\n",
    "print (\"Hello, World!')"
   ]
  },
  {
   "cell_type": "code",
   "execution_count": null,
   "id": "10c52f06-2f0f-4011-bede-3411ac65d97c",
   "metadata": {
    "tags": []
   },
   "outputs": [],
   "source": [
    "# Task E2.9 - The code below return an error . Correct it and execute!\n",
    "print (Hello, World!)"
   ]
  },
  {
   "cell_type": "markdown",
   "id": "f0931bdc-bbc7-4eac-ad0e-369515299c67",
   "metadata": {},
   "source": [
    "## 🌟 Welldone! You have learnt to print and even capable to upgrade yourself not only as a a Python Programmer but also a code reviewer!\n",
    "## Let us do more! We proceed with the next section which is using \"type ()\" function."
   ]
  },
  {
   "cell_type": "markdown",
   "id": "7e7701d6-67a3-4a1c-9d4c-0df0467b5a16",
   "metadata": {
    "tags": []
   },
   "source": [
    "---\n",
    "---\n",
    "# **EMERGING (E3)**\n",
    "## OBJECTIVE : BY THE END OF THIS LESSON YOU SHOULD BE ABLE TO :\n",
    "### ✅ Use print() function\n",
    "### ✅ Use type() function to identify data type\n",
    "### ✅ Create Variables\n",
    "### ✅ Basic Applications\n",
    "---\n",
    "---"
   ]
  },
  {
   "cell_type": "markdown",
   "id": "cbf75d42-b8a0-415a-938c-a376debd47d7",
   "metadata": {},
   "source": [
    "➰➰➰➰➰➰➰➰➰➰➰➰➰➰➰➰➰➰➰➰➰➰➰➰➰➰➰➰➰➰➰➰➰➰➰➰➰➰➰➰➰➰➰➰➰➰➰➰➰➰➰➰➰➰➰➰➰➰➰➰➰➰➰➰➰➰➰➰➰➰➰➰➰➰➰➰➰➰➰\n",
    "## **DATA TYPES IN PYTHON**\n",
    "### In Python, one crucial input that will drive Python to do desired tasks will be the use of data for it to process and create outputs from them. \n",
    "### There are many types of data that are known in python. For this training, we will only focus on the following types:\n",
    "\n",
    "### 🌟 Numeric Data Types\n",
    "### 🌟 String data Types\n",
    "### 🌟 Collection/ Sequence\n",
    "### 🌟 Boolean type\n",
    "\n",
    "# 🚨NOTE : To provide you with clear understanding, specific data type language that Python use are as follows:\n",
    "###  🔘 **Integer : int** - represents positive or negative whole numbers like 8 or -678.\n",
    "###  🔘 **Decimals : float** - represents real numbers like 3.14159 or -6.5.\n",
    "###  🔘 **String : str** - represents textual data enclosed in either single quotes (‘’) or double quotes (“”)\n",
    "###  🔘 **List : list** - this type of value is a list of either string, integer or float values, for example: [\"Time\",\"Speed\", \"Distance\"],[1,2,3,4] or [1.23, 2, 3.54, 4]\n",
    "###  🔘 **Tuple : tuple** - similar to a list but a tuple can't be changed or modified like a list.\n",
    "###  🔘 **Boolean - bool** - is a variable that can be either _True_ or _False_.\n",
    "\n",
    "### Do not worry much about this. The main important aspect is you learning how to check using a python code namely \"type()\" function to identify the above data types. \n",
    "### For more information, please visit the [documentation](https://docs.python.org/3/library/stdtypes.html \"Python's Built-in Types\").\n",
    "➰➰➰➰➰➰➰➰➰➰➰➰➰➰➰➰➰➰➰➰➰➰➰➰➰➰➰➰➰➰➰➰➰➰➰➰➰➰➰➰➰➰➰➰➰➰➰➰➰➰➰➰➰➰➰➰➰➰➰➰➰➰➰➰➰➰➰➰➰➰➰➰➰➰➰➰➰➰➰"
   ]
  },
  {
   "cell_type": "markdown",
   "id": "f031e122-272c-4854-b95f-066189041b7f",
   "metadata": {},
   "source": [
    "---\n",
    "# 🚀 **CODE TO LEARN - type ()** \n",
    "# 🚀 - Identify data type\n",
    "---"
   ]
  },
  {
   "cell_type": "code",
   "execution_count": null,
   "id": "f81a9dbc-bf36-41ad-8353-7119f5e59409",
   "metadata": {
    "tags": []
   },
   "outputs": [],
   "source": [
    "# Video Tutorial 6\n",
    "from IPython.display import clear_output, display, HTML\n",
    "# Watch this to help you to use type () function to identify data type!\n",
    "\n",
    "HTML('<iframe width=\"790\" height=\"444\" src=\"https://www.youtube.com/embed/HQtZV1xkXoo\" title=\"Python Training - 6\" frameborder=\"0\" allow=\"accelerometer; autoplay; clipboard-write; encrypted-media; gyroscope; picture-in-picture; web-share\" referrerpolicy=\"strict-origin-when-cross-origin\" allowfullscreen></iframe>')"
   ]
  },
  {
   "cell_type": "markdown",
   "id": "91c47b95-da6d-4d81-aae7-49910db9372f",
   "metadata": {},
   "source": [
    "---\n",
    "# 🚀 The cell below showed 7 types of data that are represented by a variable name.\n",
    "# 🚀 ##EXECUTE## the cell below to define them before we learn to use type() function\n",
    "---"
   ]
  },
  {
   "cell_type": "code",
   "execution_count": null,
   "id": "0faa90f6-7bf6-4600-bd43-35bc4f361ee9",
   "metadata": {
    "tags": []
   },
   "outputs": [],
   "source": [
    "# Below are examples of variables which conatin different types of data\n",
    "# First we define the variables\n",
    "# Execute this cell!\n",
    "\n",
    "x = 100\n",
    "\n",
    "y = \"Electrons\"\n",
    "\n",
    "planet = 'Earth'\n",
    "\n",
    "is_metal = False\n",
    "\n",
    "pi = 3.14\n",
    "\n",
    "nobel_gases_list = [\"Helium\", \"Neon\", \"Argon\", \"Krypton\", \"Xenon\", \"Argon\"]\n",
    "\n",
    "nobel_gases_tuple = (\"Helium\", \"Neon\", \"Argon\", \"Krypton\", \"Xenon\", \"Argon\")"
   ]
  },
  {
   "cell_type": "markdown",
   "id": "4ac0d034-9d6c-4ffc-92ed-b30d36dc279c",
   "metadata": {},
   "source": [
    "---\n",
    "# 🚀 Let us get started! Learn the next 7 cells below on how the type() function code is used to identify the pre-defined data previously!\n",
    "# 🚀 ##EXECUTE## the 7 cells below to see how Python \"speak\" to tell you the data type for each variable.\n",
    "---"
   ]
  },
  {
   "cell_type": "code",
   "execution_count": null,
   "id": "bfd6e71f-884f-42d1-a304-4a9e259879fe",
   "metadata": {
    "tags": []
   },
   "outputs": [],
   "source": [
    "# Identify the data types above\n",
    "type(x)"
   ]
  },
  {
   "cell_type": "code",
   "execution_count": null,
   "id": "f80a0b43-4e18-4d25-bbd1-8ccff48b40b0",
   "metadata": {
    "tags": []
   },
   "outputs": [],
   "source": [
    "# Identify the data type for 'y'\n",
    "type(y)"
   ]
  },
  {
   "cell_type": "code",
   "execution_count": null,
   "id": "471217b1-e5ce-4224-97a8-083350926cc4",
   "metadata": {
    "tags": []
   },
   "outputs": [],
   "source": [
    "# Identify the data type for 'name'\n",
    "type(planet)"
   ]
  },
  {
   "cell_type": "code",
   "execution_count": null,
   "id": "3dcedc1a-51ac-4387-8f5f-380147ba5189",
   "metadata": {
    "tags": []
   },
   "outputs": [],
   "source": [
    "# Identify the data type for 'name'\n",
    "type(pi)"
   ]
  },
  {
   "cell_type": "code",
   "execution_count": null,
   "id": "2f8c538e-4ef5-4ad8-a766-377858c2202d",
   "metadata": {
    "tags": []
   },
   "outputs": [],
   "source": [
    "# Identify the data type for 'is_metal'\n",
    "type(is_metal)"
   ]
  },
  {
   "cell_type": "code",
   "execution_count": null,
   "id": "5ecf6dc9-4ab1-476e-89cc-e3b161d8f3f4",
   "metadata": {
    "tags": []
   },
   "outputs": [],
   "source": [
    "# Identify the data type for 'nobel_gases'\n",
    "type(nobel_gases_list)"
   ]
  },
  {
   "cell_type": "code",
   "execution_count": null,
   "id": "976e4db3-d157-4e80-bc5c-64c19c3bec91",
   "metadata": {
    "tags": []
   },
   "outputs": [],
   "source": [
    "# Identify the data type for 'nobel_gases'\n",
    "type(nobel_gases_tuple)"
   ]
  },
  {
   "cell_type": "markdown",
   "id": "5947a28b-bafd-49d5-af47-659551727f32",
   "metadata": {},
   "source": [
    "---\n",
    "# 🚀 Amazing isn't it? Now that you know how to use the type () function. Use the code to identify the following data provided in the next cell. \n",
    "# Put each answer in a separate cell. Good luck!\n",
    "---"
   ]
  },
  {
   "cell_type": "code",
   "execution_count": null,
   "id": "696893f9-2b47-4509-a49c-e0fc00482e15",
   "metadata": {
    "tags": []
   },
   "outputs": [],
   "source": [
    "# Task E3.1 - Identify the data type of each variable\n",
    "info_1 = 10\n",
    "info_2 = 9.81\n",
    "info_3 = \"Newton\"\n",
    "info_4 = False\n",
    "info_5 = [\"Iron\", \"Copper\", \"Aluminium\", \"Gold\", \"Silver\", \"Platinum\", \"Zinc\"]\n",
    "info_6 = (\"Jupiter\", \"Neptune\", \"Venus\", \"Earth\", \"Mercury\", \"Mars\", \"Saturn\", \"Uranus\") "
   ]
  },
  {
   "cell_type": "code",
   "execution_count": null,
   "id": "e619996c-7e2c-415a-bfe0-7ee86fd4e213",
   "metadata": {},
   "outputs": [],
   "source": [
    "#Answer for info_1"
   ]
  },
  {
   "cell_type": "code",
   "execution_count": null,
   "id": "d74cb833-39f3-4a0b-94b5-4205ff36d4c9",
   "metadata": {},
   "outputs": [],
   "source": [
    "#Answer for info_2"
   ]
  },
  {
   "cell_type": "code",
   "execution_count": null,
   "id": "a165b9de-ad27-4335-8258-120c5a84ee7e",
   "metadata": {},
   "outputs": [],
   "source": [
    "#Answer for info_3"
   ]
  },
  {
   "cell_type": "code",
   "execution_count": null,
   "id": "d52a80ab-641f-4fe1-a819-a0ad8961ca52",
   "metadata": {},
   "outputs": [],
   "source": [
    "#Answer for info_4"
   ]
  },
  {
   "cell_type": "code",
   "execution_count": null,
   "id": "1b581892-b62d-479f-b5fa-9ac9d1794006",
   "metadata": {},
   "outputs": [],
   "source": [
    "#Answer for info_5"
   ]
  },
  {
   "cell_type": "code",
   "execution_count": null,
   "id": "2cbe1534-3c39-4df5-8490-44aa74d5f971",
   "metadata": {},
   "outputs": [],
   "source": [
    "#Answer for info_6"
   ]
  },
  {
   "cell_type": "markdown",
   "id": "9027e4f6-6e6f-444a-9028-c7ee270a98a7",
   "metadata": {},
   "source": [
    "## 🌟 Welldone! You have learnt how to identify data type using python code! "
   ]
  },
  {
   "cell_type": "markdown",
   "id": "a505b901-db4f-4bfb-a11d-d3d61b8c3b3a",
   "metadata": {},
   "source": [
    "---\n",
    "---\n",
    "#  💫💫💫💫💫💫💫💫💫💫💫💫💫💫💫💫💫💫💫💫💫💫💫💫💫💫💫💫💫💫💫💫💫💫💫💫💫💫💫💫💫💫\n",
    "# ☕ LET US TAKE A BREAK!!☕ - Go and have a rest and come back later to continue with the adventure!\n",
    "#  💫💫💫💫💫💫💫💫💫💫💫💫💫💫💫💫💫💫💫💫💫💫💫💫💫💫💫💫💫💫💫💫💫💫💫💫💫💫💫💫💫💫\n",
    "---\n",
    "---"
   ]
  },
  {
   "cell_type": "markdown",
   "id": "06c9d533-14f3-41e7-a578-f2c5b98fb2da",
   "metadata": {},
   "source": [
    "# ✨✨✨✨✨✨✨✨✨✨✨✨✨✨✨✨✨✨✨✨✨✨✨✨✨✨✨✨✨✨✨✨✨✨\n",
    "# 🎉 **Hi! Welcome back to our next stage of our Python Training Programme!** 🎉\n",
    "# ✨✨✨✨✨✨✨✨✨✨✨✨✨✨✨✨✨✨✨✨✨✨✨✨✨✨✨✨✨✨✨✨✨✨"
   ]
  },
  {
   "cell_type": "markdown",
   "id": "4423a5a0-0188-4a07-a3a6-3cd9d4001dd5",
   "metadata": {
    "tags": []
   },
   "source": [
    "---\n",
    "---\n",
    "# **EMERGING (E3)**\n",
    "## OBJECTIVE : BY THE END OF THIS LESSON YOU SHOULD BE ABLE TO :\n",
    "### ✅ Use print() function\n",
    "### ✅ Use type() function to identify data type\n",
    "### ✅ Create Variables\n",
    "### ✅ Basic Applications\n",
    "---\n",
    "---"
   ]
  },
  {
   "cell_type": "markdown",
   "id": "fe1bc810-7f04-4a65-80c9-90d6a7aa866d",
   "metadata": {},
   "source": [
    "➰➰➰➰➰➰➰➰➰➰➰➰➰➰➰➰➰➰➰➰➰➰➰➰➰➰➰➰➰➰➰➰➰➰➰➰➰➰➰➰➰➰➰➰➰➰➰➰➰➰➰➰➰➰➰➰➰➰➰➰➰➰➰➰➰➰➰➰➰➰➰➰➰➰➰➰➰➰➰\n",
    "## **CREATING VARIABLES IN PYTHON**\n",
    "### In Python, defining variables to represent data is an important skill to acquire. You will come across a lot of them in a later course. \n",
    "### In simple terms, **Variables** are places for storing data.Each variable has a **\"UNIQUE\"** name\n",
    "### 🚨 Note: Setting up a unique name is **\"VERY IMPORTANT\"** to avoid clashes of Python code execution. I could lead to misleading or non-intended results if there are similar defined variable/s present earlier.\n",
    "➰➰➰➰➰➰➰➰➰➰➰➰➰➰➰➰➰➰➰➰➰➰➰➰➰➰➰➰➰➰➰➰➰➰➰➰➰➰➰➰➰➰➰➰➰➰➰➰➰➰➰➰➰➰➰➰➰➰➰➰➰➰➰➰➰➰➰➰➰➰➰➰➰➰➰➰➰➰➰"
   ]
  },
  {
   "cell_type": "code",
   "execution_count": null,
   "id": "15df9290-362b-469b-972f-052d40670608",
   "metadata": {
    "tags": []
   },
   "outputs": [],
   "source": [
    "# Video Tutorial 7\n",
    "from IPython.display import clear_output, display, HTML\n",
    "# Watch this to help you to learn how to create variables!\n",
    "\n",
    "HTML('<iframe width=\"790\" height=\"444\" src=\"https://www.youtube.com/embed/jFzYyYWWrsI\" title=\"Python Training - 7\" frameborder=\"0\" allow=\"accelerometer; autoplay; clipboard-write; encrypted-media; gyroscope; picture-in-picture; web-share\" referrerpolicy=\"strict-origin-when-cross-origin\" allowfullscreen></iframe>')"
   ]
  },
  {
   "cell_type": "markdown",
   "id": "b700a2bf-b210-4190-a5d4-f9a446fbebbf",
   "metadata": {},
   "source": [
    "---\n",
    "# 🚀 Say i want to define 4 variables that i want to include in a task. I will define them as shown below\n",
    "# You can define each of them separately, just make sure you define them before processing them with the incoming code that will call them.\n",
    "# For the purpose of this training, i will compile them in one cell.\n",
    "---"
   ]
  },
  {
   "cell_type": "code",
   "execution_count": null,
   "id": "e3907850-996c-48f7-a8fd-c4441d4481dd",
   "metadata": {},
   "outputs": [],
   "source": [
    "# 4 Variables are defined \n",
    "\n",
    "a = 100\n",
    "\n",
    "e = \"Electrons\"\n",
    "\n",
    "is_metal = True\n",
    "\n",
    "pi = 3.14"
   ]
  },
  {
   "cell_type": "markdown",
   "id": "dbd6c03e-41c0-4785-8b39-cd16549bb742",
   "metadata": {},
   "source": [
    "---\n",
    "# 🚀 Now we have defined the variables. Let us upgrade our knowledge of using print() function. \n",
    "# Printing variable using print()\n",
    "# Execute the following 4 cells and have a look at the output. Make sure you know how to do this so that it will be easy for you to do the tasks later! \n",
    "---"
   ]
  },
  {
   "cell_type": "code",
   "execution_count": null,
   "id": "d4745a92-a920-46e7-9f8a-447dc545c563",
   "metadata": {
    "tags": []
   },
   "outputs": [],
   "source": [
    "# Printing the variable \"a\"\n",
    "print(a)"
   ]
  },
  {
   "cell_type": "code",
   "execution_count": null,
   "id": "62594eb1-3dd2-4cad-bbb7-c89ac87117a8",
   "metadata": {
    "tags": []
   },
   "outputs": [],
   "source": [
    "# Printing the variable \"e\"\n",
    "print(e)"
   ]
  },
  {
   "cell_type": "code",
   "execution_count": null,
   "id": "71225c29-292f-4acb-ab9b-2da388cf7e3d",
   "metadata": {
    "tags": []
   },
   "outputs": [],
   "source": [
    "# Printing the variable \"pi\"\n",
    "print (pi)"
   ]
  },
  {
   "cell_type": "code",
   "execution_count": null,
   "id": "6db264cc-630c-4d9e-b7ce-1ca3c027ad3c",
   "metadata": {
    "tags": []
   },
   "outputs": [],
   "source": [
    "# Printing the variable \"is_metal\"\n",
    "print(is_metal)"
   ]
  },
  {
   "cell_type": "markdown",
   "id": "14489052-e4dd-454f-b943-e2e9b2e36b7c",
   "metadata": {},
   "source": [
    "---\n",
    "# 🚀 Easy isn't it? It is your turn to create your variables from the task given below!\n",
    "---"
   ]
  },
  {
   "cell_type": "code",
   "execution_count": null,
   "id": "6f0f9d48-b735-4eb3-b3f2-689922a7e2b1",
   "metadata": {},
   "outputs": [],
   "source": [
    "# Create 3 variables with unique name of your own choice that contains the following:\n",
    "# your name , boolean data - False and value of gravitational acceleration - 9.81\n",
    "my_name = \"Ghani\"\n",
    "my_bool = False\n",
    "grav_a = 9.81"
   ]
  },
  {
   "cell_type": "code",
   "execution_count": null,
   "id": "cbe87b8f-400a-4318-bd0d-dcf96ab6b6d7",
   "metadata": {
    "tags": []
   },
   "outputs": [],
   "source": [
    "my_name"
   ]
  },
  {
   "cell_type": "markdown",
   "id": "8cf4d1cd-f07d-4618-addd-5346181c5553",
   "metadata": {},
   "source": [
    "## 🌟 Great work! You are near to reach the next level!\n",
    "## Let us APPLY what you have learnt so far in the following section!\n",
    "## You do not have to worry if you are still not confident to apply them. There are worked examples provided for you to learn before you attempt the final tasks for this Emerging Level!\n",
    "## All examples are focused on basic concepts in Physics and Chemistry for you to focus only the Python coding skills! Information about the contents are also provided for you!"
   ]
  },
  {
   "cell_type": "markdown",
   "id": "3176251c-abe5-45d8-98b7-005edd285ec7",
   "metadata": {},
   "source": [
    "---\n",
    "---\n",
    "# **EMERGING (E3)**\n",
    "## OBJECTIVE : BY THE END OF THIS LESSON YOU SHOULD BE ABLE TO :\n",
    "### ✅ Use print() function\n",
    "### ✅ Use type() function to identify data type\n",
    "### ✅ Create Variables\n",
    "### ✅ Basic Applications\n",
    "---\n",
    "---"
   ]
  },
  {
   "cell_type": "code",
   "execution_count": null,
   "id": "84b1e42f-245e-4efe-b704-ae2daf502b77",
   "metadata": {
    "tags": []
   },
   "outputs": [],
   "source": [
    "# Video Tutorial 8\n",
    "from IPython.display import clear_output, display, HTML\n",
    "# Watch this to help you to learn how to create variables!\n",
    "\n",
    "HTML('<iframe width=\"790\" height=\"444\" src=\"https://www.youtube.com/embed/aJEHz36GI9Y\" title=\"Python Training - 8\" frameborder=\"0\" allow=\"accelerometer; autoplay; clipboard-write; encrypted-media; gyroscope; picture-in-picture; web-share\" referrerpolicy=\"strict-origin-when-cross-origin\" allowfullscreen></iframe>')"
   ]
  },
  {
   "cell_type": "markdown",
   "id": "d3ba2f5a-799d-4ac3-b876-4c829d711aef",
   "metadata": {},
   "source": [
    "## 🔧**Basic Physics Applications - Example 1**\n",
    "---\n",
    "### Calculate the speed of a car travelling at a constant speed in 2 hours and covered 200 km distance.\n",
    "### Speed = Distance / Time\n",
    "## **In Python, we use \"+\" to Add , \"-\" to Subtract, \"*\" to Multiply, \"/\" to Divide**"
   ]
  },
  {
   "cell_type": "code",
   "execution_count": null,
   "id": "a5e49846-7b96-4aa6-833b-5eb8a5ea92d0",
   "metadata": {
    "tags": []
   },
   "outputs": [],
   "source": [
    "# Create variables for distance (d) and time (t)\n",
    "\n",
    "d = 200 #km\n",
    "t = 2 #hours\n",
    "\n",
    "# Calculation of the speed\n",
    "speed = d/t"
   ]
  },
  {
   "cell_type": "code",
   "execution_count": null,
   "id": "e01eb52d-71e3-4e22-aa32-1daa464ffba7",
   "metadata": {
    "tags": []
   },
   "outputs": [],
   "source": [
    "# Can use 'print(speed)' or simply type 'speed' to see the result\n",
    "print(speed)"
   ]
  },
  {
   "cell_type": "markdown",
   "id": "fc964dfb-213f-4eb2-87c7-c89cd050e907",
   "metadata": {},
   "source": [
    "## 🔧**Basic Chemistry Application - Example 2**\n",
    "---\n",
    "### Calculate the molecular mass of water (H2O) \n",
    "### Molecular mass of water is given by the formula , \n",
    "### Hydrogen + Hydrogen + Oxygen --> H + H + O\n",
    "\n",
    "## **In Python, we use \"+\" to add , \"-\" to subtract, \"*\" to multiply, \"/\" to divide**"
   ]
  },
  {
   "cell_type": "code",
   "execution_count": null,
   "id": "92c22285-2a78-4535-951e-91d45eaee439",
   "metadata": {
    "tags": []
   },
   "outputs": [],
   "source": [
    "# Create variables for hydrogen (h) and oxygen (o)\n",
    "# Given that the value of h = 1.008 g/mol and o = 16.00 g/mol\n",
    "\n",
    "h = 1.008 #g/mol\n",
    "o = 16.00 #g/mol\n",
    "\n",
    "molecular_mass = h + h + o # "
   ]
  },
  {
   "cell_type": "code",
   "execution_count": null,
   "id": "d5063eb3-351f-4605-ba26-09414b082ede",
   "metadata": {},
   "outputs": [],
   "source": [
    "# Can use 'print(molecular_mass)' or simply type 'molecular_mass' to see the result\n",
    "molecular_mass"
   ]
  },
  {
   "cell_type": "markdown",
   "id": "dc06d0aa-4812-4b93-9f98-e59c6118c19e",
   "metadata": {},
   "source": [
    "---\n",
    "# 🚀 Welldone! You have simple reached the final section of Emerging Proficiency!\n",
    "# 🚀 Now it is time for you to shine!! Perform the final tasks below by writing your codes in the \"Answer\" cells below.\n",
    "# 🚀 As a Capstone activity, you can attempt the mentimeter quiz to evaluate your emerging proficiency so far! All the best!"
   ]
  },
  {
   "cell_type": "markdown",
   "id": "ab0d356f-2c65-4329-b13a-ca6b1aead390",
   "metadata": {},
   "source": [
    "---\n",
    "---\n",
    "## 🚀 **Basic Physics Application - Task 1**\n",
    "---\n",
    "## **Task E3.2** - Now create a code that calculate the current , i (in Amperes) of an unknown gas using the Ideal Gas Law\n",
    "## Given voltage, v = 24 volts and resistance, r =  6 ohms\n",
    "## Use Ohm's law : v = ir\n",
    "## So, to find current , use i = v/r\n",
    "---\n",
    "## **In Python, we use \"+\" to Add , \"-\" to Subtract, \"*\" to Multiply, \"/\" to Divide**\n",
    "---\n",
    "---"
   ]
  },
  {
   "cell_type": "code",
   "execution_count": null,
   "id": "5b3a1e86-2ad0-4ce3-90b4-4acc975cb900",
   "metadata": {},
   "outputs": [],
   "source": [
    "#Answer\n",
    "# Write your code here!"
   ]
  },
  {
   "cell_type": "markdown",
   "id": "a0d96472-3d58-4c3b-b768-a7c80a3a81ed",
   "metadata": {},
   "source": [
    "---\n",
    "---\n",
    "🚀 **Basic Chemistry Application - Task 2**\n",
    "---\n",
    "### **Task E3.3** - Next, create a code that calculates the pressure, P (in Pascals) using the formula\n",
    "### PV = nRT\n",
    "### To find pressure , use P = (n * R * T)/v\n",
    "### Given that the values of n , R, T and v are :\n",
    "### n = 1 (number of moles)\n",
    "### R = 8.314 (Ideal gas constant in (JmolK))\n",
    "### T = 298 (temperature in Kelvin)\n",
    "---\n",
    "---"
   ]
  },
  {
   "cell_type": "code",
   "execution_count": null,
   "id": "32e5acb9-fc71-4352-a0a9-a924a4b4bac7",
   "metadata": {},
   "outputs": [],
   "source": [
    "#Answer\n",
    "# Write your code here!"
   ]
  },
  {
   "cell_type": "markdown",
   "id": "2f1a06b1-453b-460f-9b35-f8073a0953d6",
   "metadata": {},
   "source": [
    "## 🌟 Welldone! You have unlocked all the skills needed for Emerging Level!\n",
    "## 🌟 As a capstone activity, please go through the mentimeter quiz below by clicking the link! Good luck!!!"
   ]
  },
  {
   "cell_type": "markdown",
   "id": "6ee97770-a7e0-4381-b799-6bc8b043c388",
   "metadata": {},
   "source": [
    "---\n",
    "---\n",
    "#  💫💫💫💫💫💫💫💫💫💫💫💫💫💫💫💫💫💫💫💫💫💫💫💫💫💫💫💫💫💫💫💫💫💫💫💫💫💫\n",
    "#  **ASSESSMENT 1 - MENTIMETER FOR EMERGING LEVEL**\n",
    "## Please enter the quiz to evaluate yourself whether you are good to go to the next level!\n",
    "\n",
    "## https://www.menti.com/al536yddzs2a#\n",
    "#  💫💫💫💫💫💫💫💫💫💫💫💫💫💫💫💫💫💫💫💫💫💫💫💫💫💫💫💫💫💫💫💫💫💫💫💫💫💫\n",
    "---\n",
    "---\n"
   ]
  },
  {
   "cell_type": "markdown",
   "id": "5cb337db-7f42-4227-b64a-c41f48eab1fb",
   "metadata": {},
   "source": [
    "References\n",
    "1. J. Dyer, A. Hudon, K. Montpetit-Tourangeau, B. Charlin, S. Mamede and T. van Gog, BMC MEDICAL EDUCATION, 2015, 15.\n",
    "2. C.Selby, in Proceedings of the 10th Workshop in Primary and Secondary Computing Education, WIPSCE 2015, ed. J.GalEzer, S.Sentance and J.Vahrenhold, 2015, pp. 80-87.\n",
    "3. Guo, Philip & Kim, Juho & Rubin, Rob, Proceedings of the first ACM conference on Learning @ scale conference, 2014\n",
    "4. C. Hundhausen, A. Agrawal and P. Agarwal, ACM TRANSACTIONS ON COMPUTING EDUCATION, 2013, 13.\n",
    "5. X. Lin, Q. Sun and X. Zhang, DISTANCE EDUCATION, 2021, 42, 391-409.X. Lin, Q. Sun and X. Zhang, DISTANCE EDUCATION, 2021, 42, 391-409."
   ]
  },
  {
   "cell_type": "markdown",
   "id": "f4d3af21-6eaf-4bd8-82c3-e69ec6a65e38",
   "metadata": {
    "tags": []
   },
   "source": [
    "---\n",
    "---\n",
    "# **-END OF EMERGING LEVEL TRAINING SESSION-**\n",
    "---\n",
    "---"
   ]
  }
 ],
 "metadata": {
  "kernelspec": {
   "display_name": "Python 3 (ipykernel)",
   "language": "python",
   "name": "python3"
  },
  "language_info": {
   "codemirror_mode": {
    "name": "ipython",
    "version": 3
   },
   "file_extension": ".py",
   "mimetype": "text/x-python",
   "name": "python",
   "nbconvert_exporter": "python",
   "pygments_lexer": "ipython3",
   "version": "3.11.5"
  }
 },
 "nbformat": 4,
 "nbformat_minor": 5
}
